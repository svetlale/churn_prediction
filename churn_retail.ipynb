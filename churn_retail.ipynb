{
  "nbformat": 4,
  "nbformat_minor": 0,
  "metadata": {
    "colab": {
      "name": "churn_retail.ipynb\"",
      "provenance": [],
      "collapsed_sections": [],
      "toc_visible": true
    },
    "kernelspec": {
      "display_name": "Python 3",
      "name": "python3"
    }
  },
  "cells": [
    {
      "cell_type": "markdown",
      "metadata": {
        "id": "mCCvqJBzsNh8"
      },
      "source": [
        "# Настройка рабочей среды"
      ]
    },
    {
      "cell_type": "code",
      "metadata": {
        "colab": {
          "base_uri": "https://localhost:8080/"
        },
        "id": "iwmgixTpr57t",
        "outputId": "50704f6c-152a-4f90-eb02-dc7ec6ab858b"
      },
      "source": [
        "!apt-get install openjdk-8-jdk-headless -qq > /dev/null\n",
        "!wget https://downloads.apache.org/spark/spark-2.4.7/spark-2.4.7-bin-hadoop2.7.tgz\n",
        "!tar xf spark-2.4.7-bin-hadoop2.7.tgz"
      ],
      "execution_count": null,
      "outputs": [
        {
          "output_type": "stream",
          "text": [
            "--2021-02-05 10:08:29--  https://downloads.apache.org/spark/spark-2.4.7/spark-2.4.7-bin-hadoop2.7.tgz\n",
            "Resolving downloads.apache.org (downloads.apache.org)... 88.99.95.219, 2a01:4f8:10a:201a::2\n",
            "Connecting to downloads.apache.org (downloads.apache.org)|88.99.95.219|:443... connected.\n",
            "HTTP request sent, awaiting response... 200 OK\n",
            "Length: 233333392 (223M) [application/x-gzip]\n",
            "spark-2.4.7-bin-hadoop2.7.tgz: Operation not supported\n",
            "\n",
            "Cannot write to ‘spark-2.4.7-bin-hadoop2.7.tgz’ (Success).\n",
            "tar: spark-2.4.7-bin-hadoop2.7.tgz: Cannot open: No such file or directory\n",
            "tar: Error is not recoverable: exiting now\n"
          ],
          "name": "stdout"
        }
      ]
    },
    {
      "cell_type": "code",
      "metadata": {
        "id": "pRLbznjXsYEb"
      },
      "source": [
        "import os\n",
        "os.environ[\"JAVA_HOME\"] = \"/usr/lib/jvm/java-8-openjdk-amd64\"\n",
        "os.environ[\"SPARK_HOME\"] = \"/content/spark-2.4.7-bin-hadoop2.7\""
      ],
      "execution_count": null,
      "outputs": []
    },
    {
      "cell_type": "code",
      "metadata": {
        "colab": {
          "base_uri": "https://localhost:8080/"
        },
        "id": "ReNsvqvpsbOy",
        "outputId": "895f2689-f1c0-4874-d899-1af51a0ca4f1"
      },
      "source": [
        "! pip install findspark"
      ],
      "execution_count": null,
      "outputs": [
        {
          "output_type": "stream",
          "text": [
            "Requirement already satisfied: findspark in /usr/local/lib/python3.6/dist-packages (1.4.2)\n"
          ],
          "name": "stdout"
        }
      ]
    },
    {
      "cell_type": "code",
      "metadata": {
        "id": "KOMe_Gm9sbYH"
      },
      "source": [
        "import findspark\n",
        "findspark.init()\n",
        "from pyspark.sql import SparkSession\n",
        "spark = SparkSession.builder.master(\"local[*]\").getOrCreate()"
      ],
      "execution_count": null,
      "outputs": []
    },
    {
      "cell_type": "code",
      "metadata": {
        "colab": {
          "base_uri": "https://localhost:8080/"
        },
        "id": "LTmj_Gz2sbgk",
        "outputId": "6457d4ae-dee6-4e9e-f15e-fbe63e6adafe"
      },
      "source": [
        "from google.colab import drive\n",
        "drive.mount('/gdrive')\n",
        "%cd /gdrive"
      ],
      "execution_count": null,
      "outputs": [
        {
          "output_type": "stream",
          "text": [
            "Drive already mounted at /gdrive; to attempt to forcibly remount, call drive.mount(\"/gdrive\", force_remount=True).\n",
            "/gdrive\n"
          ],
          "name": "stdout"
        }
      ]
    },
    {
      "cell_type": "code",
      "metadata": {
        "id": "eULeJflqsf_6"
      },
      "source": [
        "import pandas as pd\n",
        "import numpy as np\n",
        "pd.set_option('display.max_columns', None)\n",
        "\n",
        "import seaborn as sns\n",
        "import matplotlib.pyplot as plt\n",
        "import matplotlib.dates as mdates\n",
        "\n",
        "from pyspark.sql.functions import *\n",
        "from pyspark.sql.types import *\n",
        "\n",
        "from datetime import datetime, date"
      ],
      "execution_count": null,
      "outputs": []
    },
    {
      "cell_type": "markdown",
      "metadata": {
        "id": "D32GaITptKse"
      },
      "source": [
        "# Описание задания\n",
        "Данные:\n",
        "- чековые данные (transactions.parquet, для чтения через pandas дополнительно нужно установить библиотеку pyarrow)\n",
        "- справочник товаров (materials.csv)\n",
        "- справочник магазинов (plants.csv)\n",
        "- справочник клиентов (clients.csv)\n",
        "\n",
        "Более подробное описание данных дано в файле data description.\n",
        "\n",
        "Цели: \n",
        "1. проанализировать данные и определить оптимальную методологию определения отточных клиентов\n",
        "2. разработать модель вероятности оттока клиентов по выбранной вами методологии\n",
        "3. дать интерпретацию разработанной модели, ответить на вопросы: какие признаки наиболее влияют на отток клиентов\n",
        "Рекомендую подумать о репрезентативности полученных вероятностей, насколько они соответствуют действительности."
      ]
    },
    {
      "cell_type": "code",
      "metadata": {
        "colab": {
          "base_uri": "https://localhost:8080/",
          "height": 793
        },
        "id": "qz4pawVPtP2a",
        "outputId": "ca836eeb-69f4-4aac-cfbe-b40d069a41eb"
      },
      "source": [
        "descriptinon = pd.read_excel('/gdrive/MyDrive/Lenta/data description.xlsx')\n",
        "descriptinon.drop('Key', axis=1)"
      ],
      "execution_count": null,
      "outputs": [
        {
          "output_type": "execute_result",
          "data": {
            "text/html": [
              "<div>\n",
              "<style scoped>\n",
              "    .dataframe tbody tr th:only-of-type {\n",
              "        vertical-align: middle;\n",
              "    }\n",
              "\n",
              "    .dataframe tbody tr th {\n",
              "        vertical-align: top;\n",
              "    }\n",
              "\n",
              "    .dataframe thead th {\n",
              "        text-align: right;\n",
              "    }\n",
              "</style>\n",
              "<table border=\"1\" class=\"dataframe\">\n",
              "  <thead>\n",
              "    <tr style=\"text-align: right;\">\n",
              "      <th></th>\n",
              "      <th>Table</th>\n",
              "      <th>Field</th>\n",
              "      <th>Meaning</th>\n",
              "    </tr>\n",
              "  </thead>\n",
              "  <tbody>\n",
              "    <tr>\n",
              "      <th>0</th>\n",
              "      <td>transactions</td>\n",
              "      <td>chq_id</td>\n",
              "      <td>ID of transaction</td>\n",
              "    </tr>\n",
              "    <tr>\n",
              "      <th>1</th>\n",
              "      <td>transactions</td>\n",
              "      <td>plant</td>\n",
              "      <td>ID of store</td>\n",
              "    </tr>\n",
              "    <tr>\n",
              "      <th>2</th>\n",
              "      <td>transactions</td>\n",
              "      <td>chq_date</td>\n",
              "      <td>Date of transaction</td>\n",
              "    </tr>\n",
              "    <tr>\n",
              "      <th>3</th>\n",
              "      <td>transactions</td>\n",
              "      <td>chq_position</td>\n",
              "      <td>Position of material in transaction</td>\n",
              "    </tr>\n",
              "    <tr>\n",
              "      <th>4</th>\n",
              "      <td>transactions</td>\n",
              "      <td>client_id</td>\n",
              "      <td>ID of client</td>\n",
              "    </tr>\n",
              "    <tr>\n",
              "      <th>5</th>\n",
              "      <td>transactions</td>\n",
              "      <td>material</td>\n",
              "      <td>ID of material (item)</td>\n",
              "    </tr>\n",
              "    <tr>\n",
              "      <th>6</th>\n",
              "      <td>transactions</td>\n",
              "      <td>sales_count</td>\n",
              "      <td>Count of item in the check position</td>\n",
              "    </tr>\n",
              "    <tr>\n",
              "      <th>7</th>\n",
              "      <td>transactions</td>\n",
              "      <td>sales_sum</td>\n",
              "      <td>Amount in rubles by the check position</td>\n",
              "    </tr>\n",
              "    <tr>\n",
              "      <th>8</th>\n",
              "      <td>transactions</td>\n",
              "      <td>is_promo</td>\n",
              "      <td>Fact of selling the position of the check for ...</td>\n",
              "    </tr>\n",
              "    <tr>\n",
              "      <th>9</th>\n",
              "      <td>plants</td>\n",
              "      <td>plant</td>\n",
              "      <td>ID of store</td>\n",
              "    </tr>\n",
              "    <tr>\n",
              "      <th>10</th>\n",
              "      <td>plants</td>\n",
              "      <td>plant_type</td>\n",
              "      <td>Type of store (HM - hypermarket, SM - supermar...</td>\n",
              "    </tr>\n",
              "    <tr>\n",
              "      <th>11</th>\n",
              "      <td>plants</td>\n",
              "      <td>city</td>\n",
              "      <td>City where the store located</td>\n",
              "    </tr>\n",
              "    <tr>\n",
              "      <th>12</th>\n",
              "      <td>clients</td>\n",
              "      <td>client_id</td>\n",
              "      <td>ID of client</td>\n",
              "    </tr>\n",
              "    <tr>\n",
              "      <th>13</th>\n",
              "      <td>clients</td>\n",
              "      <td>gender</td>\n",
              "      <td>Gender of client</td>\n",
              "    </tr>\n",
              "    <tr>\n",
              "      <th>14</th>\n",
              "      <td>clients</td>\n",
              "      <td>city</td>\n",
              "      <td>City where the client makes the most purchases</td>\n",
              "    </tr>\n",
              "    <tr>\n",
              "      <th>15</th>\n",
              "      <td>clients</td>\n",
              "      <td>birthyear</td>\n",
              "      <td>Year of birth</td>\n",
              "    </tr>\n",
              "    <tr>\n",
              "      <th>16</th>\n",
              "      <td>materials</td>\n",
              "      <td>material</td>\n",
              "      <td>ID of material (item)</td>\n",
              "    </tr>\n",
              "    <tr>\n",
              "      <th>17</th>\n",
              "      <td>materials</td>\n",
              "      <td>hier_level_1</td>\n",
              "      <td>1st level of items hierarchy</td>\n",
              "    </tr>\n",
              "    <tr>\n",
              "      <th>18</th>\n",
              "      <td>materials</td>\n",
              "      <td>hier_level_2</td>\n",
              "      <td>2nd level of items hierarchy</td>\n",
              "    </tr>\n",
              "    <tr>\n",
              "      <th>19</th>\n",
              "      <td>materials</td>\n",
              "      <td>hier_level_3</td>\n",
              "      <td>3rd level of items hierarchy</td>\n",
              "    </tr>\n",
              "    <tr>\n",
              "      <th>20</th>\n",
              "      <td>materials</td>\n",
              "      <td>hier_level_4</td>\n",
              "      <td>4th level of items hierarchy</td>\n",
              "    </tr>\n",
              "    <tr>\n",
              "      <th>21</th>\n",
              "      <td>materials</td>\n",
              "      <td>vendor</td>\n",
              "      <td>Vendor of item</td>\n",
              "    </tr>\n",
              "    <tr>\n",
              "      <th>22</th>\n",
              "      <td>materials</td>\n",
              "      <td>is_private_label</td>\n",
              "      <td>Own brand mark</td>\n",
              "    </tr>\n",
              "    <tr>\n",
              "      <th>23</th>\n",
              "      <td>materials</td>\n",
              "      <td>is_alco</td>\n",
              "      <td>Sign of alcoholic beverages</td>\n",
              "    </tr>\n",
              "  </tbody>\n",
              "</table>\n",
              "</div>"
            ],
            "text/plain": [
              "           Table             Field  \\\n",
              "0   transactions            chq_id   \n",
              "1   transactions             plant   \n",
              "2   transactions          chq_date   \n",
              "3   transactions      chq_position   \n",
              "4   transactions         client_id   \n",
              "5   transactions          material   \n",
              "6   transactions       sales_count   \n",
              "7   transactions         sales_sum   \n",
              "8   transactions          is_promo   \n",
              "9         plants             plant   \n",
              "10        plants        plant_type   \n",
              "11        plants              city   \n",
              "12       clients         client_id   \n",
              "13       clients            gender   \n",
              "14       clients              city   \n",
              "15       clients         birthyear   \n",
              "16     materials          material   \n",
              "17     materials      hier_level_1   \n",
              "18     materials      hier_level_2   \n",
              "19     materials      hier_level_3   \n",
              "20     materials      hier_level_4   \n",
              "21     materials            vendor   \n",
              "22     materials  is_private_label   \n",
              "23     materials           is_alco   \n",
              "\n",
              "                                              Meaning  \n",
              "0                                   ID of transaction  \n",
              "1                                         ID of store  \n",
              "2                                 Date of transaction  \n",
              "3                 Position of material in transaction  \n",
              "4                                        ID of client  \n",
              "5                               ID of material (item)  \n",
              "6                 Count of item in the check position  \n",
              "7              Amount in rubles by the check position  \n",
              "8   Fact of selling the position of the check for ...  \n",
              "9                                         ID of store  \n",
              "10  Type of store (HM - hypermarket, SM - supermar...  \n",
              "11                       City where the store located  \n",
              "12                                       ID of client  \n",
              "13                                   Gender of client  \n",
              "14     City where the client makes the most purchases  \n",
              "15                                      Year of birth  \n",
              "16                              ID of material (item)  \n",
              "17                       1st level of items hierarchy  \n",
              "18                       2nd level of items hierarchy  \n",
              "19                       3rd level of items hierarchy  \n",
              "20                       4th level of items hierarchy  \n",
              "21                                     Vendor of item  \n",
              "22                                     Own brand mark  \n",
              "23                        Sign of alcoholic beverages  "
            ]
          },
          "metadata": {
            "tags": []
          },
          "execution_count": 29
        }
      ]
    },
    {
      "cell_type": "markdown",
      "metadata": {
        "id": "DG7WZODt172V"
      },
      "source": [
        "# Загрузка данных\n",
        "\n",
        "Т.к. из-за нехватки памяти коллаб не смог прочитать файл с транзакциями, то все данные были объединены в один файл data в Jupyter (data_reading.ipynb)"
      ]
    },
    {
      "cell_type": "code",
      "metadata": {
        "colab": {
          "base_uri": "https://localhost:8080/"
        },
        "id": "_VUfEtnUvV6W",
        "outputId": "2273c91c-48c8-48cc-e62f-39cd43505fa1"
      },
      "source": [
        "# Загружаем сджойненый ранее датафрейм\n",
        "%%time\n",
        "data = spark.read.csv('/gdrive/MyDrive/Lenta/processing_results/transactions_materials_plants.csv', inferSchema=True, header=True)\n",
        "data.show(5)"
      ],
      "execution_count": null,
      "outputs": [
        {
          "output_type": "stream",
          "text": [
            "+--------------------+--------------------+-------------------+------------+--------------------+--------------------+-----------+---------+--------+----------+--------------+------------+--------------------+--------------------+--------------------+--------------------+----------------+-------+\n",
            "|              chq_id|               plant|           chq_date|chq_position|           client_id|            material|sales_count|sales_sum|is_promo|plant_type|          city|hier_level_1|        hier_level_2|        hier_level_3|        hier_level_4|              vendor|is_private_label|is_alco|\n",
            "+--------------------+--------------------+-------------------+------------+--------------------+--------------------+-----------+---------+--------+----------+--------------+------------+--------------------+--------------------+--------------------+--------------------+----------------+-------+\n",
            "|ce5b3d1c531348c5d...|7cd86ecb09aa48c6e...|2016-11-01 00:00:00|           4|90fca68123e692a00...|232cfe8b28970434f...|        2.0|   146.98|       0|        HM|St. Petersburg|        FOOD|8e296a067a3756337...|4e0223a87610176ef...|7b6ca9e5defffac17...|a7f03c8242ae70012...|             0.0|    0.0|\n",
            "|ce5b3d1c531348c5d...|7cd86ecb09aa48c6e...|2016-11-01 00:00:00|           3|90fca68123e692a00...|12ec64451b8e426db...|        1.0|   249.99|       1|        HM|St. Petersburg|        FOOD|1ff1de774005f8da1...|bd7db7397f7d83052...|8d823107906fc08b5...|8cb0bf35bf8d49791...|             0.0|    0.0|\n",
            "|ce5b3d1c531348c5d...|7cd86ecb09aa48c6e...|2016-11-01 00:00:00|          12|90fca68123e692a00...|1212ff8ecf53aebef...|        1.0|    47.99|       1|        HM|St. Petersburg|        FOOD|33e75ff09dd601bbe...|2eb5657d37f474e4c...|007496ff404d0a1d4...|a6945e42a5360a2dd...|             0.0|    1.0|\n",
            "|ce5b3d1c531348c5d...|7cd86ecb09aa48c6e...|2016-11-01 00:00:00|          13|90fca68123e692a00...|1212ff8ecf53aebef...|        1.0|    47.99|       1|        HM|St. Petersburg|        FOOD|33e75ff09dd601bbe...|2eb5657d37f474e4c...|007496ff404d0a1d4...|a6945e42a5360a2dd...|             0.0|    1.0|\n",
            "|ce5b3d1c531348c5d...|7cd86ecb09aa48c6e...|2016-11-01 00:00:00|          11|90fca68123e692a00...|571c6d3b559db8445...|        2.0|    53.98|       1|        HM|St. Petersburg|        FOOD|8e296a067a3756337...|f8b932c70d0b2e6bf...|e1574017ea2facc6f...|4c3099f555b96b649...|             0.0|    0.0|\n",
            "+--------------------+--------------------+-------------------+------------+--------------------+--------------------+-----------+---------+--------+----------+--------------+------------+--------------------+--------------------+--------------------+--------------------+----------------+-------+\n",
            "only showing top 5 rows\n",
            "\n",
            "CPU times: user 55 ms, sys: 13.5 ms, total: 68.5 ms\n",
            "Wall time: 4min 58s\n"
          ],
          "name": "stdout"
        }
      ]
    },
    {
      "cell_type": "markdown",
      "metadata": {
        "id": "oJ9oQ_UO4KTY"
      },
      "source": [
        "# EDA"
      ]
    },
    {
      "cell_type": "markdown",
      "metadata": {
        "id": "u1KaNjMh4a_U"
      },
      "source": [
        "## Исторические данные по сети"
      ]
    },
    {
      "cell_type": "code",
      "metadata": {
        "colab": {
          "base_uri": "https://localhost:8080/"
        },
        "id": "kA0VW6bauRzj",
        "outputId": "4294a724-362f-4682-bf08-2cc091d1f1eb"
      },
      "source": [
        "%%time\n",
        "#Изменение формата времени\n",
        "data = data.withColumn('chq_date', to_date(col('chq_date'),'yyyy-MM-dd'))"
      ],
      "execution_count": null,
      "outputs": [
        {
          "output_type": "stream",
          "text": [
            "CPU times: user 2.84 ms, sys: 0 ns, total: 2.84 ms\n",
            "Wall time: 33 ms\n"
          ],
          "name": "stdout"
        }
      ]
    },
    {
      "cell_type": "code",
      "metadata": {
        "colab": {
          "base_uri": "https://localhost:8080/"
        },
        "id": "oW0gldm_1zH8",
        "outputId": "8acffb4d-909e-44e2-9623-c4b3464ae01e"
      },
      "source": [
        "%%time\n",
        "# Анализ показателй по сети за все время\n",
        "year_dinamic = data.groupBy('chq_date').agg(sum('sales_sum'),\n",
        "                                            countDistinct('client_id')\n",
        "                                            ).orderBy('chq_date')\n",
        "year_dinamic_pd = year_dinamic.toPandas()"
      ],
      "execution_count": null,
      "outputs": [
        {
          "output_type": "stream",
          "text": [
            "CPU times: user 78.1 ms, sys: 14.6 ms, total: 92.7 ms\n",
            "Wall time: 5min\n"
          ],
          "name": "stdout"
        }
      ]
    },
    {
      "cell_type": "code",
      "metadata": {
        "colab": {
          "base_uri": "https://localhost:8080/",
          "height": 427
        },
        "id": "qmgOOWfP5BOk",
        "outputId": "0b395f4f-006a-43ca-d465-3791edcfdd9b"
      },
      "source": [
        "# масштаб для графика\n",
        "year_dinamic_pd['sum(sales_sum)'] = year_dinamic_pd['sum(sales_sum)'] / 1000000\n",
        "year_dinamic_pd['count(DISTINCT client_id)'] = year_dinamic_pd['count(DISTINCT client_id)'] / 1000\n",
        "\n",
        "# график\n",
        "plt.figure(figsize=(20,8))\n",
        "\n",
        "locator = mdates.MonthLocator()\n",
        "fmt = mdates.DateFormatter('%b')\n",
        "\n",
        "plt.plot( 'chq_date', 'sum(sales_sum)', data=year_dinamic_pd, color='green', linestyle='--', label='Продажи, млн руб.')\n",
        "plt.plot( 'chq_date', 'count(DISTINCT client_id)', data=year_dinamic_pd, color='red', label='Количество клиентов, тыс.')\n",
        "\n",
        "axes = plt.gca()\n",
        "axes.xaxis.set_major_locator(locator)\n",
        "axes.xaxis.set_major_formatter(fmt)\n",
        "\n",
        "plt.grid(axis='y', ls='--')\n",
        "plt.legend()\n",
        "plt.show()\n"
      ],
      "execution_count": null,
      "outputs": [
        {
          "output_type": "display_data",
          "data": {
            "image/png": "[encoded data removed]",
            "text/plain": [
              "<Figure size 1440x576 with 1 Axes>"
            ]
          },
          "metadata": {
            "tags": [],
            "needs_background": "light"
          }
        }
      ]
    },
    {
      "cell_type": "code",
      "metadata": {
        "id": "kmsnFlfl-VlH"
      },
      "source": [
        "del year_dinamic_pd, year_dinamic"
      ],
      "execution_count": null,
      "outputs": []
    },
    {
      "cell_type": "markdown",
      "metadata": {
        "id": "HFbbrqqS7smX"
      },
      "source": [
        "- данные представлены накопительно за год (октябрь 2016 - октябрь 2017) по 100 тыс клиентов\n",
        "- в апреле заметен резкий всплеск и затем выравнивание по объему продаж и количеству клиентов, что похоже на анамалию (предположительно является особенностью работы системы)\n",
        "- временной ряд имеет ярко выраженную цикличность с еженедельными пиками в выходные дни\n",
        "- заметно снижение количества транзакций в июне-июле 2017 года, при этом эффект на объем продаж не такой значительный\n",
        "- в целом по году среднее количество совершаемых транзакций в день колеблется в районе 7-7.5 тыс, средний товарооборот 10-11 млн. руб "
      ]
    },
    {
      "cell_type": "markdown",
      "metadata": {
        "id": "Uq1tId7d-C46"
      },
      "source": [
        "## Оценка потребителей\n",
        "- демографическая (пол, год рождения, город проживания)\n",
        "- покупательская активность "
      ]
    },
    {
      "cell_type": "markdown",
      "metadata": {
        "id": "SIf4_bzG_Ioh"
      },
      "source": [
        "### Демографические данные"
      ]
    },
    {
      "cell_type": "code",
      "metadata": {
        "colab": {
          "base_uri": "https://localhost:8080/"
        },
        "id": "wzfSgX7a91SO",
        "outputId": "12cb0e51-327a-41f9-a018-693cb7249e65"
      },
      "source": [
        "clients = pd.read_csv('/gdrive/MyDrive/Lenta/data/clients.csv')\n",
        "clients.shape"
      ],
      "execution_count": null,
      "outputs": [
        {
          "output_type": "execute_result",
          "data": {
            "text/plain": [
              "(99995, 4)"
            ]
          },
          "metadata": {
            "tags": []
          },
          "execution_count": 35
        }
      ]
    },
    {
      "cell_type": "code",
      "metadata": {
        "colab": {
          "base_uri": "https://localhost:8080/",
          "height": 204
        },
        "id": "IdXW_VyPAey3",
        "outputId": "4f47fec2-d752-4100-869a-7530c616dbda"
      },
      "source": [
        "clients.head()"
      ],
      "execution_count": null,
      "outputs": [
        {
          "output_type": "execute_result",
          "data": {
            "text/html": [
              "<div>\n",
              "<style scoped>\n",
              "    .dataframe tbody tr th:only-of-type {\n",
              "        vertical-align: middle;\n",
              "    }\n",
              "\n",
              "    .dataframe tbody tr th {\n",
              "        vertical-align: top;\n",
              "    }\n",
              "\n",
              "    .dataframe thead th {\n",
              "        text-align: right;\n",
              "    }\n",
              "</style>\n",
              "<table border=\"1\" class=\"dataframe\">\n",
              "  <thead>\n",
              "    <tr style=\"text-align: right;\">\n",
              "      <th></th>\n",
              "      <th>client_id</th>\n",
              "      <th>gender</th>\n",
              "      <th>city</th>\n",
              "      <th>birthyear</th>\n",
              "    </tr>\n",
              "  </thead>\n",
              "  <tbody>\n",
              "    <tr>\n",
              "      <th>0</th>\n",
              "      <td>1a47d62dddacc03fe90c15652f7ae1a4</td>\n",
              "      <td>M</td>\n",
              "      <td>Other</td>\n",
              "      <td>1990.0</td>\n",
              "    </tr>\n",
              "    <tr>\n",
              "      <th>1</th>\n",
              "      <td>9cb909f701d25d548e953bff81192b56</td>\n",
              "      <td>F</td>\n",
              "      <td>Other</td>\n",
              "      <td>1969.0</td>\n",
              "    </tr>\n",
              "    <tr>\n",
              "      <th>2</th>\n",
              "      <td>d5da0f5b841b4f83383202807995027a</td>\n",
              "      <td>M</td>\n",
              "      <td>Other</td>\n",
              "      <td>1976.0</td>\n",
              "    </tr>\n",
              "    <tr>\n",
              "      <th>3</th>\n",
              "      <td>13ed7f16810b17b8cee6de834ac79a48</td>\n",
              "      <td>F</td>\n",
              "      <td>Moscow</td>\n",
              "      <td>1966.0</td>\n",
              "    </tr>\n",
              "    <tr>\n",
              "      <th>4</th>\n",
              "      <td>215fe3ea7d5bf0415e5504e2a7f33551</td>\n",
              "      <td>F</td>\n",
              "      <td>Other</td>\n",
              "      <td>1988.0</td>\n",
              "    </tr>\n",
              "  </tbody>\n",
              "</table>\n",
              "</div>"
            ],
            "text/plain": [
              "                          client_id gender    city  birthyear\n",
              "0  1a47d62dddacc03fe90c15652f7ae1a4      M   Other     1990.0\n",
              "1  9cb909f701d25d548e953bff81192b56      F   Other     1969.0\n",
              "2  d5da0f5b841b4f83383202807995027a      M   Other     1976.0\n",
              "3  13ed7f16810b17b8cee6de834ac79a48      F  Moscow     1966.0\n",
              "4  215fe3ea7d5bf0415e5504e2a7f33551      F   Other     1988.0"
            ]
          },
          "metadata": {
            "tags": []
          },
          "execution_count": 36
        }
      ]
    },
    {
      "cell_type": "code",
      "metadata": {
        "colab": {
          "base_uri": "https://localhost:8080/"
        },
        "id": "eDDx27InDGBF",
        "outputId": "7be096d5-c0d2-48f1-dcd8-b07aea676c4c"
      },
      "source": [
        "clients.info()"
      ],
      "execution_count": null,
      "outputs": [
        {
          "output_type": "stream",
          "text": [
            "<class 'pandas.core.frame.DataFrame'>\n",
            "RangeIndex: 99995 entries, 0 to 99994\n",
            "Data columns (total 4 columns):\n",
            " #   Column     Non-Null Count  Dtype  \n",
            "---  ------     --------------  -----  \n",
            " 0   client_id  99995 non-null  object \n",
            " 1   gender     99640 non-null  object \n",
            " 2   city       99995 non-null  object \n",
            " 3   birthyear  98219 non-null  float64\n",
            "dtypes: float64(1), object(3)\n",
            "memory usage: 3.1+ MB\n"
          ],
          "name": "stdout"
        }
      ]
    },
    {
      "cell_type": "markdown",
      "metadata": {
        "id": "0C9jpdO1bm2x"
      },
      "source": [
        "#### Client_id"
      ]
    },
    {
      "cell_type": "code",
      "metadata": {
        "colab": {
          "base_uri": "https://localhost:8080/"
        },
        "id": "GPXgQF4_bcrL",
        "outputId": "6dbd6eec-8546-4692-f6a8-1d65eae9410d"
      },
      "source": [
        "clients['client_id'].nunique()"
      ],
      "execution_count": null,
      "outputs": [
        {
          "output_type": "execute_result",
          "data": {
            "text/plain": [
              "99995"
            ]
          },
          "metadata": {
            "tags": []
          },
          "execution_count": 38
        }
      ]
    },
    {
      "cell_type": "markdown",
      "metadata": {
        "id": "3yAJbQmJbwee"
      },
      "source": [
        "Все наблюдения в признаке уникальны и не несут ценности для анализа."
      ]
    },
    {
      "cell_type": "markdown",
      "metadata": {
        "id": "_T9EUg1SKxfs"
      },
      "source": [
        "#### Gender"
      ]
    },
    {
      "cell_type": "code",
      "metadata": {
        "colab": {
          "base_uri": "https://localhost:8080/"
        },
        "id": "lnPKwIOPLLCz",
        "outputId": "e0163296-f403-4f2a-8bce-418b6447c971"
      },
      "source": [
        "clients['gender'].unique()"
      ],
      "execution_count": null,
      "outputs": [
        {
          "output_type": "execute_result",
          "data": {
            "text/plain": [
              "array(['M', 'F', nan], dtype=object)"
            ]
          },
          "metadata": {
            "tags": []
          },
          "execution_count": 39
        }
      ]
    },
    {
      "cell_type": "markdown",
      "metadata": {
        "id": "L7iXiEUWLlIH"
      },
      "source": [
        "- признак содержит менее 1% пропусков, которые можно заменить средним значением\n",
        "- признак бинальный, сделаем замену М -> 0, F -> 1"
      ]
    },
    {
      "cell_type": "code",
      "metadata": {
        "id": "I8NxOARwOyPy"
      },
      "source": [
        "clients['gender'].fillna(clients['gender'].mode()[0], inplace=True)\n",
        "clients['gender'].replace(['M', 'F'], [0, 1], inplace=True)"
      ],
      "execution_count": null,
      "outputs": []
    },
    {
      "cell_type": "code",
      "metadata": {
        "colab": {
          "base_uri": "https://localhost:8080/",
          "height": 295
        },
        "id": "dmA4GreuMb5k",
        "outputId": "7e842b60-e564-4d3d-b2f7-0b73165d83e7"
      },
      "source": [
        "sns.countplot(data=clients, x='gender')\n",
        "plt.title('Распределение клиентов относительно пола')\n",
        "plt.show()"
      ],
      "execution_count": null,
      "outputs": [
        {
          "output_type": "display_data",
          "data": {
            "image/png": "[encoded data removed]",
            "text/plain": [
              "<Figure size 432x288 with 1 Axes>"
            ]
          },
          "metadata": {
            "tags": [],
            "needs_background": "light"
          }
        }
      ]
    },
    {
      "cell_type": "markdown",
      "metadata": {
        "id": "_WDtQNJZS2zh"
      },
      "source": [
        "Доля мужчин составляет 40%, доля женщи 60%."
      ]
    },
    {
      "cell_type": "markdown",
      "metadata": {
        "id": "ISltUJbGYPCT"
      },
      "source": [
        "#### City"
      ]
    },
    {
      "cell_type": "code",
      "metadata": {
        "colab": {
          "base_uri": "https://localhost:8080/"
        },
        "id": "oMnnYZFWYMKG",
        "outputId": "812bca8d-cfff-462d-fa84-5a18fcbd10e7"
      },
      "source": [
        "clients['city'].unique()"
      ],
      "execution_count": null,
      "outputs": [
        {
          "output_type": "execute_result",
          "data": {
            "text/plain": [
              "array(['Other', 'Moscow', 'St. Petersburg'], dtype=object)"
            ]
          },
          "metadata": {
            "tags": []
          },
          "execution_count": 42
        }
      ]
    },
    {
      "cell_type": "code",
      "metadata": {
        "colab": {
          "base_uri": "https://localhost:8080/",
          "height": 295
        },
        "id": "-FpaIhlEYo7W",
        "outputId": "a75abd1f-6b75-4654-c8da-cedbac67479e"
      },
      "source": [
        "sns.countplot(data=clients, x='city')\n",
        "plt.title('Распределение клиентов относительно города')\n",
        "plt.show()"
      ],
      "execution_count": null,
      "outputs": [
        {
          "output_type": "display_data",
          "data": {
            "image/png": "[encoded data removed]",
            "text/plain": [
              "<Figure size 432x288 with 1 Axes>"
            ]
          },
          "metadata": {
            "tags": [],
            "needs_background": "light"
          }
        }
      ]
    },
    {
      "cell_type": "markdown",
      "metadata": {
        "id": "1PYulOYyY2Vi"
      },
      "source": [
        "Из распределения видно, что около 5% клиентов проживают в Москве, 13% в Санкт Петербурге и 82% в регионах. Кроме этого фича является категориальной и необходимо ее закодировать (One Hot Encoding)"
      ]
    },
    {
      "cell_type": "code",
      "metadata": {
        "id": "c_xcafARdhf0"
      },
      "source": [
        "one_hot = pd.get_dummies(clients['city'])\n",
        "clients.drop('city',axis = 1, inplace=True)\n",
        "clients = clients.join(one_hot)"
      ],
      "execution_count": null,
      "outputs": []
    },
    {
      "cell_type": "code",
      "metadata": {
        "colab": {
          "base_uri": "https://localhost:8080/",
          "height": 204
        },
        "id": "6VU7AUOXefrV",
        "outputId": "0b303612-a925-4a57-9f16-00d744222f24"
      },
      "source": [
        "clients.head()"
      ],
      "execution_count": null,
      "outputs": [
        {
          "output_type": "execute_result",
          "data": {
            "text/html": [
              "<div>\n",
              "<style scoped>\n",
              "    .dataframe tbody tr th:only-of-type {\n",
              "        vertical-align: middle;\n",
              "    }\n",
              "\n",
              "    .dataframe tbody tr th {\n",
              "        vertical-align: top;\n",
              "    }\n",
              "\n",
              "    .dataframe thead th {\n",
              "        text-align: right;\n",
              "    }\n",
              "</style>\n",
              "<table border=\"1\" class=\"dataframe\">\n",
              "  <thead>\n",
              "    <tr style=\"text-align: right;\">\n",
              "      <th></th>\n",
              "      <th>client_id</th>\n",
              "      <th>gender</th>\n",
              "      <th>birthyear</th>\n",
              "      <th>Moscow</th>\n",
              "      <th>Other</th>\n",
              "      <th>St. Petersburg</th>\n",
              "    </tr>\n",
              "  </thead>\n",
              "  <tbody>\n",
              "    <tr>\n",
              "      <th>0</th>\n",
              "      <td>1a47d62dddacc03fe90c15652f7ae1a4</td>\n",
              "      <td>0</td>\n",
              "      <td>1990.0</td>\n",
              "      <td>0</td>\n",
              "      <td>1</td>\n",
              "      <td>0</td>\n",
              "    </tr>\n",
              "    <tr>\n",
              "      <th>1</th>\n",
              "      <td>9cb909f701d25d548e953bff81192b56</td>\n",
              "      <td>1</td>\n",
              "      <td>1969.0</td>\n",
              "      <td>0</td>\n",
              "      <td>1</td>\n",
              "      <td>0</td>\n",
              "    </tr>\n",
              "    <tr>\n",
              "      <th>2</th>\n",
              "      <td>d5da0f5b841b4f83383202807995027a</td>\n",
              "      <td>0</td>\n",
              "      <td>1976.0</td>\n",
              "      <td>0</td>\n",
              "      <td>1</td>\n",
              "      <td>0</td>\n",
              "    </tr>\n",
              "    <tr>\n",
              "      <th>3</th>\n",
              "      <td>13ed7f16810b17b8cee6de834ac79a48</td>\n",
              "      <td>1</td>\n",
              "      <td>1966.0</td>\n",
              "      <td>1</td>\n",
              "      <td>0</td>\n",
              "      <td>0</td>\n",
              "    </tr>\n",
              "    <tr>\n",
              "      <th>4</th>\n",
              "      <td>215fe3ea7d5bf0415e5504e2a7f33551</td>\n",
              "      <td>1</td>\n",
              "      <td>1988.0</td>\n",
              "      <td>0</td>\n",
              "      <td>1</td>\n",
              "      <td>0</td>\n",
              "    </tr>\n",
              "  </tbody>\n",
              "</table>\n",
              "</div>"
            ],
            "text/plain": [
              "                          client_id  gender  birthyear  Moscow  Other  \\\n",
              "0  1a47d62dddacc03fe90c15652f7ae1a4       0     1990.0       0      1   \n",
              "1  9cb909f701d25d548e953bff81192b56       1     1969.0       0      1   \n",
              "2  d5da0f5b841b4f83383202807995027a       0     1976.0       0      1   \n",
              "3  13ed7f16810b17b8cee6de834ac79a48       1     1966.0       1      0   \n",
              "4  215fe3ea7d5bf0415e5504e2a7f33551       1     1988.0       0      1   \n",
              "\n",
              "   St. Petersburg  \n",
              "0               0  \n",
              "1               0  \n",
              "2               0  \n",
              "3               0  \n",
              "4               0  "
            ]
          },
          "metadata": {
            "tags": []
          },
          "execution_count": 45
        }
      ]
    },
    {
      "cell_type": "markdown",
      "metadata": {
        "id": "YZRBgBm_TD3G"
      },
      "source": [
        "#### Birthyear"
      ]
    },
    {
      "cell_type": "markdown",
      "metadata": {
        "id": "EOxsXjwITUWe"
      },
      "source": [
        "Переведем признак в возраст (относительно даты наблюдения)"
      ]
    },
    {
      "cell_type": "code",
      "metadata": {
        "id": "ZtI4lWf9AeGh"
      },
      "source": [
        "clients['age'] = (2017 - clients['birthyear'])\n",
        "clients.drop('birthyear', axis=1, inplace=True)"
      ],
      "execution_count": null,
      "outputs": []
    },
    {
      "cell_type": "code",
      "metadata": {
        "colab": {
          "base_uri": "https://localhost:8080/"
        },
        "id": "ueMp02__iFxx",
        "outputId": "600d0aa7-1ffd-4caa-ec5c-a3a70e978bb0"
      },
      "source": [
        "clients['age'].describe()"
      ],
      "execution_count": null,
      "outputs": [
        {
          "output_type": "execute_result",
          "data": {
            "text/plain": [
              "count    98219.000000\n",
              "mean        41.874037\n",
              "std         14.964637\n",
              "min        -32.000000\n",
              "25%         30.000000\n",
              "50%         40.000000\n",
              "75%         53.000000\n",
              "max        117.000000\n",
              "Name: age, dtype: float64"
            ]
          },
          "metadata": {
            "tags": []
          },
          "execution_count": 47
        }
      ]
    },
    {
      "cell_type": "code",
      "metadata": {
        "colab": {
          "base_uri": "https://localhost:8080/"
        },
        "id": "1diCbZ_8iZY6",
        "outputId": "bde9f750-dcef-49db-d6f8-49765c7bd39c"
      },
      "source": [
        "clients['age'].isna().sum()"
      ],
      "execution_count": null,
      "outputs": [
        {
          "output_type": "execute_result",
          "data": {
            "text/plain": [
              "1776"
            ]
          },
          "metadata": {
            "tags": []
          },
          "execution_count": 48
        }
      ]
    },
    {
      "cell_type": "markdown",
      "metadata": {
        "id": "oHRJJPqbj-n9"
      },
      "source": [
        "- в признаке отсутсвует 1.7% данных\n",
        "- очевидны выбросы из-за некорректного заполнения года рождения\n",
        "\n",
        "Посмотрим на распределение значений ниже:"
      ]
    },
    {
      "cell_type": "code",
      "metadata": {
        "colab": {
          "base_uri": "https://localhost:8080/",
          "height": 521
        },
        "id": "NhiJHK8TYFwb",
        "outputId": "b7b895cd-1f0e-4467-bf81-f203ad54548c"
      },
      "source": [
        "plt.figure(figsize=(20,10))\n",
        "\n",
        "plt.subplot(2,1,1) \n",
        "sns.countplot(data=clients, x='age')\n",
        "plt.subplot(2,1,2) \n",
        "sns.boxplot(data=clients, x='age')\n",
        "\n",
        "plt.title('Распределение значений признака возраст')\n",
        "plt.show()"
      ],
      "execution_count": null,
      "outputs": [
        {
          "output_type": "display_data",
          "data": {
            "image/png": "[encoded data removed]",
            "text/plain": [
              "<Figure size 1440x720 with 2 Axes>"
            ]
          },
          "metadata": {
            "tags": [],
            "needs_background": "light"
          }
        }
      ]
    },
    {
      "cell_type": "markdown",
      "metadata": {
        "id": "hFrLvc30l1pu"
      },
      "source": [
        "Избавимся от выбросов и заменим пропущенные значения на max+1 значение\n"
      ]
    },
    {
      "cell_type": "code",
      "metadata": {
        "id": "8biNLyXWlzug"
      },
      "source": [
        "# Зададим параметр alpha, ограничивающий 1% минимальных и максимальных значений\n",
        "alpha = 0.01\n",
        "\n",
        "# зададим минимум и максимум\n",
        "min_age = clients['age'].quantile(alpha/2)\n",
        "max_age = clients['age'].quantile(1-alpha/2)\n",
        "\n",
        "# выберем хвосты и заменим на NaN\n",
        "clients['age'] = np.where(clients['age'] < min_age, np.nan, clients['age'])\n",
        "clients['age'] = np.where(clients['age'] > max_age, np.nan, clients['age'])\n"
      ],
      "execution_count": null,
      "outputs": []
    },
    {
      "cell_type": "code",
      "metadata": {
        "id": "ayYMhQOrJLqk"
      },
      "source": [
        "# заменим пропуски значением 82(следующим из распределения)\n",
        "clients['age'] = clients['age'].fillna(82)\n",
        "clients['age'] = clients['age'].astype(int)"
      ],
      "execution_count": null,
      "outputs": []
    },
    {
      "cell_type": "code",
      "metadata": {
        "colab": {
          "base_uri": "https://localhost:8080/",
          "height": 524
        },
        "id": "YVLcK-J9uCbt",
        "outputId": "d1087b94-6988-49fe-b5ed-7c2795272528"
      },
      "source": [
        "plt.figure(figsize=(20,10))\n",
        "\n",
        "plt.subplot(2,1,1) \n",
        "sns.countplot(data=clients, x='age')\n",
        "plt.subplot(2,1,2) \n",
        "sns.boxplot(data=clients, x='age')\n",
        "\n",
        "plt.title('Распределение значений признака возраст')\n",
        "plt.show()"
      ],
      "execution_count": null,
      "outputs": [
        {
          "output_type": "display_data",
          "data": {
            "image/png": "[encoded data removed]",
            "text/plain": [
              "<Figure size 1440x720 with 2 Axes>"
            ]
          },
          "metadata": {
            "tags": [],
            "needs_background": "light"
          }
        }
      ]
    },
    {
      "cell_type": "code",
      "metadata": {
        "colab": {
          "base_uri": "https://localhost:8080/",
          "height": 419
        },
        "id": "e_7PfbcIWEj2",
        "outputId": "5b5c1db4-8014-4a9a-c477-a7b46d2b2911"
      },
      "source": [
        "clients"
      ],
      "execution_count": null,
      "outputs": [
        {
          "output_type": "execute_result",
          "data": {
            "text/html": [
              "<div>\n",
              "<style scoped>\n",
              "    .dataframe tbody tr th:only-of-type {\n",
              "        vertical-align: middle;\n",
              "    }\n",
              "\n",
              "    .dataframe tbody tr th {\n",
              "        vertical-align: top;\n",
              "    }\n",
              "\n",
              "    .dataframe thead th {\n",
              "        text-align: right;\n",
              "    }\n",
              "</style>\n",
              "<table border=\"1\" class=\"dataframe\">\n",
              "  <thead>\n",
              "    <tr style=\"text-align: right;\">\n",
              "      <th></th>\n",
              "      <th>client_id</th>\n",
              "      <th>gender</th>\n",
              "      <th>Moscow</th>\n",
              "      <th>Other</th>\n",
              "      <th>St. Petersburg</th>\n",
              "      <th>age</th>\n",
              "    </tr>\n",
              "  </thead>\n",
              "  <tbody>\n",
              "    <tr>\n",
              "      <th>0</th>\n",
              "      <td>1a47d62dddacc03fe90c15652f7ae1a4</td>\n",
              "      <td>0</td>\n",
              "      <td>0</td>\n",
              "      <td>1</td>\n",
              "      <td>0</td>\n",
              "      <td>27</td>\n",
              "    </tr>\n",
              "    <tr>\n",
              "      <th>1</th>\n",
              "      <td>9cb909f701d25d548e953bff81192b56</td>\n",
              "      <td>1</td>\n",
              "      <td>0</td>\n",
              "      <td>1</td>\n",
              "      <td>0</td>\n",
              "      <td>48</td>\n",
              "    </tr>\n",
              "    <tr>\n",
              "      <th>2</th>\n",
              "      <td>d5da0f5b841b4f83383202807995027a</td>\n",
              "      <td>0</td>\n",
              "      <td>0</td>\n",
              "      <td>1</td>\n",
              "      <td>0</td>\n",
              "      <td>41</td>\n",
              "    </tr>\n",
              "    <tr>\n",
              "      <th>3</th>\n",
              "      <td>13ed7f16810b17b8cee6de834ac79a48</td>\n",
              "      <td>1</td>\n",
              "      <td>1</td>\n",
              "      <td>0</td>\n",
              "      <td>0</td>\n",
              "      <td>51</td>\n",
              "    </tr>\n",
              "    <tr>\n",
              "      <th>4</th>\n",
              "      <td>215fe3ea7d5bf0415e5504e2a7f33551</td>\n",
              "      <td>1</td>\n",
              "      <td>0</td>\n",
              "      <td>1</td>\n",
              "      <td>0</td>\n",
              "      <td>29</td>\n",
              "    </tr>\n",
              "    <tr>\n",
              "      <th>...</th>\n",
              "      <td>...</td>\n",
              "      <td>...</td>\n",
              "      <td>...</td>\n",
              "      <td>...</td>\n",
              "      <td>...</td>\n",
              "      <td>...</td>\n",
              "    </tr>\n",
              "    <tr>\n",
              "      <th>99990</th>\n",
              "      <td>9e7e66fc2c2dcfd8977bc0cffeff8eb5</td>\n",
              "      <td>0</td>\n",
              "      <td>0</td>\n",
              "      <td>1</td>\n",
              "      <td>0</td>\n",
              "      <td>32</td>\n",
              "    </tr>\n",
              "    <tr>\n",
              "      <th>99991</th>\n",
              "      <td>e261c97d40ab839926c712b4aa6cefd8</td>\n",
              "      <td>1</td>\n",
              "      <td>0</td>\n",
              "      <td>0</td>\n",
              "      <td>1</td>\n",
              "      <td>35</td>\n",
              "    </tr>\n",
              "    <tr>\n",
              "      <th>99992</th>\n",
              "      <td>678ef46f41f8c89f7e8578c9e9592e3e</td>\n",
              "      <td>0</td>\n",
              "      <td>0</td>\n",
              "      <td>1</td>\n",
              "      <td>0</td>\n",
              "      <td>53</td>\n",
              "    </tr>\n",
              "    <tr>\n",
              "      <th>99993</th>\n",
              "      <td>274facf0609ceba803f5853bd2222208</td>\n",
              "      <td>1</td>\n",
              "      <td>0</td>\n",
              "      <td>1</td>\n",
              "      <td>0</td>\n",
              "      <td>66</td>\n",
              "    </tr>\n",
              "    <tr>\n",
              "      <th>99994</th>\n",
              "      <td>8722f135c900a998021c965c94bc0875</td>\n",
              "      <td>1</td>\n",
              "      <td>0</td>\n",
              "      <td>1</td>\n",
              "      <td>0</td>\n",
              "      <td>59</td>\n",
              "    </tr>\n",
              "  </tbody>\n",
              "</table>\n",
              "<p>99995 rows × 6 columns</p>\n",
              "</div>"
            ],
            "text/plain": [
              "                              client_id  gender  Moscow  Other  \\\n",
              "0      1a47d62dddacc03fe90c15652f7ae1a4       0       0      1   \n",
              "1      9cb909f701d25d548e953bff81192b56       1       0      1   \n",
              "2      d5da0f5b841b4f83383202807995027a       0       0      1   \n",
              "3      13ed7f16810b17b8cee6de834ac79a48       1       1      0   \n",
              "4      215fe3ea7d5bf0415e5504e2a7f33551       1       0      1   \n",
              "...                                 ...     ...     ...    ...   \n",
              "99990  9e7e66fc2c2dcfd8977bc0cffeff8eb5       0       0      1   \n",
              "99991  e261c97d40ab839926c712b4aa6cefd8       1       0      0   \n",
              "99992  678ef46f41f8c89f7e8578c9e9592e3e       0       0      1   \n",
              "99993  274facf0609ceba803f5853bd2222208       1       0      1   \n",
              "99994  8722f135c900a998021c965c94bc0875       1       0      1   \n",
              "\n",
              "       St. Petersburg  age  \n",
              "0                   0   27  \n",
              "1                   0   48  \n",
              "2                   0   41  \n",
              "3                   0   51  \n",
              "4                   0   29  \n",
              "...               ...  ...  \n",
              "99990               0   32  \n",
              "99991               1   35  \n",
              "99992               0   53  \n",
              "99993               0   66  \n",
              "99994               0   59  \n",
              "\n",
              "[99995 rows x 6 columns]"
            ]
          },
          "metadata": {
            "tags": []
          },
          "execution_count": 53
        }
      ]
    },
    {
      "cell_type": "markdown",
      "metadata": {
        "id": "_E_OYL5VyNJq"
      },
      "source": [
        "### Оценка потребительской активности"
      ]
    },
    {
      "cell_type": "code",
      "metadata": {
        "id": "jhELo26objY7"
      },
      "source": [
        "customer_info = data.select('chq_id', 'chq_date', 'client_id',\n",
        "                                 'sales_count', 'sales_sum', 'is_promo',\n",
        "                                 'is_private_label', 'is_alco', 'hier_level_2')"
      ],
      "execution_count": null,
      "outputs": []
    },
    {
      "cell_type": "markdown",
      "metadata": {
        "id": "2WUVNOFrgNFO"
      },
      "source": [
        "Сгенерируем фичи, отражающие продажи в рублях при условии is_promo, is_private_label, is_alco.\n",
        "Например, sales_sum_with_promo = sales_sum * is_promo"
      ]
    },
    {
      "cell_type": "code",
      "metadata": {
        "id": "YlKOFQNugak1"
      },
      "source": [
        "customer_info = customer_info.withColumn('sales_sum_with_promo', col('sales_sum')*col('is_promo')) \\\n",
        "                                              .withColumn('pl_sum', col('sales_sum')*col('is_private_label')) \\\n",
        "                                              .withColumn('alco_sum', col('sales_sum')*col('is_alco'))"
      ],
      "execution_count": null,
      "outputs": []
    },
    {
      "cell_type": "markdown",
      "metadata": {
        "id": "iz1hfdtmfoaH"
      },
      "source": [
        "Для оценки необходимо сгруппировать информацию по клиентам:\n",
        "- first_purchase - дата первого заказа\n",
        "- last_purchase - дата последнего заказа\n",
        "- total_sum - общая сумма покупок за год в рублях\n",
        "- total_items - общая сумма покупок за год в штуках\n",
        "- promo_sum - общая сумма промо-покупок за год в рублях\n",
        "- pl_sum - общая сумма покупок ТМ сети за год в рублях\n",
        "- alco_sum - общая сумма покупок алкоголя сети за год в рублях\n",
        "- total_days_with_order - количество чеков(визитов) с первого до последнего дня"
      ]
    },
    {
      "cell_type": "code",
      "metadata": {
        "id": "ATlMKp-YfzCy"
      },
      "source": [
        "customer_info = customer_info.groupby('client_id').agg(min('chq_date').alias('first_purchase'), \n",
        "                                                              max('chq_date').alias('last_purchase'),\n",
        "                                                              sum('sales_sum').alias('total_sum'),\n",
        "                                                              sum('sales_count').alias('total_items'),\n",
        "                                                              sum('sales_sum_with_promo').alias('promo_sum'),\n",
        "                                                              sum('pl_sum').alias('pl_sum'),\n",
        "                                                              sum('alco_sum').alias('alco_sum'), \n",
        "                                                              count('hier_level_2').alias('total_product_categories'),\n",
        "                                                              countDistinct('chq_date').alias('total_days_with_order'))"
      ],
      "execution_count": null,
      "outputs": []
    },
    {
      "cell_type": "markdown",
      "metadata": {
        "id": "iW-I-WJB61q2"
      },
      "source": [
        "Добавим еще 2 фичи, описывающих 'время жизни' клиента и частоту его визитов:\n",
        "- lifetime - время, прошедешее от первого заказа до последнего\n",
        "- frequency = lifetime / total_days_with_order - частота визитов в среднем с первого до последнего дня (равно 0. при условии, что за год клиент совершил только одну покупку)\n",
        "- avg_check_sum = total_sum / total_days_with_order - средний чек"
      ]
    },
    {
      "cell_type": "code",
      "metadata": {
        "id": "hNgKYtzlj9Mz"
      },
      "source": [
        "customer_info = customer_info.withColumn('lifetime', datediff(col('last_purchase'),col('first_purchase')))\n",
        "customer_info = customer_info.withColumn('frequency', (col('lifetime') / col('total_days_with_order')))\n",
        "customer_info = customer_info.withColumn('avg_check_sum', (col('total_sum') / col('total_days_with_order')))"
      ],
      "execution_count": null,
      "outputs": []
    },
    {
      "cell_type": "code",
      "metadata": {
        "colab": {
          "base_uri": "https://localhost:8080/"
        },
        "id": "m9xOSPQLkiuu",
        "outputId": "3363e8a3-a979-4a7d-bba9-4736a04fd013"
      },
      "source": [
        "customer_info.show(3)"
      ],
      "execution_count": null,
      "outputs": [
        {
          "output_type": "stream",
          "text": [
            "+--------------------+--------------+-------------+---------+------------------+------------------+--------+--------+------------------------+---------------------+--------+------------------+------------------+\n",
            "|           client_id|first_purchase|last_purchase|total_sum|       total_items|         promo_sum|  pl_sum|alco_sum|total_product_categories|total_days_with_order|lifetime|         frequency|     avg_check_sum|\n",
            "+--------------------+--------------+-------------+---------+------------------+------------------+--------+--------+------------------------+---------------------+--------+------------------+------------------+\n",
            "|18d0bbdb1998c1e17...|    2016-10-07|   2017-09-27| 187813.0|2585.2550000000006|          83245.62|80637.71|  5163.0|                    1027|                   51|     355|  6.96078431372549| 3682.607843137255|\n",
            "|ca08b9231e829a4ac...|    2016-10-05|   2017-04-28|   3013.0|            44.286|2194.8900000000003|  285.23|     0.0|                      44|                   11|     205|18.636363636363637|273.90909090909093|\n",
            "|13061ada9e45949d9...|    2016-10-13|   2017-06-21|  11587.0|           243.386|           6715.24| 1082.27|  279.84|                     146|                   38|     251| 6.605263157894737|304.92105263157896|\n",
            "+--------------------+--------------+-------------+---------+------------------+------------------+--------+--------+------------------------+---------------------+--------+------------------+------------------+\n",
            "only showing top 3 rows\n",
            "\n"
          ],
          "name": "stdout"
        }
      ]
    },
    {
      "cell_type": "code",
      "metadata": {
        "id": "5gkYz9qBlzZ1"
      },
      "source": [
        "customer_info_pd = customer_info.toPandas()"
      ],
      "execution_count": null,
      "outputs": []
    },
    {
      "cell_type": "markdown",
      "metadata": {
        "id": "IWxg4mizAcPI"
      },
      "source": [
        "#### First&Last purchase"
      ]
    },
    {
      "cell_type": "code",
      "metadata": {
        "colab": {
          "base_uri": "https://localhost:8080/",
          "height": 390
        },
        "id": "jyctgUWNBi1S",
        "outputId": "6cce9a8d-28f0-4124-c222-d196774d3a90"
      },
      "source": [
        "plt.figure(figsize=(12,6))\n",
        "\n",
        "plt.hist(customer_info_pd['first_purchase'], bins=50, alpha=0.5, label='Дата первой покупки')\n",
        "plt.hist(customer_info_pd['last_purchase'], bins=50, alpha=0.5, label='Дата последней покупки')\n",
        "\n",
        "plt.grid(axis='y', ls='--')\n",
        "plt.title('Динамика пришедших/ушедших клиентов')\n",
        "plt.legend(loc='upper right')\n",
        "plt.show()"
      ],
      "execution_count": null,
      "outputs": [
        {
          "output_type": "display_data",
          "data": {
            "image/png": "[encoded data removed]",
            "text/plain": [
              "<Figure size 864x432 with 1 Axes>"
            ]
          },
          "metadata": {
            "tags": [],
            "needs_background": "light"
          }
        }
      ]
    },
    {
      "cell_type": "markdown",
      "metadata": {
        "id": "sg8E7mXdC1xR"
      },
      "source": [
        "График отражает количество новых клиентов в перспективе года и количество ушедших. При этом очевидно, что первые и последние месяцы наблюдений не несут полезной информации, т.к. являются граничными значяениями в выборке.\n",
        "- Новые клиенты перестали приходить в сеть с января 2017 года (обусловлено предоставленной выборкой)\n",
        "- Отток клиентов наблюдается в течение всего года и составляет около 700 человек ежедневно\n",
        "\n",
        "Очевидно, что задача по удержанию клиентов является приоритетной, но так же важно обратить внимание на привлечение новых покупателей."
      ]
    },
    {
      "cell_type": "markdown",
      "metadata": {
        "id": "6ksCfnYaT0Ri"
      },
      "source": [
        "#### Total_days_with_order, Lifetime, Frequency, Avg_check_sum"
      ]
    },
    {
      "cell_type": "code",
      "metadata": {
        "colab": {
          "base_uri": "https://localhost:8080/",
          "height": 518
        },
        "id": "9PvvD7IZTxHB",
        "outputId": "69817f5e-4d5c-4c68-de72-f2d6aeb46c70"
      },
      "source": [
        "pd.plotting.scatter_matrix(customer_info_pd[['frequency', 'total_days_with_order','lifetime', 'avg_check_sum']], alpha=0.1, figsize=(8,8), diagonal='kde');"
      ],
      "execution_count": null,
      "outputs": [
        {
          "output_type": "display_data",
          "data": {
            "image/png": "[encoded data removed]",
            "text/plain": [
              "<Figure size 576x576 with 16 Axes>"
            ]
          },
          "metadata": {
            "tags": [],
            "needs_background": "light"
          }
        }
      ]
    },
    {
      "cell_type": "markdown",
      "metadata": {
        "id": "88DTZgKEbNRI"
      },
      "source": [
        "#### Total_days_with_order"
      ]
    },
    {
      "cell_type": "code",
      "metadata": {
        "colab": {
          "base_uri": "https://localhost:8080/",
          "height": 390
        },
        "id": "k2iO3KBfbVCm",
        "outputId": "b96d770f-d21c-4405-d447-9b4003ff4034"
      },
      "source": [
        "plt.figure(figsize=(12,6))\n",
        "\n",
        "plt.hist(customer_info_pd['total_days_with_order'], bins=50)\n",
        "\n",
        "plt.grid(axis='y', ls='--')\n",
        "plt.title('Распределение потребителей по количеству чеков(посещений магазинов), шт.')\n",
        "\n",
        "plt.show()"
      ],
      "execution_count": null,
      "outputs": [
        {
          "output_type": "display_data",
          "data": {
            "image/png": "[encoded data removed]",
            "text/plain": [
              "<Figure size 864x432 with 1 Axes>"
            ]
          },
          "metadata": {
            "tags": [],
            "needs_background": "light"
          }
        }
      ]
    },
    {
      "cell_type": "markdown",
      "metadata": {
        "id": "a2AIdKxlcDve"
      },
      "source": [
        "#### Lifetime"
      ]
    },
    {
      "cell_type": "code",
      "metadata": {
        "colab": {
          "base_uri": "https://localhost:8080/",
          "height": 390
        },
        "id": "ZTHBFzjScH3O",
        "outputId": "19a8a5dd-ef7c-4e94-b712-7188416ba640"
      },
      "source": [
        "plt.figure(figsize=(12,6))\n",
        "\n",
        "plt.hist(customer_info_pd['lifetime'], bins=50)\n",
        "\n",
        "plt.grid(axis='y', ls='--')\n",
        "plt.title('Распределение потребителей по \"времни жизни\", дни.')\n",
        "\n",
        "plt.show()"
      ],
      "execution_count": null,
      "outputs": [
        {
          "output_type": "display_data",
          "data": {
            "image/png": "[encoded data removed]",
            "text/plain": [
              "<Figure size 864x432 with 1 Axes>"
            ]
          },
          "metadata": {
            "tags": [],
            "needs_background": "light"
          }
        }
      ]
    },
    {
      "cell_type": "markdown",
      "metadata": {
        "id": "xbnIZMNEcYsQ"
      },
      "source": [
        "#### Frequency"
      ]
    },
    {
      "cell_type": "code",
      "metadata": {
        "colab": {
          "base_uri": "https://localhost:8080/",
          "height": 390
        },
        "id": "UuKglzCEcbeF",
        "outputId": "22c97c77-47fb-447b-f9dd-e98499352266"
      },
      "source": [
        "plt.figure(figsize=(12,6))\n",
        "\n",
        "plt.hist(customer_info_pd['frequency'], bins=50)\n",
        "\n",
        "plt.grid(axis='y', ls='--')\n",
        "plt.title('Распределение потребителей по частоте визитов, (1 раз в х дней).')\n",
        "\n",
        "plt.show()"
      ],
      "execution_count": null,
      "outputs": [
        {
          "output_type": "display_data",
          "data": {
            "image/png": "[encoded data removed]",
            "text/plain": [
              "<Figure size 864x432 with 1 Axes>"
            ]
          },
          "metadata": {
            "tags": [],
            "needs_background": "light"
          }
        }
      ]
    },
    {
      "cell_type": "markdown",
      "metadata": {
        "id": "-ahdyXNXc6TV"
      },
      "source": [
        "#### Avg_check_sum"
      ]
    },
    {
      "cell_type": "code",
      "metadata": {
        "colab": {
          "base_uri": "https://localhost:8080/",
          "height": 390
        },
        "id": "Gv-HKG0Nc-y6",
        "outputId": "d9065ce3-7834-453c-cfe3-9e9ba435444a"
      },
      "source": [
        "plt.figure(figsize=(12,6))\n",
        "\n",
        "plt.hist(customer_info_pd['avg_check_sum']/1000, bins=300)\n",
        "\n",
        "plt.grid(axis='y', ls='--')\n",
        "plt.title('Распределение потребителей по среднему чеку, тыс. руб.')\n",
        "ax = plt.gca()\n",
        "ax.set_xlim(0, 40)\n",
        "#ax.set_xticks(np.linspace(0,40, 41))\n",
        "plt.show()"
      ],
      "execution_count": null,
      "outputs": [
        {
          "output_type": "display_data",
          "data": {
            "image/png": "[encoded data removed]",
            "text/plain": [
              "<Figure size 864x432 with 1 Axes>"
            ]
          },
          "metadata": {
            "tags": [],
            "needs_background": "light"
          }
        }
      ]
    },
    {
      "cell_type": "markdown",
      "metadata": {
        "id": "UukpcNUAFrtI"
      },
      "source": [
        "#### Анализ потребительской корзины\n",
        "- total_sum - общая сумма покупок за год в рублях\n",
        "- promo_sum - общая сумма промо-покупок за год в рублях\n",
        "- pl_sum - общая сумма покупок ТМ сети за год в рублях\n",
        "- alco_sum - общая сумма покупок алкоголя сети за год в рублях"
      ]
    },
    {
      "cell_type": "code",
      "metadata": {
        "colab": {
          "base_uri": "https://localhost:8080/",
          "height": 390
        },
        "id": "-wvjGBFYFpQ4",
        "outputId": "c5317960-d6cb-4173-d0a5-a60f6804405d"
      },
      "source": [
        "plt.figure(figsize=(12,6))\n",
        "\n",
        "sales = []\n",
        "sales.append(customer_info_pd['total_sum'].sum()/1000000)\n",
        "sales.append(customer_info_pd['promo_sum'].sum()/1000000)\n",
        "sales.append(customer_info_pd['pl_sum'].sum()/1000000)\n",
        "sales.append(customer_info_pd['alco_sum'].sum()/1000000)\n",
        "\n",
        "labels = ['Общие продажи', 'Продажи по промо', 'Продажи собственной марки', 'Продажи алкоголя']\n",
        "\n",
        "plt.bar(labels, sales)\n",
        "\n",
        "plt.title('Общая доля продаж, млн руб')\n",
        "plt.show()"
      ],
      "execution_count": null,
      "outputs": [
        {
          "output_type": "display_data",
          "data": {
            "image/png": "[encoded data removed]",
            "text/plain": [
              "<Figure size 864x432 with 1 Axes>"
            ]
          },
          "metadata": {
            "tags": [],
            "needs_background": "light"
          }
        }
      ]
    },
    {
      "cell_type": "markdown",
      "metadata": {
        "id": "x-8hoB14QDeu"
      },
      "source": [
        "- Общие продажи за год составили почти 4 млрд рублей\n",
        "- Из них промо-продажи составляют более 50%\n",
        "- Продажи собственной ТМ и алкоголя около 13% и 10% соответственно"
      ]
    },
    {
      "cell_type": "markdown",
      "metadata": {
        "id": "Q5GFzmEfoZE3"
      },
      "source": [
        "# Выбор метрики оценки отточных клиентов"
      ]
    },
    {
      "cell_type": "markdown",
      "metadata": {
        "id": "I832rdp19BAQ"
      },
      "source": [
        "Для оценки отток/не отток я выбрал следующую метрику:\n",
        "- next_order (дата следующего предполагаемого визита) = last_purchase + frequency\n",
        "- deadline (последний день наблюдений)\n",
        "- Churn при условии next_order <= deadline"
      ]
    },
    {
      "cell_type": "code",
      "metadata": {
        "colab": {
          "base_uri": "https://localhost:8080/"
        },
        "id": "2j8PwM32mPmt",
        "outputId": "d10e3606-afee-480d-916a-ba463d5aedc5"
      },
      "source": [
        "# считаем предполагаемую дату следующего заказа\n",
        "customer_info_pd['next_order'] = customer_info_pd['last_purchase'] + pd.to_timedelta(customer_info_pd['frequency'].astype(int), unit='D')\n"
      ],
      "execution_count": null,
      "outputs": [
        {
          "output_type": "stream",
          "text": [
            "/usr/local/lib/python3.6/dist-packages/pandas/core/arrays/datetimelike.py:1345: PerformanceWarning: Adding/subtracting object-dtype array to TimedeltaArray not vectorized\n",
            "  PerformanceWarning,\n"
          ],
          "name": "stderr"
        }
      ]
    },
    {
      "cell_type": "code",
      "metadata": {
        "id": "p0tZEZglmPzZ"
      },
      "source": [
        "deadline = datetime.strptime('01/10/2017', '%d/%m/%Y')\n",
        "customer_info_pd['churn'] = customer_info_pd['next_order'] <= deadline.date()"
      ],
      "execution_count": null,
      "outputs": []
    },
    {
      "cell_type": "code",
      "metadata": {
        "colab": {
          "base_uri": "https://localhost:8080/",
          "height": 439
        },
        "id": "PVbqsdoy0_FN",
        "outputId": "04f3e603-f397-42e3-b6d0-f67b89a60a7e"
      },
      "source": [
        "customer_info_pd"
      ],
      "execution_count": null,
      "outputs": [
        {
          "output_type": "execute_result",
          "data": {
            "text/html": [
              "<div>\n",
              "<style scoped>\n",
              "    .dataframe tbody tr th:only-of-type {\n",
              "        vertical-align: middle;\n",
              "    }\n",
              "\n",
              "    .dataframe tbody tr th {\n",
              "        vertical-align: top;\n",
              "    }\n",
              "\n",
              "    .dataframe thead th {\n",
              "        text-align: right;\n",
              "    }\n",
              "</style>\n",
              "<table border=\"1\" class=\"dataframe\">\n",
              "  <thead>\n",
              "    <tr style=\"text-align: right;\">\n",
              "      <th></th>\n",
              "      <th>client_id</th>\n",
              "      <th>first_purchase</th>\n",
              "      <th>last_purchase</th>\n",
              "      <th>total_sum</th>\n",
              "      <th>total_items</th>\n",
              "      <th>promo_sum</th>\n",
              "      <th>pl_sum</th>\n",
              "      <th>alco_sum</th>\n",
              "      <th>total_product_categories</th>\n",
              "      <th>total_days_with_order</th>\n",
              "      <th>lifetime</th>\n",
              "      <th>frequency</th>\n",
              "      <th>avg_check_sum</th>\n",
              "      <th>next_order</th>\n",
              "      <th>churn</th>\n",
              "    </tr>\n",
              "  </thead>\n",
              "  <tbody>\n",
              "    <tr>\n",
              "      <th>0</th>\n",
              "      <td>18d0bbdb1998c1e17d9811f25d2a8b22</td>\n",
              "      <td>2016-10-07</td>\n",
              "      <td>2017-09-27</td>\n",
              "      <td>187813.0</td>\n",
              "      <td>2585.255</td>\n",
              "      <td>83245.62</td>\n",
              "      <td>80637.71</td>\n",
              "      <td>5163.00</td>\n",
              "      <td>1027</td>\n",
              "      <td>51</td>\n",
              "      <td>355</td>\n",
              "      <td>6.960784</td>\n",
              "      <td>3682.607843</td>\n",
              "      <td>2017-10-03</td>\n",
              "      <td>False</td>\n",
              "    </tr>\n",
              "    <tr>\n",
              "      <th>1</th>\n",
              "      <td>ca08b9231e829a4ac01842540584d827</td>\n",
              "      <td>2016-10-05</td>\n",
              "      <td>2017-04-28</td>\n",
              "      <td>3013.0</td>\n",
              "      <td>44.286</td>\n",
              "      <td>2194.89</td>\n",
              "      <td>285.23</td>\n",
              "      <td>0.00</td>\n",
              "      <td>44</td>\n",
              "      <td>11</td>\n",
              "      <td>205</td>\n",
              "      <td>18.636364</td>\n",
              "      <td>273.909091</td>\n",
              "      <td>2017-05-16</td>\n",
              "      <td>True</td>\n",
              "    </tr>\n",
              "    <tr>\n",
              "      <th>2</th>\n",
              "      <td>13061ada9e45949d95c8d745e8ebe2eb</td>\n",
              "      <td>2016-10-13</td>\n",
              "      <td>2017-06-21</td>\n",
              "      <td>11587.0</td>\n",
              "      <td>243.386</td>\n",
              "      <td>6715.24</td>\n",
              "      <td>1082.27</td>\n",
              "      <td>279.84</td>\n",
              "      <td>146</td>\n",
              "      <td>38</td>\n",
              "      <td>251</td>\n",
              "      <td>6.605263</td>\n",
              "      <td>304.921053</td>\n",
              "      <td>2017-06-27</td>\n",
              "      <td>True</td>\n",
              "    </tr>\n",
              "    <tr>\n",
              "      <th>3</th>\n",
              "      <td>63210675b4ee2032ac136d4135f80e53</td>\n",
              "      <td>2016-10-06</td>\n",
              "      <td>2017-10-04</td>\n",
              "      <td>57527.0</td>\n",
              "      <td>928.299</td>\n",
              "      <td>31439.10</td>\n",
              "      <td>5706.75</td>\n",
              "      <td>226.76</td>\n",
              "      <td>940</td>\n",
              "      <td>112</td>\n",
              "      <td>363</td>\n",
              "      <td>3.241071</td>\n",
              "      <td>513.633929</td>\n",
              "      <td>2017-10-07</td>\n",
              "      <td>False</td>\n",
              "    </tr>\n",
              "    <tr>\n",
              "      <th>4</th>\n",
              "      <td>00cb3cc5a220082fd307aa655d953c41</td>\n",
              "      <td>2016-10-10</td>\n",
              "      <td>2017-09-23</td>\n",
              "      <td>91023.0</td>\n",
              "      <td>839.090</td>\n",
              "      <td>35913.86</td>\n",
              "      <td>12084.52</td>\n",
              "      <td>11407.32</td>\n",
              "      <td>675</td>\n",
              "      <td>26</td>\n",
              "      <td>348</td>\n",
              "      <td>13.384615</td>\n",
              "      <td>3500.884615</td>\n",
              "      <td>2017-10-06</td>\n",
              "      <td>False</td>\n",
              "    </tr>\n",
              "    <tr>\n",
              "      <th>...</th>\n",
              "      <td>...</td>\n",
              "      <td>...</td>\n",
              "      <td>...</td>\n",
              "      <td>...</td>\n",
              "      <td>...</td>\n",
              "      <td>...</td>\n",
              "      <td>...</td>\n",
              "      <td>...</td>\n",
              "      <td>...</td>\n",
              "      <td>...</td>\n",
              "      <td>...</td>\n",
              "      <td>...</td>\n",
              "      <td>...</td>\n",
              "      <td>...</td>\n",
              "      <td>...</td>\n",
              "    </tr>\n",
              "    <tr>\n",
              "      <th>99995</th>\n",
              "      <td>a5e8411a762782c3f949a9fd41280770</td>\n",
              "      <td>2016-12-31</td>\n",
              "      <td>2016-12-31</td>\n",
              "      <td>5134.0</td>\n",
              "      <td>56.496</td>\n",
              "      <td>2911.86</td>\n",
              "      <td>373.79</td>\n",
              "      <td>0.00</td>\n",
              "      <td>40</td>\n",
              "      <td>1</td>\n",
              "      <td>0</td>\n",
              "      <td>0.000000</td>\n",
              "      <td>5134.000000</td>\n",
              "      <td>2016-12-31</td>\n",
              "      <td>True</td>\n",
              "    </tr>\n",
              "    <tr>\n",
              "      <th>99996</th>\n",
              "      <td>eb900f4e3326f9915447326e3d028c77</td>\n",
              "      <td>2016-11-17</td>\n",
              "      <td>2016-11-29</td>\n",
              "      <td>1080.0</td>\n",
              "      <td>12.268</td>\n",
              "      <td>305.02</td>\n",
              "      <td>327.49</td>\n",
              "      <td>259.03</td>\n",
              "      <td>14</td>\n",
              "      <td>2</td>\n",
              "      <td>12</td>\n",
              "      <td>6.000000</td>\n",
              "      <td>540.000000</td>\n",
              "      <td>2016-12-05</td>\n",
              "      <td>True</td>\n",
              "    </tr>\n",
              "    <tr>\n",
              "      <th>99997</th>\n",
              "      <td>aac50f5c36655e115b998f2dec681060</td>\n",
              "      <td>2016-12-30</td>\n",
              "      <td>2016-12-30</td>\n",
              "      <td>676.0</td>\n",
              "      <td>9.000</td>\n",
              "      <td>664.00</td>\n",
              "      <td>568.22</td>\n",
              "      <td>0.00</td>\n",
              "      <td>5</td>\n",
              "      <td>1</td>\n",
              "      <td>0</td>\n",
              "      <td>0.000000</td>\n",
              "      <td>676.000000</td>\n",
              "      <td>2016-12-30</td>\n",
              "      <td>True</td>\n",
              "    </tr>\n",
              "    <tr>\n",
              "      <th>99998</th>\n",
              "      <td>8530eee4e378ed44409834d0f1bda78d</td>\n",
              "      <td>2016-10-04</td>\n",
              "      <td>2016-10-06</td>\n",
              "      <td>906.0</td>\n",
              "      <td>15.940</td>\n",
              "      <td>206.27</td>\n",
              "      <td>110.35</td>\n",
              "      <td>0.00</td>\n",
              "      <td>15</td>\n",
              "      <td>2</td>\n",
              "      <td>2</td>\n",
              "      <td>1.000000</td>\n",
              "      <td>453.000000</td>\n",
              "      <td>2016-10-07</td>\n",
              "      <td>True</td>\n",
              "    </tr>\n",
              "    <tr>\n",
              "      <th>99999</th>\n",
              "      <td>ab822ec7ed581ac7ab80427945c56b46</td>\n",
              "      <td>2016-12-01</td>\n",
              "      <td>2016-12-01</td>\n",
              "      <td>1300.0</td>\n",
              "      <td>60.284</td>\n",
              "      <td>231.85</td>\n",
              "      <td>507.22</td>\n",
              "      <td>0.00</td>\n",
              "      <td>17</td>\n",
              "      <td>1</td>\n",
              "      <td>0</td>\n",
              "      <td>0.000000</td>\n",
              "      <td>1300.000000</td>\n",
              "      <td>2016-12-01</td>\n",
              "      <td>True</td>\n",
              "    </tr>\n",
              "  </tbody>\n",
              "</table>\n",
              "<p>100000 rows × 15 columns</p>\n",
              "</div>"
            ],
            "text/plain": [
              "                              client_id first_purchase last_purchase  \\\n",
              "0      18d0bbdb1998c1e17d9811f25d2a8b22     2016-10-07    2017-09-27   \n",
              "1      ca08b9231e829a4ac01842540584d827     2016-10-05    2017-04-28   \n",
              "2      13061ada9e45949d95c8d745e8ebe2eb     2016-10-13    2017-06-21   \n",
              "3      63210675b4ee2032ac136d4135f80e53     2016-10-06    2017-10-04   \n",
              "4      00cb3cc5a220082fd307aa655d953c41     2016-10-10    2017-09-23   \n",
              "...                                 ...            ...           ...   \n",
              "99995  a5e8411a762782c3f949a9fd41280770     2016-12-31    2016-12-31   \n",
              "99996  eb900f4e3326f9915447326e3d028c77     2016-11-17    2016-11-29   \n",
              "99997  aac50f5c36655e115b998f2dec681060     2016-12-30    2016-12-30   \n",
              "99998  8530eee4e378ed44409834d0f1bda78d     2016-10-04    2016-10-06   \n",
              "99999  ab822ec7ed581ac7ab80427945c56b46     2016-12-01    2016-12-01   \n",
              "\n",
              "       total_sum  total_items  promo_sum    pl_sum  alco_sum  \\\n",
              "0       187813.0     2585.255   83245.62  80637.71   5163.00   \n",
              "1         3013.0       44.286    2194.89    285.23      0.00   \n",
              "2        11587.0      243.386    6715.24   1082.27    279.84   \n",
              "3        57527.0      928.299   31439.10   5706.75    226.76   \n",
              "4        91023.0      839.090   35913.86  12084.52  11407.32   \n",
              "...          ...          ...        ...       ...       ...   \n",
              "99995     5134.0       56.496    2911.86    373.79      0.00   \n",
              "99996     1080.0       12.268     305.02    327.49    259.03   \n",
              "99997      676.0        9.000     664.00    568.22      0.00   \n",
              "99998      906.0       15.940     206.27    110.35      0.00   \n",
              "99999     1300.0       60.284     231.85    507.22      0.00   \n",
              "\n",
              "       total_product_categories  total_days_with_order  lifetime  frequency  \\\n",
              "0                          1027                     51       355   6.960784   \n",
              "1                            44                     11       205  18.636364   \n",
              "2                           146                     38       251   6.605263   \n",
              "3                           940                    112       363   3.241071   \n",
              "4                           675                     26       348  13.384615   \n",
              "...                         ...                    ...       ...        ...   \n",
              "99995                        40                      1         0   0.000000   \n",
              "99996                        14                      2        12   6.000000   \n",
              "99997                         5                      1         0   0.000000   \n",
              "99998                        15                      2         2   1.000000   \n",
              "99999                        17                      1         0   0.000000   \n",
              "\n",
              "       avg_check_sum  next_order  churn  \n",
              "0        3682.607843  2017-10-03  False  \n",
              "1         273.909091  2017-05-16   True  \n",
              "2         304.921053  2017-06-27   True  \n",
              "3         513.633929  2017-10-07  False  \n",
              "4        3500.884615  2017-10-06  False  \n",
              "...              ...         ...    ...  \n",
              "99995    5134.000000  2016-12-31   True  \n",
              "99996     540.000000  2016-12-05   True  \n",
              "99997     676.000000  2016-12-30   True  \n",
              "99998     453.000000  2016-10-07   True  \n",
              "99999    1300.000000  2016-12-01   True  \n",
              "\n",
              "[100000 rows x 15 columns]"
            ]
          },
          "metadata": {
            "tags": []
          },
          "execution_count": 70
        }
      ]
    },
    {
      "cell_type": "code",
      "metadata": {
        "colab": {
          "base_uri": "https://localhost:8080/"
        },
        "id": "CDy0D8mDmslR",
        "outputId": "734664a9-3e4c-49ff-b143-b7d6a01320cb"
      },
      "source": [
        "customer_info_pd[\n",
        "         customer_info_pd['last_purchase'] <= datetime.strptime('1/10/2017', '%d/%m/%Y').date()\n",
        "         ].groupby('churn')['client_id'].count()"
      ],
      "execution_count": null,
      "outputs": [
        {
          "output_type": "execute_result",
          "data": {
            "text/plain": [
              "churn\n",
              "False    34624\n",
              "True     50655\n",
              "Name: client_id, dtype: int64"
            ]
          },
          "metadata": {
            "tags": []
          },
          "execution_count": 71
        }
      ]
    },
    {
      "cell_type": "code",
      "metadata": {
        "colab": {
          "base_uri": "https://localhost:8080/",
          "height": 196
        },
        "id": "O0pbL35cofZW",
        "outputId": "2cd02e0f-f6d2-4a76-cf2f-9da9521cff51"
      },
      "source": [
        "customer_info_pd.groupby('churn')['avg_check_sum', 'frequency', 'lifetime','total_days_with_order', 'total_sum', 'promo_sum'].mean()"
      ],
      "execution_count": null,
      "outputs": [
        {
          "output_type": "stream",
          "text": [
            "/usr/local/lib/python3.6/dist-packages/ipykernel_launcher.py:1: FutureWarning: Indexing with multiple keys (implicitly converted to a tuple of keys) will be deprecated, use a list instead.\n",
            "  \"\"\"Entry point for launching an IPython kernel.\n"
          ],
          "name": "stderr"
        },
        {
          "output_type": "execute_result",
          "data": {
            "text/html": [
              "<div>\n",
              "<style scoped>\n",
              "    .dataframe tbody tr th:only-of-type {\n",
              "        vertical-align: middle;\n",
              "    }\n",
              "\n",
              "    .dataframe tbody tr th {\n",
              "        vertical-align: top;\n",
              "    }\n",
              "\n",
              "    .dataframe thead th {\n",
              "        text-align: right;\n",
              "    }\n",
              "</style>\n",
              "<table border=\"1\" class=\"dataframe\">\n",
              "  <thead>\n",
              "    <tr style=\"text-align: right;\">\n",
              "      <th></th>\n",
              "      <th>avg_check_sum</th>\n",
              "      <th>frequency</th>\n",
              "      <th>lifetime</th>\n",
              "      <th>total_days_with_order</th>\n",
              "      <th>total_sum</th>\n",
              "      <th>promo_sum</th>\n",
              "    </tr>\n",
              "    <tr>\n",
              "      <th>churn</th>\n",
              "      <th></th>\n",
              "      <th></th>\n",
              "      <th></th>\n",
              "      <th></th>\n",
              "      <th></th>\n",
              "      <th></th>\n",
              "    </tr>\n",
              "  </thead>\n",
              "  <tbody>\n",
              "    <tr>\n",
              "      <th>False</th>\n",
              "      <td>1799.066148</td>\n",
              "      <td>21.878597</td>\n",
              "      <td>338.573189</td>\n",
              "      <td>32.172540</td>\n",
              "      <td>51917.164305</td>\n",
              "      <td>28330.394609</td>\n",
              "    </tr>\n",
              "    <tr>\n",
              "      <th>True</th>\n",
              "      <td>1746.896745</td>\n",
              "      <td>20.290863</td>\n",
              "      <td>221.105616</td>\n",
              "      <td>17.622347</td>\n",
              "      <td>27321.609203</td>\n",
              "      <td>15027.165864</td>\n",
              "    </tr>\n",
              "  </tbody>\n",
              "</table>\n",
              "</div>"
            ],
            "text/plain": [
              "       avg_check_sum  frequency    lifetime  total_days_with_order  \\\n",
              "churn                                                                \n",
              "False    1799.066148  21.878597  338.573189              32.172540   \n",
              "True     1746.896745  20.290863  221.105616              17.622347   \n",
              "\n",
              "          total_sum     promo_sum  \n",
              "churn                              \n",
              "False  51917.164305  28330.394609  \n",
              "True   27321.609203  15027.165864  "
            ]
          },
          "metadata": {
            "tags": []
          },
          "execution_count": 72
        }
      ]
    },
    {
      "cell_type": "code",
      "metadata": {
        "id": "BKpqjT5gmBGZ"
      },
      "source": [
        "customer_info_pd.to_csv('/gdrive/MyDrive/Lenta/processing_results/customer_info_pd.csv', index=False)"
      ],
      "execution_count": null,
      "outputs": []
    },
    {
      "cell_type": "code",
      "metadata": {
        "id": "ift0AuuNnNrG"
      },
      "source": [
        "last_previous_diff = data.groupBy('client_id').agg(collect_set('chq_date'))\n",
        "last_previous_diff_pd =  last_previous_diff.toPandas()"
      ],
      "execution_count": null,
      "outputs": []
    },
    {
      "cell_type": "code",
      "metadata": {
        "id": "khRQNaxbys7B"
      },
      "source": [
        "last_previous_diff_pd['collect_set(chq_date)'] = last_previous_diff_pd['collect_set(chq_date)'].apply(lambda x: sorted(x))"
      ],
      "execution_count": null,
      "outputs": []
    },
    {
      "cell_type": "code",
      "metadata": {
        "id": "4hAkSNLs3CPy"
      },
      "source": [
        "last_previous_diff_pd['last day - 1'] = last_previous_diff_pd['collect_set(chq_date)'].apply(lambda x: x[-2] if len(x) != 1 else x[-1])\n",
        "last_previous_diff_pd['last day'] = last_previous_diff_pd['collect_set(chq_date)'].apply(lambda x: x[-1])\n",
        "last_previous_diff_pd['diff'] = (last_previous_diff_pd['last day'] - last_previous_diff_pd['last day - 1']).dt.days\n",
        "last_previous_diff_pd['diff'] = last_previous_diff_pd['diff'].astype(int)"
      ],
      "execution_count": null,
      "outputs": []
    },
    {
      "cell_type": "code",
      "metadata": {
        "colab": {
          "base_uri": "https://localhost:8080/",
          "height": 419
        },
        "id": "OxdKJRgkaRKn",
        "outputId": "3ac45c47-ecc9-41b5-8e1d-576be4a64f0a"
      },
      "source": [
        "last_previous_diff_pd"
      ],
      "execution_count": null,
      "outputs": [
        {
          "output_type": "execute_result",
          "data": {
            "text/html": [
              "<div>\n",
              "<style scoped>\n",
              "    .dataframe tbody tr th:only-of-type {\n",
              "        vertical-align: middle;\n",
              "    }\n",
              "\n",
              "    .dataframe tbody tr th {\n",
              "        vertical-align: top;\n",
              "    }\n",
              "\n",
              "    .dataframe thead th {\n",
              "        text-align: right;\n",
              "    }\n",
              "</style>\n",
              "<table border=\"1\" class=\"dataframe\">\n",
              "  <thead>\n",
              "    <tr style=\"text-align: right;\">\n",
              "      <th></th>\n",
              "      <th>client_id</th>\n",
              "      <th>collect_set(chq_date)</th>\n",
              "      <th>last day - 1</th>\n",
              "      <th>last day</th>\n",
              "      <th>diff</th>\n",
              "    </tr>\n",
              "  </thead>\n",
              "  <tbody>\n",
              "    <tr>\n",
              "      <th>0</th>\n",
              "      <td>00469afa9d10e36d425b652eb9382d0a</td>\n",
              "      <td>[2016-10-05, 2016-10-07, 2016-10-08, 2016-10-1...</td>\n",
              "      <td>2017-09-28</td>\n",
              "      <td>2017-10-02</td>\n",
              "      <td>4</td>\n",
              "    </tr>\n",
              "    <tr>\n",
              "      <th>1</th>\n",
              "      <td>00a17c88341ad1cc04cee542d91942bf</td>\n",
              "      <td>[2016-10-29, 2017-03-11]</td>\n",
              "      <td>2016-10-29</td>\n",
              "      <td>2017-03-11</td>\n",
              "      <td>133</td>\n",
              "    </tr>\n",
              "    <tr>\n",
              "      <th>2</th>\n",
              "      <td>00cb3cc5a220082fd307aa655d953c41</td>\n",
              "      <td>[2016-10-10, 2016-10-15, 2016-11-09, 2016-11-2...</td>\n",
              "      <td>2017-09-19</td>\n",
              "      <td>2017-09-23</td>\n",
              "      <td>4</td>\n",
              "    </tr>\n",
              "    <tr>\n",
              "      <th>3</th>\n",
              "      <td>0106450a5a3dd81188f0b1c7929e00d8</td>\n",
              "      <td>[2016-12-04, 2016-12-12, 2017-03-30, 2017-05-2...</td>\n",
              "      <td>2017-05-21</td>\n",
              "      <td>2017-09-22</td>\n",
              "      <td>124</td>\n",
              "    </tr>\n",
              "    <tr>\n",
              "      <th>4</th>\n",
              "      <td>014a2bdcd69105724aeaebe7fedfbd37</td>\n",
              "      <td>[2016-10-07, 2016-10-22, 2016-11-08, 2016-11-2...</td>\n",
              "      <td>2017-07-28</td>\n",
              "      <td>2017-08-10</td>\n",
              "      <td>13</td>\n",
              "    </tr>\n",
              "    <tr>\n",
              "      <th>...</th>\n",
              "      <td>...</td>\n",
              "      <td>...</td>\n",
              "      <td>...</td>\n",
              "      <td>...</td>\n",
              "      <td>...</td>\n",
              "    </tr>\n",
              "    <tr>\n",
              "      <th>99995</th>\n",
              "      <td>ff18516d3d061ac5d52df9ec85aa8792</td>\n",
              "      <td>[2016-11-30, 2016-12-07, 2016-12-09, 2016-12-1...</td>\n",
              "      <td>2017-08-30</td>\n",
              "      <td>2017-09-02</td>\n",
              "      <td>3</td>\n",
              "    </tr>\n",
              "    <tr>\n",
              "      <th>99996</th>\n",
              "      <td>ff5a4297cb473f5dc74b82acf889fd68</td>\n",
              "      <td>[2016-10-15, 2016-11-08, 2016-11-15, 2016-11-1...</td>\n",
              "      <td>2017-09-26</td>\n",
              "      <td>2017-10-04</td>\n",
              "      <td>8</td>\n",
              "    </tr>\n",
              "    <tr>\n",
              "      <th>99997</th>\n",
              "      <td>ff7a2842e29b45e1cee113d3b1a9c64e</td>\n",
              "      <td>[2016-10-17, 2016-10-27, 2016-11-12, 2016-11-1...</td>\n",
              "      <td>2017-09-23</td>\n",
              "      <td>2017-09-26</td>\n",
              "      <td>3</td>\n",
              "    </tr>\n",
              "    <tr>\n",
              "      <th>99998</th>\n",
              "      <td>ff7ffa03bcfaa69e5964fac7c7cbcedb</td>\n",
              "      <td>[2016-10-31, 2016-11-17, 2016-12-04, 2017-06-13]</td>\n",
              "      <td>2016-12-04</td>\n",
              "      <td>2017-06-13</td>\n",
              "      <td>191</td>\n",
              "    </tr>\n",
              "    <tr>\n",
              "      <th>99999</th>\n",
              "      <td>ff92167099ef8e15552272d4d23fd535</td>\n",
              "      <td>[2016-10-04, 2016-10-27, 2016-11-24, 2016-12-0...</td>\n",
              "      <td>2017-04-02</td>\n",
              "      <td>2017-05-30</td>\n",
              "      <td>58</td>\n",
              "    </tr>\n",
              "  </tbody>\n",
              "</table>\n",
              "<p>100000 rows × 5 columns</p>\n",
              "</div>"
            ],
            "text/plain": [
              "                              client_id  \\\n",
              "0      00469afa9d10e36d425b652eb9382d0a   \n",
              "1      00a17c88341ad1cc04cee542d91942bf   \n",
              "2      00cb3cc5a220082fd307aa655d953c41   \n",
              "3      0106450a5a3dd81188f0b1c7929e00d8   \n",
              "4      014a2bdcd69105724aeaebe7fedfbd37   \n",
              "...                                 ...   \n",
              "99995  ff18516d3d061ac5d52df9ec85aa8792   \n",
              "99996  ff5a4297cb473f5dc74b82acf889fd68   \n",
              "99997  ff7a2842e29b45e1cee113d3b1a9c64e   \n",
              "99998  ff7ffa03bcfaa69e5964fac7c7cbcedb   \n",
              "99999  ff92167099ef8e15552272d4d23fd535   \n",
              "\n",
              "                                   collect_set(chq_date) last day - 1  \\\n",
              "0      [2016-10-05, 2016-10-07, 2016-10-08, 2016-10-1...   2017-09-28   \n",
              "1                               [2016-10-29, 2017-03-11]   2016-10-29   \n",
              "2      [2016-10-10, 2016-10-15, 2016-11-09, 2016-11-2...   2017-09-19   \n",
              "3      [2016-12-04, 2016-12-12, 2017-03-30, 2017-05-2...   2017-05-21   \n",
              "4      [2016-10-07, 2016-10-22, 2016-11-08, 2016-11-2...   2017-07-28   \n",
              "...                                                  ...          ...   \n",
              "99995  [2016-11-30, 2016-12-07, 2016-12-09, 2016-12-1...   2017-08-30   \n",
              "99996  [2016-10-15, 2016-11-08, 2016-11-15, 2016-11-1...   2017-09-26   \n",
              "99997  [2016-10-17, 2016-10-27, 2016-11-12, 2016-11-1...   2017-09-23   \n",
              "99998   [2016-10-31, 2016-11-17, 2016-12-04, 2017-06-13]   2016-12-04   \n",
              "99999  [2016-10-04, 2016-10-27, 2016-11-24, 2016-12-0...   2017-04-02   \n",
              "\n",
              "         last day  diff  \n",
              "0      2017-10-02     4  \n",
              "1      2017-03-11   133  \n",
              "2      2017-09-23     4  \n",
              "3      2017-09-22   124  \n",
              "4      2017-08-10    13  \n",
              "...           ...   ...  \n",
              "99995  2017-09-02     3  \n",
              "99996  2017-10-04     8  \n",
              "99997  2017-09-26     3  \n",
              "99998  2017-06-13   191  \n",
              "99999  2017-05-30    58  \n",
              "\n",
              "[100000 rows x 5 columns]"
            ]
          },
          "metadata": {
            "tags": []
          },
          "execution_count": 79
        }
      ]
    },
    {
      "cell_type": "code",
      "metadata": {
        "colab": {
          "base_uri": "https://localhost:8080/",
          "height": 265
        },
        "id": "oV15qUO56_hF",
        "outputId": "29171f96-2bec-4d21-d9cb-0b7b444b431a"
      },
      "source": [
        "plt.hist(last_previous_diff_pd['diff'], bins=100);\n",
        "plt.savefig('/gdrive/MyDrive/Lenta/графики/foo.png')"
      ],
      "execution_count": null,
      "outputs": [
        {
          "output_type": "display_data",
          "data": {
            "image/png": "[encoded data removed]",
            "text/plain": [
              "<Figure size 432x288 with 1 Axes>"
            ]
          },
          "metadata": {
            "tags": [],
            "needs_background": "light"
          }
        }
      ]
    },
    {
      "cell_type": "code",
      "metadata": {
        "colab": {
          "base_uri": "https://localhost:8080/",
          "height": 390
        },
        "id": "n6FeqoUf7ViT",
        "outputId": "605286ed-88bf-4a56-b1ca-9a54a4bbdf6b"
      },
      "source": [
        "plt.figure(figsize=(12,6))\n",
        "\n",
        "plt.hist(last_previous_diff_pd['diff'], bins=350)\n",
        "\n",
        "plt.grid(axis='y', ls='--')\n",
        "plt.title('Распределение потребителей по количеству дней между последними заказами.')\n",
        "ax = plt.gca()\n",
        "ax.set_xlim(0, 40)\n",
        "#ax.set_xticks(np.linspace(0,40, 41))\n",
        "plt.show()"
      ],
      "execution_count": null,
      "outputs": [
        {
          "output_type": "display_data",
          "data": {
            "image/png": "[encoded data removed]",
            "text/plain": [
              "<Figure size 864x432 with 1 Axes>"
            ]
          },
          "metadata": {
            "tags": [],
            "needs_background": "light"
          }
        }
      ]
    },
    {
      "cell_type": "markdown",
      "metadata": {
        "id": "eu-q4yYDeJde"
      },
      "source": [
        "# ML"
      ]
    },
    {
      "cell_type": "code",
      "metadata": {
        "id": "Xdro3qNyXVg4"
      },
      "source": [
        "df_s = data.withColumn('year', year(col('chq_date')))\n",
        "df_s = df_s.withColumn('month', month(col('chq_date')))"
      ],
      "execution_count": null,
      "outputs": []
    },
    {
      "cell_type": "code",
      "metadata": {
        "id": "zIbP2DBXXcoX"
      },
      "source": [
        "df_s = df_s.withColumn('date', concat(col('year'), lit('-'), col('month')))"
      ],
      "execution_count": null,
      "outputs": []
    },
    {
      "cell_type": "code",
      "metadata": {
        "id": "nUytYbzMYBSG"
      },
      "source": [
        "df_s = df_s.groupBy('date', 'client_id').agg(countDistinct('chq_date').alias('total_days_with_order'), sum('sales_sum').alias('total_sum'))"
      ],
      "execution_count": null,
      "outputs": []
    },
    {
      "cell_type": "code",
      "metadata": {
        "colab": {
          "base_uri": "https://localhost:8080/"
        },
        "id": "ODBwW6NmYVfb",
        "outputId": "207d1ecb-8afd-4634-d126-fac0718aad5c"
      },
      "source": [
        "df_s.show()"
      ],
      "execution_count": null,
      "outputs": [
        {
          "output_type": "stream",
          "text": [
            "+-------+--------------------+---------------------+------------------+\n",
            "|   date|           client_id|total_days_with_order|         total_sum|\n",
            "+-------+--------------------+---------------------+------------------+\n",
            "|2016-11|7266827577a1b0400...|                    5|14996.999999999996|\n",
            "|2016-11|69827202d07107577...|                    6|            6216.0|\n",
            "|2016-12|8ea9cc7cfdc55521f...|                    1| 781.0000000000001|\n",
            "|2016-11|15dce9345b90c95c6...|                    2| 6596.999999999998|\n",
            "|2016-11|f780091831d92a81c...|                    4| 7871.999999999999|\n",
            "|2016-11|561fb6e3e6baa5fad...|                    4|            9967.0|\n",
            "|2016-12|e398fa61518e4ae53...|                    4|           10775.0|\n",
            "|2016-12|1a084d4be7091b369...|                    3| 3678.999999999999|\n",
            "|2016-12|21657baa0be6a2d9d...|                   14|           23170.0|\n",
            "| 2017-4|ea6eb308d6adf5929...|                    2|            2237.0|\n",
            "|2016-12|b91626f56ac6d2735...|                    8|            6206.0|\n",
            "|2016-12|c43af7f3954f204b3...|                    3|            1408.0|\n",
            "| 2017-1|fd70948207e03c5ba...|                    2|11722.999999999998|\n",
            "| 2017-1|e17f19f7e8f5623db...|                    7|            5075.0|\n",
            "| 2017-4|fd4326afe2b2918d0...|                    2|             302.0|\n",
            "| 2017-4|dd0da36a8ec20482b...|                   10|23628.999999999996|\n",
            "| 2017-1|69e0efc93e129a4af...|                    2|3017.0000000000005|\n",
            "| 2017-1|f2aec5bbf633b551b...|                    2|            403.01|\n",
            "| 2017-2|bae6c4b5a4e222d3d...|                    7|            4541.0|\n",
            "| 2017-2|c11dc9b2adbdd91f2...|                    4|            1234.0|\n",
            "+-------+--------------------+---------------------+------------------+\n",
            "only showing top 20 rows\n",
            "\n"
          ],
          "name": "stdout"
        }
      ]
    },
    {
      "cell_type": "code",
      "metadata": {
        "id": "7re7GR1RYYE-"
      },
      "source": [
        "df_s = df_s.withColumn('avg_check', col('total_sum') / col('total_days_with_order')) \\\n",
        "  .withColumn('freq', 30 / col('total_days_with_order'))"
      ],
      "execution_count": null,
      "outputs": []
    },
    {
      "cell_type": "code",
      "metadata": {
        "id": "GXo3K9Kvfcrc"
      },
      "source": [
        "df_pd = df_s.toPandas()"
      ],
      "execution_count": null,
      "outputs": []
    },
    {
      "cell_type": "code",
      "metadata": {
        "colab": {
          "base_uri": "https://localhost:8080/",
          "height": 419
        },
        "id": "01Vw5ODihOr1",
        "outputId": "c227e38d-15ee-4a1a-cb94-70323a1f2566"
      },
      "source": [
        "df_pd"
      ],
      "execution_count": null,
      "outputs": [
        {
          "output_type": "execute_result",
          "data": {
            "text/html": [
              "<div>\n",
              "<style scoped>\n",
              "    .dataframe tbody tr th:only-of-type {\n",
              "        vertical-align: middle;\n",
              "    }\n",
              "\n",
              "    .dataframe tbody tr th {\n",
              "        vertical-align: top;\n",
              "    }\n",
              "\n",
              "    .dataframe thead th {\n",
              "        text-align: right;\n",
              "    }\n",
              "</style>\n",
              "<table border=\"1\" class=\"dataframe\">\n",
              "  <thead>\n",
              "    <tr style=\"text-align: right;\">\n",
              "      <th></th>\n",
              "      <th>date</th>\n",
              "      <th>client_id</th>\n",
              "      <th>total_days_with_order</th>\n",
              "      <th>total_sum</th>\n",
              "      <th>avg_check</th>\n",
              "      <th>freq</th>\n",
              "    </tr>\n",
              "  </thead>\n",
              "  <tbody>\n",
              "    <tr>\n",
              "      <th>0</th>\n",
              "      <td>2016-11</td>\n",
              "      <td>7266827577a1b04005867a9e46ba2aef</td>\n",
              "      <td>5</td>\n",
              "      <td>14997.0</td>\n",
              "      <td>2999.4</td>\n",
              "      <td>6.0</td>\n",
              "    </tr>\n",
              "    <tr>\n",
              "      <th>1</th>\n",
              "      <td>2016-11</td>\n",
              "      <td>69827202d0710757756cbc0244389925</td>\n",
              "      <td>6</td>\n",
              "      <td>6216.0</td>\n",
              "      <td>1036.0</td>\n",
              "      <td>5.0</td>\n",
              "    </tr>\n",
              "    <tr>\n",
              "      <th>2</th>\n",
              "      <td>2016-12</td>\n",
              "      <td>8ea9cc7cfdc55521f1e4d9fcf5e1aa22</td>\n",
              "      <td>1</td>\n",
              "      <td>781.0</td>\n",
              "      <td>781.0</td>\n",
              "      <td>30.0</td>\n",
              "    </tr>\n",
              "    <tr>\n",
              "      <th>3</th>\n",
              "      <td>2016-11</td>\n",
              "      <td>15dce9345b90c95c64b70a0b110444a7</td>\n",
              "      <td>2</td>\n",
              "      <td>6597.0</td>\n",
              "      <td>3298.5</td>\n",
              "      <td>15.0</td>\n",
              "    </tr>\n",
              "    <tr>\n",
              "      <th>4</th>\n",
              "      <td>2016-11</td>\n",
              "      <td>f780091831d92a81c75b5b4934e15d23</td>\n",
              "      <td>4</td>\n",
              "      <td>7872.0</td>\n",
              "      <td>1968.0</td>\n",
              "      <td>7.5</td>\n",
              "    </tr>\n",
              "    <tr>\n",
              "      <th>...</th>\n",
              "      <td>...</td>\n",
              "      <td>...</td>\n",
              "      <td>...</td>\n",
              "      <td>...</td>\n",
              "      <td>...</td>\n",
              "      <td>...</td>\n",
              "    </tr>\n",
              "    <tr>\n",
              "      <th>797204</th>\n",
              "      <td>2017-6</td>\n",
              "      <td>097a5481fd1e53e650349bd5b498408e</td>\n",
              "      <td>1</td>\n",
              "      <td>595.0</td>\n",
              "      <td>595.0</td>\n",
              "      <td>30.0</td>\n",
              "    </tr>\n",
              "    <tr>\n",
              "      <th>797205</th>\n",
              "      <td>2017-6</td>\n",
              "      <td>d944decd86b6c901116ef52145613923</td>\n",
              "      <td>1</td>\n",
              "      <td>357.0</td>\n",
              "      <td>357.0</td>\n",
              "      <td>30.0</td>\n",
              "    </tr>\n",
              "    <tr>\n",
              "      <th>797206</th>\n",
              "      <td>2017-6</td>\n",
              "      <td>61e27c3a3de2887a731fb0406b4b05bf</td>\n",
              "      <td>1</td>\n",
              "      <td>2082.0</td>\n",
              "      <td>2082.0</td>\n",
              "      <td>30.0</td>\n",
              "    </tr>\n",
              "    <tr>\n",
              "      <th>797207</th>\n",
              "      <td>2017-7</td>\n",
              "      <td>6e667d848ef47af6f55cfb39886cd044</td>\n",
              "      <td>1</td>\n",
              "      <td>2152.0</td>\n",
              "      <td>2152.0</td>\n",
              "      <td>30.0</td>\n",
              "    </tr>\n",
              "    <tr>\n",
              "      <th>797208</th>\n",
              "      <td>2017-8</td>\n",
              "      <td>dfa2cf1ee7104cc0683edc2899479d14</td>\n",
              "      <td>1</td>\n",
              "      <td>391.0</td>\n",
              "      <td>391.0</td>\n",
              "      <td>30.0</td>\n",
              "    </tr>\n",
              "  </tbody>\n",
              "</table>\n",
              "<p>797209 rows × 6 columns</p>\n",
              "</div>"
            ],
            "text/plain": [
              "           date                         client_id  total_days_with_order  \\\n",
              "0       2016-11  7266827577a1b04005867a9e46ba2aef                      5   \n",
              "1       2016-11  69827202d0710757756cbc0244389925                      6   \n",
              "2       2016-12  8ea9cc7cfdc55521f1e4d9fcf5e1aa22                      1   \n",
              "3       2016-11  15dce9345b90c95c64b70a0b110444a7                      2   \n",
              "4       2016-11  f780091831d92a81c75b5b4934e15d23                      4   \n",
              "...         ...                               ...                    ...   \n",
              "797204   2017-6  097a5481fd1e53e650349bd5b498408e                      1   \n",
              "797205   2017-6  d944decd86b6c901116ef52145613923                      1   \n",
              "797206   2017-6  61e27c3a3de2887a731fb0406b4b05bf                      1   \n",
              "797207   2017-7  6e667d848ef47af6f55cfb39886cd044                      1   \n",
              "797208   2017-8  dfa2cf1ee7104cc0683edc2899479d14                      1   \n",
              "\n",
              "        total_sum  avg_check  freq  \n",
              "0         14997.0     2999.4   6.0  \n",
              "1          6216.0     1036.0   5.0  \n",
              "2           781.0      781.0  30.0  \n",
              "3          6597.0     3298.5  15.0  \n",
              "4          7872.0     1968.0   7.5  \n",
              "...           ...        ...   ...  \n",
              "797204      595.0      595.0  30.0  \n",
              "797205      357.0      357.0  30.0  \n",
              "797206     2082.0     2082.0  30.0  \n",
              "797207     2152.0     2152.0  30.0  \n",
              "797208      391.0      391.0  30.0  \n",
              "\n",
              "[797209 rows x 6 columns]"
            ]
          },
          "metadata": {
            "tags": []
          },
          "execution_count": 89
        }
      ]
    },
    {
      "cell_type": "code",
      "metadata": {
        "id": "Kt8vPw0dpa_a"
      },
      "source": [
        "list1 = pd.to_datetime(pd.Series(df_pd['date'].unique())).sort_values().astype(str).str[:7].values.tolist()\n",
        "\n",
        "periods= []\n",
        "for el in list1:\n",
        "  if el[5] == '0':\n",
        "    el = \"\".join([char for num, char in enumerate(el) if num != 5])\n",
        "    periods.append(el)\n",
        "  else:\n",
        "    periods.append(el)\n"
      ],
      "execution_count": null,
      "outputs": []
    },
    {
      "cell_type": "code",
      "metadata": {
        "id": "yU4XhiYgp61w"
      },
      "source": [
        "periods_dict = dict(zip(periods, list(range(1, len(periods)+1))))\n"
      ],
      "execution_count": null,
      "outputs": []
    },
    {
      "cell_type": "code",
      "metadata": {
        "id": "_C-1ESAkHoGY"
      },
      "source": [
        "df_pd['period'] = df_pd['date'].map(periods_dict)"
      ],
      "execution_count": null,
      "outputs": []
    },
    {
      "cell_type": "code",
      "metadata": {
        "id": "ASW9_Ic1utID"
      },
      "source": [
        "cols = ['total_sum',\t'avg_check',\t'freq']\n",
        "periods = sorted(df_pd['period'].unique())\n",
        "\n",
        "bins = np.arange(0,1+0.2,0.2,).tolist()\n",
        "\n",
        "ratings_cols = []\n",
        "for period in periods:\n",
        "  for agg_col in cols:\n",
        "    col = f'{period}_{agg_col}'\n",
        "    df_pd[col] = \\\n",
        "    pd.qcut(\n",
        "        x=df_pd[df_pd['period'] == period][agg_col],\n",
        "        q=bins, duplicates='drop')\n",
        "    ratings_cols.append(col)\n"
      ],
      "execution_count": null,
      "outputs": []
    },
    {
      "cell_type": "code",
      "metadata": {
        "id": "TPAlSWryl6Cx"
      },
      "source": [
        "df_pd[ratings_cols] = (df_pd[ratings_cols].apply(lambda x: x.cat.codes) +1).astype(np.uint16)"
      ],
      "execution_count": null,
      "outputs": []
    },
    {
      "cell_type": "code",
      "metadata": {
        "colab": {
          "base_uri": "https://localhost:8080/",
          "height": 609
        },
        "id": "2t_gaOk6v48b",
        "outputId": "b5262b15-7d35-4887-a9c7-f2b96bbe7464"
      },
      "source": [
        "df_pd"
      ],
      "execution_count": null,
      "outputs": [
        {
          "output_type": "execute_result",
          "data": {
            "text/html": [
              "<div>\n",
              "<style scoped>\n",
              "    .dataframe tbody tr th:only-of-type {\n",
              "        vertical-align: middle;\n",
              "    }\n",
              "\n",
              "    .dataframe tbody tr th {\n",
              "        vertical-align: top;\n",
              "    }\n",
              "\n",
              "    .dataframe thead th {\n",
              "        text-align: right;\n",
              "    }\n",
              "</style>\n",
              "<table border=\"1\" class=\"dataframe\">\n",
              "  <thead>\n",
              "    <tr style=\"text-align: right;\">\n",
              "      <th></th>\n",
              "      <th>date</th>\n",
              "      <th>client_id</th>\n",
              "      <th>total_days_with_order</th>\n",
              "      <th>total_sum</th>\n",
              "      <th>avg_check</th>\n",
              "      <th>freq</th>\n",
              "      <th>period</th>\n",
              "      <th>1_total_sum</th>\n",
              "      <th>1_avg_check</th>\n",
              "      <th>1_freq</th>\n",
              "      <th>2_total_sum</th>\n",
              "      <th>2_avg_check</th>\n",
              "      <th>2_freq</th>\n",
              "      <th>3_total_sum</th>\n",
              "      <th>3_avg_check</th>\n",
              "      <th>3_freq</th>\n",
              "      <th>4_total_sum</th>\n",
              "      <th>4_avg_check</th>\n",
              "      <th>4_freq</th>\n",
              "      <th>5_total_sum</th>\n",
              "      <th>5_avg_check</th>\n",
              "      <th>5_freq</th>\n",
              "      <th>6_total_sum</th>\n",
              "      <th>6_avg_check</th>\n",
              "      <th>6_freq</th>\n",
              "      <th>7_total_sum</th>\n",
              "      <th>7_avg_check</th>\n",
              "      <th>7_freq</th>\n",
              "      <th>8_total_sum</th>\n",
              "      <th>8_avg_check</th>\n",
              "      <th>8_freq</th>\n",
              "      <th>9_total_sum</th>\n",
              "      <th>9_avg_check</th>\n",
              "      <th>9_freq</th>\n",
              "      <th>10_total_sum</th>\n",
              "      <th>10_avg_check</th>\n",
              "      <th>10_freq</th>\n",
              "      <th>11_total_sum</th>\n",
              "      <th>11_avg_check</th>\n",
              "      <th>11_freq</th>\n",
              "      <th>12_total_sum</th>\n",
              "      <th>12_avg_check</th>\n",
              "      <th>12_freq</th>\n",
              "      <th>13_total_sum</th>\n",
              "      <th>13_avg_check</th>\n",
              "      <th>13_freq</th>\n",
              "    </tr>\n",
              "  </thead>\n",
              "  <tbody>\n",
              "    <tr>\n",
              "      <th>0</th>\n",
              "      <td>2016-11</td>\n",
              "      <td>7266827577a1b04005867a9e46ba2aef</td>\n",
              "      <td>5</td>\n",
              "      <td>14997.0</td>\n",
              "      <td>2999.4</td>\n",
              "      <td>6.0</td>\n",
              "      <td>2</td>\n",
              "      <td>0</td>\n",
              "      <td>0</td>\n",
              "      <td>0</td>\n",
              "      <td>5</td>\n",
              "      <td>5</td>\n",
              "      <td>1</td>\n",
              "      <td>0</td>\n",
              "      <td>0</td>\n",
              "      <td>0</td>\n",
              "      <td>0</td>\n",
              "      <td>0</td>\n",
              "      <td>0</td>\n",
              "      <td>0</td>\n",
              "      <td>0</td>\n",
              "      <td>0</td>\n",
              "      <td>0</td>\n",
              "      <td>0</td>\n",
              "      <td>0</td>\n",
              "      <td>0</td>\n",
              "      <td>0</td>\n",
              "      <td>0</td>\n",
              "      <td>0</td>\n",
              "      <td>0</td>\n",
              "      <td>0</td>\n",
              "      <td>0</td>\n",
              "      <td>0</td>\n",
              "      <td>0</td>\n",
              "      <td>0</td>\n",
              "      <td>0</td>\n",
              "      <td>0</td>\n",
              "      <td>0</td>\n",
              "      <td>0</td>\n",
              "      <td>0</td>\n",
              "      <td>0</td>\n",
              "      <td>0</td>\n",
              "      <td>0</td>\n",
              "      <td>0</td>\n",
              "      <td>0</td>\n",
              "      <td>0</td>\n",
              "    </tr>\n",
              "    <tr>\n",
              "      <th>1</th>\n",
              "      <td>2016-11</td>\n",
              "      <td>69827202d0710757756cbc0244389925</td>\n",
              "      <td>6</td>\n",
              "      <td>6216.0</td>\n",
              "      <td>1036.0</td>\n",
              "      <td>5.0</td>\n",
              "      <td>2</td>\n",
              "      <td>0</td>\n",
              "      <td>0</td>\n",
              "      <td>0</td>\n",
              "      <td>4</td>\n",
              "      <td>3</td>\n",
              "      <td>1</td>\n",
              "      <td>0</td>\n",
              "      <td>0</td>\n",
              "      <td>0</td>\n",
              "      <td>0</td>\n",
              "      <td>0</td>\n",
              "      <td>0</td>\n",
              "      <td>0</td>\n",
              "      <td>0</td>\n",
              "      <td>0</td>\n",
              "      <td>0</td>\n",
              "      <td>0</td>\n",
              "      <td>0</td>\n",
              "      <td>0</td>\n",
              "      <td>0</td>\n",
              "      <td>0</td>\n",
              "      <td>0</td>\n",
              "      <td>0</td>\n",
              "      <td>0</td>\n",
              "      <td>0</td>\n",
              "      <td>0</td>\n",
              "      <td>0</td>\n",
              "      <td>0</td>\n",
              "      <td>0</td>\n",
              "      <td>0</td>\n",
              "      <td>0</td>\n",
              "      <td>0</td>\n",
              "      <td>0</td>\n",
              "      <td>0</td>\n",
              "      <td>0</td>\n",
              "      <td>0</td>\n",
              "      <td>0</td>\n",
              "      <td>0</td>\n",
              "      <td>0</td>\n",
              "    </tr>\n",
              "    <tr>\n",
              "      <th>2</th>\n",
              "      <td>2016-12</td>\n",
              "      <td>8ea9cc7cfdc55521f1e4d9fcf5e1aa22</td>\n",
              "      <td>1</td>\n",
              "      <td>781.0</td>\n",
              "      <td>781.0</td>\n",
              "      <td>30.0</td>\n",
              "      <td>3</td>\n",
              "      <td>0</td>\n",
              "      <td>0</td>\n",
              "      <td>0</td>\n",
              "      <td>0</td>\n",
              "      <td>0</td>\n",
              "      <td>0</td>\n",
              "      <td>1</td>\n",
              "      <td>2</td>\n",
              "      <td>4</td>\n",
              "      <td>0</td>\n",
              "      <td>0</td>\n",
              "      <td>0</td>\n",
              "      <td>0</td>\n",
              "      <td>0</td>\n",
              "      <td>0</td>\n",
              "      <td>0</td>\n",
              "      <td>0</td>\n",
              "      <td>0</td>\n",
              "      <td>0</td>\n",
              "      <td>0</td>\n",
              "      <td>0</td>\n",
              "      <td>0</td>\n",
              "      <td>0</td>\n",
              "      <td>0</td>\n",
              "      <td>0</td>\n",
              "      <td>0</td>\n",
              "      <td>0</td>\n",
              "      <td>0</td>\n",
              "      <td>0</td>\n",
              "      <td>0</td>\n",
              "      <td>0</td>\n",
              "      <td>0</td>\n",
              "      <td>0</td>\n",
              "      <td>0</td>\n",
              "      <td>0</td>\n",
              "      <td>0</td>\n",
              "      <td>0</td>\n",
              "      <td>0</td>\n",
              "      <td>0</td>\n",
              "    </tr>\n",
              "    <tr>\n",
              "      <th>3</th>\n",
              "      <td>2016-11</td>\n",
              "      <td>15dce9345b90c95c64b70a0b110444a7</td>\n",
              "      <td>2</td>\n",
              "      <td>6597.0</td>\n",
              "      <td>3298.5</td>\n",
              "      <td>15.0</td>\n",
              "      <td>2</td>\n",
              "      <td>0</td>\n",
              "      <td>0</td>\n",
              "      <td>0</td>\n",
              "      <td>5</td>\n",
              "      <td>5</td>\n",
              "      <td>3</td>\n",
              "      <td>0</td>\n",
              "      <td>0</td>\n",
              "      <td>0</td>\n",
              "      <td>0</td>\n",
              "      <td>0</td>\n",
              "      <td>0</td>\n",
              "      <td>0</td>\n",
              "      <td>0</td>\n",
              "      <td>0</td>\n",
              "      <td>0</td>\n",
              "      <td>0</td>\n",
              "      <td>0</td>\n",
              "      <td>0</td>\n",
              "      <td>0</td>\n",
              "      <td>0</td>\n",
              "      <td>0</td>\n",
              "      <td>0</td>\n",
              "      <td>0</td>\n",
              "      <td>0</td>\n",
              "      <td>0</td>\n",
              "      <td>0</td>\n",
              "      <td>0</td>\n",
              "      <td>0</td>\n",
              "      <td>0</td>\n",
              "      <td>0</td>\n",
              "      <td>0</td>\n",
              "      <td>0</td>\n",
              "      <td>0</td>\n",
              "      <td>0</td>\n",
              "      <td>0</td>\n",
              "      <td>0</td>\n",
              "      <td>0</td>\n",
              "      <td>0</td>\n",
              "    </tr>\n",
              "    <tr>\n",
              "      <th>4</th>\n",
              "      <td>2016-11</td>\n",
              "      <td>f780091831d92a81c75b5b4934e15d23</td>\n",
              "      <td>4</td>\n",
              "      <td>7872.0</td>\n",
              "      <td>1968.0</td>\n",
              "      <td>7.5</td>\n",
              "      <td>2</td>\n",
              "      <td>0</td>\n",
              "      <td>0</td>\n",
              "      <td>0</td>\n",
              "      <td>5</td>\n",
              "      <td>4</td>\n",
              "      <td>1</td>\n",
              "      <td>0</td>\n",
              "      <td>0</td>\n",
              "      <td>0</td>\n",
              "      <td>0</td>\n",
              "      <td>0</td>\n",
              "      <td>0</td>\n",
              "      <td>0</td>\n",
              "      <td>0</td>\n",
              "      <td>0</td>\n",
              "      <td>0</td>\n",
              "      <td>0</td>\n",
              "      <td>0</td>\n",
              "      <td>0</td>\n",
              "      <td>0</td>\n",
              "      <td>0</td>\n",
              "      <td>0</td>\n",
              "      <td>0</td>\n",
              "      <td>0</td>\n",
              "      <td>0</td>\n",
              "      <td>0</td>\n",
              "      <td>0</td>\n",
              "      <td>0</td>\n",
              "      <td>0</td>\n",
              "      <td>0</td>\n",
              "      <td>0</td>\n",
              "      <td>0</td>\n",
              "      <td>0</td>\n",
              "      <td>0</td>\n",
              "      <td>0</td>\n",
              "      <td>0</td>\n",
              "      <td>0</td>\n",
              "      <td>0</td>\n",
              "      <td>0</td>\n",
              "    </tr>\n",
              "    <tr>\n",
              "      <th>...</th>\n",
              "      <td>...</td>\n",
              "      <td>...</td>\n",
              "      <td>...</td>\n",
              "      <td>...</td>\n",
              "      <td>...</td>\n",
              "      <td>...</td>\n",
              "      <td>...</td>\n",
              "      <td>...</td>\n",
              "      <td>...</td>\n",
              "      <td>...</td>\n",
              "      <td>...</td>\n",
              "      <td>...</td>\n",
              "      <td>...</td>\n",
              "      <td>...</td>\n",
              "      <td>...</td>\n",
              "      <td>...</td>\n",
              "      <td>...</td>\n",
              "      <td>...</td>\n",
              "      <td>...</td>\n",
              "      <td>...</td>\n",
              "      <td>...</td>\n",
              "      <td>...</td>\n",
              "      <td>...</td>\n",
              "      <td>...</td>\n",
              "      <td>...</td>\n",
              "      <td>...</td>\n",
              "      <td>...</td>\n",
              "      <td>...</td>\n",
              "      <td>...</td>\n",
              "      <td>...</td>\n",
              "      <td>...</td>\n",
              "      <td>...</td>\n",
              "      <td>...</td>\n",
              "      <td>...</td>\n",
              "      <td>...</td>\n",
              "      <td>...</td>\n",
              "      <td>...</td>\n",
              "      <td>...</td>\n",
              "      <td>...</td>\n",
              "      <td>...</td>\n",
              "      <td>...</td>\n",
              "      <td>...</td>\n",
              "      <td>...</td>\n",
              "      <td>...</td>\n",
              "      <td>...</td>\n",
              "      <td>...</td>\n",
              "    </tr>\n",
              "    <tr>\n",
              "      <th>797204</th>\n",
              "      <td>2017-6</td>\n",
              "      <td>097a5481fd1e53e650349bd5b498408e</td>\n",
              "      <td>1</td>\n",
              "      <td>595.0</td>\n",
              "      <td>595.0</td>\n",
              "      <td>30.0</td>\n",
              "      <td>9</td>\n",
              "      <td>0</td>\n",
              "      <td>0</td>\n",
              "      <td>0</td>\n",
              "      <td>0</td>\n",
              "      <td>0</td>\n",
              "      <td>0</td>\n",
              "      <td>0</td>\n",
              "      <td>0</td>\n",
              "      <td>0</td>\n",
              "      <td>0</td>\n",
              "      <td>0</td>\n",
              "      <td>0</td>\n",
              "      <td>0</td>\n",
              "      <td>0</td>\n",
              "      <td>0</td>\n",
              "      <td>0</td>\n",
              "      <td>0</td>\n",
              "      <td>0</td>\n",
              "      <td>0</td>\n",
              "      <td>0</td>\n",
              "      <td>0</td>\n",
              "      <td>0</td>\n",
              "      <td>0</td>\n",
              "      <td>0</td>\n",
              "      <td>1</td>\n",
              "      <td>2</td>\n",
              "      <td>4</td>\n",
              "      <td>0</td>\n",
              "      <td>0</td>\n",
              "      <td>0</td>\n",
              "      <td>0</td>\n",
              "      <td>0</td>\n",
              "      <td>0</td>\n",
              "      <td>0</td>\n",
              "      <td>0</td>\n",
              "      <td>0</td>\n",
              "      <td>0</td>\n",
              "      <td>0</td>\n",
              "      <td>0</td>\n",
              "    </tr>\n",
              "    <tr>\n",
              "      <th>797205</th>\n",
              "      <td>2017-6</td>\n",
              "      <td>d944decd86b6c901116ef52145613923</td>\n",
              "      <td>1</td>\n",
              "      <td>357.0</td>\n",
              "      <td>357.0</td>\n",
              "      <td>30.0</td>\n",
              "      <td>9</td>\n",
              "      <td>0</td>\n",
              "      <td>0</td>\n",
              "      <td>0</td>\n",
              "      <td>0</td>\n",
              "      <td>0</td>\n",
              "      <td>0</td>\n",
              "      <td>0</td>\n",
              "      <td>0</td>\n",
              "      <td>0</td>\n",
              "      <td>0</td>\n",
              "      <td>0</td>\n",
              "      <td>0</td>\n",
              "      <td>0</td>\n",
              "      <td>0</td>\n",
              "      <td>0</td>\n",
              "      <td>0</td>\n",
              "      <td>0</td>\n",
              "      <td>0</td>\n",
              "      <td>0</td>\n",
              "      <td>0</td>\n",
              "      <td>0</td>\n",
              "      <td>0</td>\n",
              "      <td>0</td>\n",
              "      <td>0</td>\n",
              "      <td>1</td>\n",
              "      <td>1</td>\n",
              "      <td>4</td>\n",
              "      <td>0</td>\n",
              "      <td>0</td>\n",
              "      <td>0</td>\n",
              "      <td>0</td>\n",
              "      <td>0</td>\n",
              "      <td>0</td>\n",
              "      <td>0</td>\n",
              "      <td>0</td>\n",
              "      <td>0</td>\n",
              "      <td>0</td>\n",
              "      <td>0</td>\n",
              "      <td>0</td>\n",
              "    </tr>\n",
              "    <tr>\n",
              "      <th>797206</th>\n",
              "      <td>2017-6</td>\n",
              "      <td>61e27c3a3de2887a731fb0406b4b05bf</td>\n",
              "      <td>1</td>\n",
              "      <td>2082.0</td>\n",
              "      <td>2082.0</td>\n",
              "      <td>30.0</td>\n",
              "      <td>9</td>\n",
              "      <td>0</td>\n",
              "      <td>0</td>\n",
              "      <td>0</td>\n",
              "      <td>0</td>\n",
              "      <td>0</td>\n",
              "      <td>0</td>\n",
              "      <td>0</td>\n",
              "      <td>0</td>\n",
              "      <td>0</td>\n",
              "      <td>0</td>\n",
              "      <td>0</td>\n",
              "      <td>0</td>\n",
              "      <td>0</td>\n",
              "      <td>0</td>\n",
              "      <td>0</td>\n",
              "      <td>0</td>\n",
              "      <td>0</td>\n",
              "      <td>0</td>\n",
              "      <td>0</td>\n",
              "      <td>0</td>\n",
              "      <td>0</td>\n",
              "      <td>0</td>\n",
              "      <td>0</td>\n",
              "      <td>0</td>\n",
              "      <td>2</td>\n",
              "      <td>4</td>\n",
              "      <td>4</td>\n",
              "      <td>0</td>\n",
              "      <td>0</td>\n",
              "      <td>0</td>\n",
              "      <td>0</td>\n",
              "      <td>0</td>\n",
              "      <td>0</td>\n",
              "      <td>0</td>\n",
              "      <td>0</td>\n",
              "      <td>0</td>\n",
              "      <td>0</td>\n",
              "      <td>0</td>\n",
              "      <td>0</td>\n",
              "    </tr>\n",
              "    <tr>\n",
              "      <th>797207</th>\n",
              "      <td>2017-7</td>\n",
              "      <td>6e667d848ef47af6f55cfb39886cd044</td>\n",
              "      <td>1</td>\n",
              "      <td>2152.0</td>\n",
              "      <td>2152.0</td>\n",
              "      <td>30.0</td>\n",
              "      <td>10</td>\n",
              "      <td>0</td>\n",
              "      <td>0</td>\n",
              "      <td>0</td>\n",
              "      <td>0</td>\n",
              "      <td>0</td>\n",
              "      <td>0</td>\n",
              "      <td>0</td>\n",
              "      <td>0</td>\n",
              "      <td>0</td>\n",
              "      <td>0</td>\n",
              "      <td>0</td>\n",
              "      <td>0</td>\n",
              "      <td>0</td>\n",
              "      <td>0</td>\n",
              "      <td>0</td>\n",
              "      <td>0</td>\n",
              "      <td>0</td>\n",
              "      <td>0</td>\n",
              "      <td>0</td>\n",
              "      <td>0</td>\n",
              "      <td>0</td>\n",
              "      <td>0</td>\n",
              "      <td>0</td>\n",
              "      <td>0</td>\n",
              "      <td>0</td>\n",
              "      <td>0</td>\n",
              "      <td>0</td>\n",
              "      <td>2</td>\n",
              "      <td>4</td>\n",
              "      <td>4</td>\n",
              "      <td>0</td>\n",
              "      <td>0</td>\n",
              "      <td>0</td>\n",
              "      <td>0</td>\n",
              "      <td>0</td>\n",
              "      <td>0</td>\n",
              "      <td>0</td>\n",
              "      <td>0</td>\n",
              "      <td>0</td>\n",
              "    </tr>\n",
              "    <tr>\n",
              "      <th>797208</th>\n",
              "      <td>2017-8</td>\n",
              "      <td>dfa2cf1ee7104cc0683edc2899479d14</td>\n",
              "      <td>1</td>\n",
              "      <td>391.0</td>\n",
              "      <td>391.0</td>\n",
              "      <td>30.0</td>\n",
              "      <td>11</td>\n",
              "      <td>0</td>\n",
              "      <td>0</td>\n",
              "      <td>0</td>\n",
              "      <td>0</td>\n",
              "      <td>0</td>\n",
              "      <td>0</td>\n",
              "      <td>0</td>\n",
              "      <td>0</td>\n",
              "      <td>0</td>\n",
              "      <td>0</td>\n",
              "      <td>0</td>\n",
              "      <td>0</td>\n",
              "      <td>0</td>\n",
              "      <td>0</td>\n",
              "      <td>0</td>\n",
              "      <td>0</td>\n",
              "      <td>0</td>\n",
              "      <td>0</td>\n",
              "      <td>0</td>\n",
              "      <td>0</td>\n",
              "      <td>0</td>\n",
              "      <td>0</td>\n",
              "      <td>0</td>\n",
              "      <td>0</td>\n",
              "      <td>0</td>\n",
              "      <td>0</td>\n",
              "      <td>0</td>\n",
              "      <td>0</td>\n",
              "      <td>0</td>\n",
              "      <td>0</td>\n",
              "      <td>1</td>\n",
              "      <td>1</td>\n",
              "      <td>4</td>\n",
              "      <td>0</td>\n",
              "      <td>0</td>\n",
              "      <td>0</td>\n",
              "      <td>0</td>\n",
              "      <td>0</td>\n",
              "      <td>0</td>\n",
              "    </tr>\n",
              "  </tbody>\n",
              "</table>\n",
              "<p>797209 rows × 46 columns</p>\n",
              "</div>"
            ],
            "text/plain": [
              "           date                         client_id  total_days_with_order  \\\n",
              "0       2016-11  7266827577a1b04005867a9e46ba2aef                      5   \n",
              "1       2016-11  69827202d0710757756cbc0244389925                      6   \n",
              "2       2016-12  8ea9cc7cfdc55521f1e4d9fcf5e1aa22                      1   \n",
              "3       2016-11  15dce9345b90c95c64b70a0b110444a7                      2   \n",
              "4       2016-11  f780091831d92a81c75b5b4934e15d23                      4   \n",
              "...         ...                               ...                    ...   \n",
              "797204   2017-6  097a5481fd1e53e650349bd5b498408e                      1   \n",
              "797205   2017-6  d944decd86b6c901116ef52145613923                      1   \n",
              "797206   2017-6  61e27c3a3de2887a731fb0406b4b05bf                      1   \n",
              "797207   2017-7  6e667d848ef47af6f55cfb39886cd044                      1   \n",
              "797208   2017-8  dfa2cf1ee7104cc0683edc2899479d14                      1   \n",
              "\n",
              "        total_sum  avg_check  freq  period  1_total_sum  1_avg_check  1_freq  \\\n",
              "0         14997.0     2999.4   6.0       2            0            0       0   \n",
              "1          6216.0     1036.0   5.0       2            0            0       0   \n",
              "2           781.0      781.0  30.0       3            0            0       0   \n",
              "3          6597.0     3298.5  15.0       2            0            0       0   \n",
              "4          7872.0     1968.0   7.5       2            0            0       0   \n",
              "...           ...        ...   ...     ...          ...          ...     ...   \n",
              "797204      595.0      595.0  30.0       9            0            0       0   \n",
              "797205      357.0      357.0  30.0       9            0            0       0   \n",
              "797206     2082.0     2082.0  30.0       9            0            0       0   \n",
              "797207     2152.0     2152.0  30.0      10            0            0       0   \n",
              "797208      391.0      391.0  30.0      11            0            0       0   \n",
              "\n",
              "        2_total_sum  2_avg_check  2_freq  3_total_sum  3_avg_check  3_freq  \\\n",
              "0                 5            5       1            0            0       0   \n",
              "1                 4            3       1            0            0       0   \n",
              "2                 0            0       0            1            2       4   \n",
              "3                 5            5       3            0            0       0   \n",
              "4                 5            4       1            0            0       0   \n",
              "...             ...          ...     ...          ...          ...     ...   \n",
              "797204            0            0       0            0            0       0   \n",
              "797205            0            0       0            0            0       0   \n",
              "797206            0            0       0            0            0       0   \n",
              "797207            0            0       0            0            0       0   \n",
              "797208            0            0       0            0            0       0   \n",
              "\n",
              "        4_total_sum  4_avg_check  4_freq  5_total_sum  5_avg_check  5_freq  \\\n",
              "0                 0            0       0            0            0       0   \n",
              "1                 0            0       0            0            0       0   \n",
              "2                 0            0       0            0            0       0   \n",
              "3                 0            0       0            0            0       0   \n",
              "4                 0            0       0            0            0       0   \n",
              "...             ...          ...     ...          ...          ...     ...   \n",
              "797204            0            0       0            0            0       0   \n",
              "797205            0            0       0            0            0       0   \n",
              "797206            0            0       0            0            0       0   \n",
              "797207            0            0       0            0            0       0   \n",
              "797208            0            0       0            0            0       0   \n",
              "\n",
              "        6_total_sum  6_avg_check  6_freq  7_total_sum  7_avg_check  7_freq  \\\n",
              "0                 0            0       0            0            0       0   \n",
              "1                 0            0       0            0            0       0   \n",
              "2                 0            0       0            0            0       0   \n",
              "3                 0            0       0            0            0       0   \n",
              "4                 0            0       0            0            0       0   \n",
              "...             ...          ...     ...          ...          ...     ...   \n",
              "797204            0            0       0            0            0       0   \n",
              "797205            0            0       0            0            0       0   \n",
              "797206            0            0       0            0            0       0   \n",
              "797207            0            0       0            0            0       0   \n",
              "797208            0            0       0            0            0       0   \n",
              "\n",
              "        8_total_sum  8_avg_check  8_freq  9_total_sum  9_avg_check  9_freq  \\\n",
              "0                 0            0       0            0            0       0   \n",
              "1                 0            0       0            0            0       0   \n",
              "2                 0            0       0            0            0       0   \n",
              "3                 0            0       0            0            0       0   \n",
              "4                 0            0       0            0            0       0   \n",
              "...             ...          ...     ...          ...          ...     ...   \n",
              "797204            0            0       0            1            2       4   \n",
              "797205            0            0       0            1            1       4   \n",
              "797206            0            0       0            2            4       4   \n",
              "797207            0            0       0            0            0       0   \n",
              "797208            0            0       0            0            0       0   \n",
              "\n",
              "        10_total_sum  10_avg_check  10_freq  11_total_sum  11_avg_check  \\\n",
              "0                  0             0        0             0             0   \n",
              "1                  0             0        0             0             0   \n",
              "2                  0             0        0             0             0   \n",
              "3                  0             0        0             0             0   \n",
              "4                  0             0        0             0             0   \n",
              "...              ...           ...      ...           ...           ...   \n",
              "797204             0             0        0             0             0   \n",
              "797205             0             0        0             0             0   \n",
              "797206             0             0        0             0             0   \n",
              "797207             2             4        4             0             0   \n",
              "797208             0             0        0             1             1   \n",
              "\n",
              "        11_freq  12_total_sum  12_avg_check  12_freq  13_total_sum  \\\n",
              "0             0             0             0        0             0   \n",
              "1             0             0             0        0             0   \n",
              "2             0             0             0        0             0   \n",
              "3             0             0             0        0             0   \n",
              "4             0             0             0        0             0   \n",
              "...         ...           ...           ...      ...           ...   \n",
              "797204        0             0             0        0             0   \n",
              "797205        0             0             0        0             0   \n",
              "797206        0             0             0        0             0   \n",
              "797207        0             0             0        0             0   \n",
              "797208        4             0             0        0             0   \n",
              "\n",
              "        13_avg_check  13_freq  \n",
              "0                  0        0  \n",
              "1                  0        0  \n",
              "2                  0        0  \n",
              "3                  0        0  \n",
              "4                  0        0  \n",
              "...              ...      ...  \n",
              "797204             0        0  \n",
              "797205             0        0  \n",
              "797206             0        0  \n",
              "797207             0        0  \n",
              "797208             0        0  \n",
              "\n",
              "[797209 rows x 46 columns]"
            ]
          },
          "metadata": {
            "tags": []
          },
          "execution_count": 95
        }
      ]
    },
    {
      "cell_type": "code",
      "metadata": {
        "id": "aaBvR_6UBS3_"
      },
      "source": [
        "df = df_pd.groupby('client_id').sum('1_total_sum')"
      ],
      "execution_count": null,
      "outputs": []
    },
    {
      "cell_type": "code",
      "metadata": {
        "colab": {
          "base_uri": "https://localhost:8080/",
          "height": 470
        },
        "id": "trAgbjxFBzW4",
        "outputId": "cdad24b9-e3dc-4c2b-dc32-8dc149b30b00"
      },
      "source": [
        "df"
      ],
      "execution_count": null,
      "outputs": [
        {
          "output_type": "execute_result",
          "data": {
            "text/html": [
              "<div>\n",
              "<style scoped>\n",
              "    .dataframe tbody tr th:only-of-type {\n",
              "        vertical-align: middle;\n",
              "    }\n",
              "\n",
              "    .dataframe tbody tr th {\n",
              "        vertical-align: top;\n",
              "    }\n",
              "\n",
              "    .dataframe thead th {\n",
              "        text-align: right;\n",
              "    }\n",
              "</style>\n",
              "<table border=\"1\" class=\"dataframe\">\n",
              "  <thead>\n",
              "    <tr style=\"text-align: right;\">\n",
              "      <th></th>\n",
              "      <th>total_days_with_order</th>\n",
              "      <th>total_sum</th>\n",
              "      <th>avg_check</th>\n",
              "      <th>freq</th>\n",
              "      <th>period</th>\n",
              "      <th>1_total_sum</th>\n",
              "      <th>1_avg_check</th>\n",
              "      <th>1_freq</th>\n",
              "      <th>2_total_sum</th>\n",
              "      <th>2_avg_check</th>\n",
              "      <th>2_freq</th>\n",
              "      <th>3_total_sum</th>\n",
              "      <th>3_avg_check</th>\n",
              "      <th>3_freq</th>\n",
              "      <th>4_total_sum</th>\n",
              "      <th>4_avg_check</th>\n",
              "      <th>4_freq</th>\n",
              "      <th>5_total_sum</th>\n",
              "      <th>5_avg_check</th>\n",
              "      <th>5_freq</th>\n",
              "      <th>6_total_sum</th>\n",
              "      <th>6_avg_check</th>\n",
              "      <th>6_freq</th>\n",
              "      <th>7_total_sum</th>\n",
              "      <th>7_avg_check</th>\n",
              "      <th>7_freq</th>\n",
              "      <th>8_total_sum</th>\n",
              "      <th>8_avg_check</th>\n",
              "      <th>8_freq</th>\n",
              "      <th>9_total_sum</th>\n",
              "      <th>9_avg_check</th>\n",
              "      <th>9_freq</th>\n",
              "      <th>10_total_sum</th>\n",
              "      <th>10_avg_check</th>\n",
              "      <th>10_freq</th>\n",
              "      <th>11_total_sum</th>\n",
              "      <th>11_avg_check</th>\n",
              "      <th>11_freq</th>\n",
              "      <th>12_total_sum</th>\n",
              "      <th>12_avg_check</th>\n",
              "      <th>12_freq</th>\n",
              "      <th>13_total_sum</th>\n",
              "      <th>13_avg_check</th>\n",
              "      <th>13_freq</th>\n",
              "    </tr>\n",
              "    <tr>\n",
              "      <th>client_id</th>\n",
              "      <th></th>\n",
              "      <th></th>\n",
              "      <th></th>\n",
              "      <th></th>\n",
              "      <th></th>\n",
              "      <th></th>\n",
              "      <th></th>\n",
              "      <th></th>\n",
              "      <th></th>\n",
              "      <th></th>\n",
              "      <th></th>\n",
              "      <th></th>\n",
              "      <th></th>\n",
              "      <th></th>\n",
              "      <th></th>\n",
              "      <th></th>\n",
              "      <th></th>\n",
              "      <th></th>\n",
              "      <th></th>\n",
              "      <th></th>\n",
              "      <th></th>\n",
              "      <th></th>\n",
              "      <th></th>\n",
              "      <th></th>\n",
              "      <th></th>\n",
              "      <th></th>\n",
              "      <th></th>\n",
              "      <th></th>\n",
              "      <th></th>\n",
              "      <th></th>\n",
              "      <th></th>\n",
              "      <th></th>\n",
              "      <th></th>\n",
              "      <th></th>\n",
              "      <th></th>\n",
              "      <th></th>\n",
              "      <th></th>\n",
              "      <th></th>\n",
              "      <th></th>\n",
              "      <th></th>\n",
              "      <th></th>\n",
              "      <th></th>\n",
              "      <th></th>\n",
              "      <th></th>\n",
              "    </tr>\n",
              "  </thead>\n",
              "  <tbody>\n",
              "    <tr>\n",
              "      <th>0000d48a8891cd462fdf01ea861ec53e</th>\n",
              "      <td>36</td>\n",
              "      <td>85898.00</td>\n",
              "      <td>25503.866667</td>\n",
              "      <td>139.500000</td>\n",
              "      <td>66</td>\n",
              "      <td>2</td>\n",
              "      <td>4</td>\n",
              "      <td>3</td>\n",
              "      <td>3</td>\n",
              "      <td>5</td>\n",
              "      <td>4</td>\n",
              "      <td>5</td>\n",
              "      <td>4</td>\n",
              "      <td>1</td>\n",
              "      <td>5</td>\n",
              "      <td>5</td>\n",
              "      <td>2</td>\n",
              "      <td>2</td>\n",
              "      <td>3</td>\n",
              "      <td>3</td>\n",
              "      <td>5</td>\n",
              "      <td>4</td>\n",
              "      <td>1</td>\n",
              "      <td>4</td>\n",
              "      <td>4</td>\n",
              "      <td>2</td>\n",
              "      <td>5</td>\n",
              "      <td>5</td>\n",
              "      <td>2</td>\n",
              "      <td>5</td>\n",
              "      <td>4</td>\n",
              "      <td>1</td>\n",
              "      <td>5</td>\n",
              "      <td>4</td>\n",
              "      <td>1</td>\n",
              "      <td>5</td>\n",
              "      <td>5</td>\n",
              "      <td>2</td>\n",
              "      <td>0</td>\n",
              "      <td>0</td>\n",
              "      <td>0</td>\n",
              "      <td>0</td>\n",
              "      <td>0</td>\n",
              "      <td>0</td>\n",
              "    </tr>\n",
              "    <tr>\n",
              "      <th>00028a1dcb30863404a386961a69300e</th>\n",
              "      <td>30</td>\n",
              "      <td>51916.00</td>\n",
              "      <td>19160.083333</td>\n",
              "      <td>160.000000</td>\n",
              "      <td>72</td>\n",
              "      <td>3</td>\n",
              "      <td>4</td>\n",
              "      <td>2</td>\n",
              "      <td>2</td>\n",
              "      <td>4</td>\n",
              "      <td>4</td>\n",
              "      <td>2</td>\n",
              "      <td>3</td>\n",
              "      <td>4</td>\n",
              "      <td>4</td>\n",
              "      <td>5</td>\n",
              "      <td>3</td>\n",
              "      <td>5</td>\n",
              "      <td>4</td>\n",
              "      <td>1</td>\n",
              "      <td>0</td>\n",
              "      <td>0</td>\n",
              "      <td>0</td>\n",
              "      <td>2</td>\n",
              "      <td>3</td>\n",
              "      <td>3</td>\n",
              "      <td>5</td>\n",
              "      <td>5</td>\n",
              "      <td>2</td>\n",
              "      <td>5</td>\n",
              "      <td>5</td>\n",
              "      <td>2</td>\n",
              "      <td>3</td>\n",
              "      <td>2</td>\n",
              "      <td>2</td>\n",
              "      <td>3</td>\n",
              "      <td>1</td>\n",
              "      <td>1</td>\n",
              "      <td>2</td>\n",
              "      <td>2</td>\n",
              "      <td>3</td>\n",
              "      <td>0</td>\n",
              "      <td>0</td>\n",
              "      <td>0</td>\n",
              "    </tr>\n",
              "    <tr>\n",
              "      <th>0004274683494a9eca5e70ef97299d55</th>\n",
              "      <td>151</td>\n",
              "      <td>101130.00</td>\n",
              "      <td>10248.463487</td>\n",
              "      <td>46.315809</td>\n",
              "      <td>91</td>\n",
              "      <td>4</td>\n",
              "      <td>1</td>\n",
              "      <td>1</td>\n",
              "      <td>4</td>\n",
              "      <td>2</td>\n",
              "      <td>1</td>\n",
              "      <td>4</td>\n",
              "      <td>2</td>\n",
              "      <td>1</td>\n",
              "      <td>4</td>\n",
              "      <td>2</td>\n",
              "      <td>1</td>\n",
              "      <td>5</td>\n",
              "      <td>2</td>\n",
              "      <td>1</td>\n",
              "      <td>4</td>\n",
              "      <td>1</td>\n",
              "      <td>1</td>\n",
              "      <td>4</td>\n",
              "      <td>1</td>\n",
              "      <td>1</td>\n",
              "      <td>5</td>\n",
              "      <td>1</td>\n",
              "      <td>1</td>\n",
              "      <td>5</td>\n",
              "      <td>2</td>\n",
              "      <td>1</td>\n",
              "      <td>5</td>\n",
              "      <td>2</td>\n",
              "      <td>1</td>\n",
              "      <td>3</td>\n",
              "      <td>1</td>\n",
              "      <td>1</td>\n",
              "      <td>5</td>\n",
              "      <td>2</td>\n",
              "      <td>1</td>\n",
              "      <td>5</td>\n",
              "      <td>5</td>\n",
              "      <td>1</td>\n",
              "    </tr>\n",
              "    <tr>\n",
              "      <th>00072f81efcb3481861f7300c5e2a88a</th>\n",
              "      <td>8</td>\n",
              "      <td>5125.00</td>\n",
              "      <td>4879.500000</td>\n",
              "      <td>195.000000</td>\n",
              "      <td>43</td>\n",
              "      <td>1</td>\n",
              "      <td>2</td>\n",
              "      <td>3</td>\n",
              "      <td>1</td>\n",
              "      <td>1</td>\n",
              "      <td>3</td>\n",
              "      <td>0</td>\n",
              "      <td>0</td>\n",
              "      <td>0</td>\n",
              "      <td>1</td>\n",
              "      <td>2</td>\n",
              "      <td>4</td>\n",
              "      <td>0</td>\n",
              "      <td>0</td>\n",
              "      <td>0</td>\n",
              "      <td>0</td>\n",
              "      <td>0</td>\n",
              "      <td>0</td>\n",
              "      <td>1</td>\n",
              "      <td>1</td>\n",
              "      <td>4</td>\n",
              "      <td>2</td>\n",
              "      <td>3</td>\n",
              "      <td>4</td>\n",
              "      <td>1</td>\n",
              "      <td>1</td>\n",
              "      <td>4</td>\n",
              "      <td>0</td>\n",
              "      <td>0</td>\n",
              "      <td>0</td>\n",
              "      <td>0</td>\n",
              "      <td>0</td>\n",
              "      <td>0</td>\n",
              "      <td>2</td>\n",
              "      <td>4</td>\n",
              "      <td>4</td>\n",
              "      <td>0</td>\n",
              "      <td>0</td>\n",
              "      <td>0</td>\n",
              "    </tr>\n",
              "    <tr>\n",
              "      <th>00076596eb749cf10c2e984621dffe95</th>\n",
              "      <td>131</td>\n",
              "      <td>203833.46</td>\n",
              "      <td>21350.698648</td>\n",
              "      <td>60.944597</td>\n",
              "      <td>91</td>\n",
              "      <td>5</td>\n",
              "      <td>3</td>\n",
              "      <td>1</td>\n",
              "      <td>4</td>\n",
              "      <td>5</td>\n",
              "      <td>3</td>\n",
              "      <td>5</td>\n",
              "      <td>3</td>\n",
              "      <td>1</td>\n",
              "      <td>5</td>\n",
              "      <td>3</td>\n",
              "      <td>1</td>\n",
              "      <td>5</td>\n",
              "      <td>4</td>\n",
              "      <td>1</td>\n",
              "      <td>5</td>\n",
              "      <td>3</td>\n",
              "      <td>1</td>\n",
              "      <td>5</td>\n",
              "      <td>4</td>\n",
              "      <td>1</td>\n",
              "      <td>5</td>\n",
              "      <td>3</td>\n",
              "      <td>1</td>\n",
              "      <td>5</td>\n",
              "      <td>3</td>\n",
              "      <td>1</td>\n",
              "      <td>5</td>\n",
              "      <td>4</td>\n",
              "      <td>1</td>\n",
              "      <td>5</td>\n",
              "      <td>3</td>\n",
              "      <td>1</td>\n",
              "      <td>5</td>\n",
              "      <td>3</td>\n",
              "      <td>1</td>\n",
              "      <td>5</td>\n",
              "      <td>4</td>\n",
              "      <td>1</td>\n",
              "    </tr>\n",
              "    <tr>\n",
              "      <th>...</th>\n",
              "      <td>...</td>\n",
              "      <td>...</td>\n",
              "      <td>...</td>\n",
              "      <td>...</td>\n",
              "      <td>...</td>\n",
              "      <td>...</td>\n",
              "      <td>...</td>\n",
              "      <td>...</td>\n",
              "      <td>...</td>\n",
              "      <td>...</td>\n",
              "      <td>...</td>\n",
              "      <td>...</td>\n",
              "      <td>...</td>\n",
              "      <td>...</td>\n",
              "      <td>...</td>\n",
              "      <td>...</td>\n",
              "      <td>...</td>\n",
              "      <td>...</td>\n",
              "      <td>...</td>\n",
              "      <td>...</td>\n",
              "      <td>...</td>\n",
              "      <td>...</td>\n",
              "      <td>...</td>\n",
              "      <td>...</td>\n",
              "      <td>...</td>\n",
              "      <td>...</td>\n",
              "      <td>...</td>\n",
              "      <td>...</td>\n",
              "      <td>...</td>\n",
              "      <td>...</td>\n",
              "      <td>...</td>\n",
              "      <td>...</td>\n",
              "      <td>...</td>\n",
              "      <td>...</td>\n",
              "      <td>...</td>\n",
              "      <td>...</td>\n",
              "      <td>...</td>\n",
              "      <td>...</td>\n",
              "      <td>...</td>\n",
              "      <td>...</td>\n",
              "      <td>...</td>\n",
              "      <td>...</td>\n",
              "      <td>...</td>\n",
              "      <td>...</td>\n",
              "    </tr>\n",
              "    <tr>\n",
              "      <th>fffb2f36eb72ff56d2ef7a2685714f01</th>\n",
              "      <td>22</td>\n",
              "      <td>59813.00</td>\n",
              "      <td>26753.083333</td>\n",
              "      <td>175.000000</td>\n",
              "      <td>64</td>\n",
              "      <td>5</td>\n",
              "      <td>4</td>\n",
              "      <td>1</td>\n",
              "      <td>2</td>\n",
              "      <td>2</td>\n",
              "      <td>3</td>\n",
              "      <td>0</td>\n",
              "      <td>0</td>\n",
              "      <td>0</td>\n",
              "      <td>4</td>\n",
              "      <td>5</td>\n",
              "      <td>3</td>\n",
              "      <td>5</td>\n",
              "      <td>5</td>\n",
              "      <td>1</td>\n",
              "      <td>3</td>\n",
              "      <td>4</td>\n",
              "      <td>3</td>\n",
              "      <td>3</td>\n",
              "      <td>4</td>\n",
              "      <td>4</td>\n",
              "      <td>4</td>\n",
              "      <td>5</td>\n",
              "      <td>3</td>\n",
              "      <td>5</td>\n",
              "      <td>5</td>\n",
              "      <td>2</td>\n",
              "      <td>3</td>\n",
              "      <td>5</td>\n",
              "      <td>4</td>\n",
              "      <td>0</td>\n",
              "      <td>0</td>\n",
              "      <td>0</td>\n",
              "      <td>2</td>\n",
              "      <td>4</td>\n",
              "      <td>4</td>\n",
              "      <td>0</td>\n",
              "      <td>0</td>\n",
              "      <td>0</td>\n",
              "    </tr>\n",
              "    <tr>\n",
              "      <th>fffb50df95231c0f090b5aa3f5332c7f</th>\n",
              "      <td>13</td>\n",
              "      <td>19016.00</td>\n",
              "      <td>13915.833333</td>\n",
              "      <td>95.000000</td>\n",
              "      <td>27</td>\n",
              "      <td>3</td>\n",
              "      <td>2</td>\n",
              "      <td>2</td>\n",
              "      <td>1</td>\n",
              "      <td>1</td>\n",
              "      <td>3</td>\n",
              "      <td>2</td>\n",
              "      <td>1</td>\n",
              "      <td>2</td>\n",
              "      <td>0</td>\n",
              "      <td>0</td>\n",
              "      <td>0</td>\n",
              "      <td>0</td>\n",
              "      <td>0</td>\n",
              "      <td>0</td>\n",
              "      <td>4</td>\n",
              "      <td>4</td>\n",
              "      <td>3</td>\n",
              "      <td>2</td>\n",
              "      <td>2</td>\n",
              "      <td>3</td>\n",
              "      <td>5</td>\n",
              "      <td>5</td>\n",
              "      <td>4</td>\n",
              "      <td>0</td>\n",
              "      <td>0</td>\n",
              "      <td>0</td>\n",
              "      <td>0</td>\n",
              "      <td>0</td>\n",
              "      <td>0</td>\n",
              "      <td>0</td>\n",
              "      <td>0</td>\n",
              "      <td>0</td>\n",
              "      <td>0</td>\n",
              "      <td>0</td>\n",
              "      <td>0</td>\n",
              "      <td>0</td>\n",
              "      <td>0</td>\n",
              "      <td>0</td>\n",
              "    </tr>\n",
              "    <tr>\n",
              "      <th>fffc3f2be1422d248dbeda4196ef0711</th>\n",
              "      <td>29</td>\n",
              "      <td>34752.00</td>\n",
              "      <td>13480.500000</td>\n",
              "      <td>139.285714</td>\n",
              "      <td>67</td>\n",
              "      <td>2</td>\n",
              "      <td>1</td>\n",
              "      <td>2</td>\n",
              "      <td>4</td>\n",
              "      <td>4</td>\n",
              "      <td>2</td>\n",
              "      <td>3</td>\n",
              "      <td>3</td>\n",
              "      <td>3</td>\n",
              "      <td>2</td>\n",
              "      <td>2</td>\n",
              "      <td>3</td>\n",
              "      <td>0</td>\n",
              "      <td>0</td>\n",
              "      <td>0</td>\n",
              "      <td>0</td>\n",
              "      <td>0</td>\n",
              "      <td>0</td>\n",
              "      <td>3</td>\n",
              "      <td>1</td>\n",
              "      <td>1</td>\n",
              "      <td>3</td>\n",
              "      <td>4</td>\n",
              "      <td>3</td>\n",
              "      <td>4</td>\n",
              "      <td>3</td>\n",
              "      <td>1</td>\n",
              "      <td>4</td>\n",
              "      <td>4</td>\n",
              "      <td>3</td>\n",
              "      <td>4</td>\n",
              "      <td>4</td>\n",
              "      <td>3</td>\n",
              "      <td>1</td>\n",
              "      <td>2</td>\n",
              "      <td>4</td>\n",
              "      <td>0</td>\n",
              "      <td>0</td>\n",
              "      <td>0</td>\n",
              "    </tr>\n",
              "    <tr>\n",
              "      <th>fffc477269ae5f219e39aa51fa7abb81</th>\n",
              "      <td>5</td>\n",
              "      <td>40915.00</td>\n",
              "      <td>40915.000000</td>\n",
              "      <td>150.000000</td>\n",
              "      <td>26</td>\n",
              "      <td>5</td>\n",
              "      <td>5</td>\n",
              "      <td>3</td>\n",
              "      <td>5</td>\n",
              "      <td>5</td>\n",
              "      <td>4</td>\n",
              "      <td>0</td>\n",
              "      <td>0</td>\n",
              "      <td>0</td>\n",
              "      <td>0</td>\n",
              "      <td>0</td>\n",
              "      <td>0</td>\n",
              "      <td>0</td>\n",
              "      <td>0</td>\n",
              "      <td>0</td>\n",
              "      <td>5</td>\n",
              "      <td>5</td>\n",
              "      <td>4</td>\n",
              "      <td>0</td>\n",
              "      <td>0</td>\n",
              "      <td>0</td>\n",
              "      <td>3</td>\n",
              "      <td>5</td>\n",
              "      <td>4</td>\n",
              "      <td>4</td>\n",
              "      <td>5</td>\n",
              "      <td>4</td>\n",
              "      <td>0</td>\n",
              "      <td>0</td>\n",
              "      <td>0</td>\n",
              "      <td>0</td>\n",
              "      <td>0</td>\n",
              "      <td>0</td>\n",
              "      <td>0</td>\n",
              "      <td>0</td>\n",
              "      <td>0</td>\n",
              "      <td>0</td>\n",
              "      <td>0</td>\n",
              "      <td>0</td>\n",
              "    </tr>\n",
              "    <tr>\n",
              "      <th>fffd3e78e3ea6bf00aee1372efc09dad</th>\n",
              "      <td>3</td>\n",
              "      <td>2654.00</td>\n",
              "      <td>2654.000000</td>\n",
              "      <td>90.000000</td>\n",
              "      <td>10</td>\n",
              "      <td>2</td>\n",
              "      <td>3</td>\n",
              "      <td>3</td>\n",
              "      <td>0</td>\n",
              "      <td>0</td>\n",
              "      <td>0</td>\n",
              "      <td>1</td>\n",
              "      <td>1</td>\n",
              "      <td>4</td>\n",
              "      <td>0</td>\n",
              "      <td>0</td>\n",
              "      <td>0</td>\n",
              "      <td>0</td>\n",
              "      <td>0</td>\n",
              "      <td>0</td>\n",
              "      <td>2</td>\n",
              "      <td>3</td>\n",
              "      <td>4</td>\n",
              "      <td>0</td>\n",
              "      <td>0</td>\n",
              "      <td>0</td>\n",
              "      <td>0</td>\n",
              "      <td>0</td>\n",
              "      <td>0</td>\n",
              "      <td>0</td>\n",
              "      <td>0</td>\n",
              "      <td>0</td>\n",
              "      <td>0</td>\n",
              "      <td>0</td>\n",
              "      <td>0</td>\n",
              "      <td>0</td>\n",
              "      <td>0</td>\n",
              "      <td>0</td>\n",
              "      <td>0</td>\n",
              "      <td>0</td>\n",
              "      <td>0</td>\n",
              "      <td>0</td>\n",
              "      <td>0</td>\n",
              "      <td>0</td>\n",
              "    </tr>\n",
              "  </tbody>\n",
              "</table>\n",
              "<p>100000 rows × 44 columns</p>\n",
              "</div>"
            ],
            "text/plain": [
              "                                  total_days_with_order  total_sum  \\\n",
              "client_id                                                            \n",
              "0000d48a8891cd462fdf01ea861ec53e                     36   85898.00   \n",
              "00028a1dcb30863404a386961a69300e                     30   51916.00   \n",
              "0004274683494a9eca5e70ef97299d55                    151  101130.00   \n",
              "00072f81efcb3481861f7300c5e2a88a                      8    5125.00   \n",
              "00076596eb749cf10c2e984621dffe95                    131  203833.46   \n",
              "...                                                 ...        ...   \n",
              "fffb2f36eb72ff56d2ef7a2685714f01                     22   59813.00   \n",
              "fffb50df95231c0f090b5aa3f5332c7f                     13   19016.00   \n",
              "fffc3f2be1422d248dbeda4196ef0711                     29   34752.00   \n",
              "fffc477269ae5f219e39aa51fa7abb81                      5   40915.00   \n",
              "fffd3e78e3ea6bf00aee1372efc09dad                      3    2654.00   \n",
              "\n",
              "                                     avg_check        freq  period  \\\n",
              "client_id                                                            \n",
              "0000d48a8891cd462fdf01ea861ec53e  25503.866667  139.500000      66   \n",
              "00028a1dcb30863404a386961a69300e  19160.083333  160.000000      72   \n",
              "0004274683494a9eca5e70ef97299d55  10248.463487   46.315809      91   \n",
              "00072f81efcb3481861f7300c5e2a88a   4879.500000  195.000000      43   \n",
              "00076596eb749cf10c2e984621dffe95  21350.698648   60.944597      91   \n",
              "...                                        ...         ...     ...   \n",
              "fffb2f36eb72ff56d2ef7a2685714f01  26753.083333  175.000000      64   \n",
              "fffb50df95231c0f090b5aa3f5332c7f  13915.833333   95.000000      27   \n",
              "fffc3f2be1422d248dbeda4196ef0711  13480.500000  139.285714      67   \n",
              "fffc477269ae5f219e39aa51fa7abb81  40915.000000  150.000000      26   \n",
              "fffd3e78e3ea6bf00aee1372efc09dad   2654.000000   90.000000      10   \n",
              "\n",
              "                                  1_total_sum  1_avg_check  1_freq  \\\n",
              "client_id                                                            \n",
              "0000d48a8891cd462fdf01ea861ec53e            2            4       3   \n",
              "00028a1dcb30863404a386961a69300e            3            4       2   \n",
              "0004274683494a9eca5e70ef97299d55            4            1       1   \n",
              "00072f81efcb3481861f7300c5e2a88a            1            2       3   \n",
              "00076596eb749cf10c2e984621dffe95            5            3       1   \n",
              "...                                       ...          ...     ...   \n",
              "fffb2f36eb72ff56d2ef7a2685714f01            5            4       1   \n",
              "fffb50df95231c0f090b5aa3f5332c7f            3            2       2   \n",
              "fffc3f2be1422d248dbeda4196ef0711            2            1       2   \n",
              "fffc477269ae5f219e39aa51fa7abb81            5            5       3   \n",
              "fffd3e78e3ea6bf00aee1372efc09dad            2            3       3   \n",
              "\n",
              "                                  2_total_sum  2_avg_check  2_freq  \\\n",
              "client_id                                                            \n",
              "0000d48a8891cd462fdf01ea861ec53e            3            5       4   \n",
              "00028a1dcb30863404a386961a69300e            2            4       4   \n",
              "0004274683494a9eca5e70ef97299d55            4            2       1   \n",
              "00072f81efcb3481861f7300c5e2a88a            1            1       3   \n",
              "00076596eb749cf10c2e984621dffe95            4            5       3   \n",
              "...                                       ...          ...     ...   \n",
              "fffb2f36eb72ff56d2ef7a2685714f01            2            2       3   \n",
              "fffb50df95231c0f090b5aa3f5332c7f            1            1       3   \n",
              "fffc3f2be1422d248dbeda4196ef0711            4            4       2   \n",
              "fffc477269ae5f219e39aa51fa7abb81            5            5       4   \n",
              "fffd3e78e3ea6bf00aee1372efc09dad            0            0       0   \n",
              "\n",
              "                                  3_total_sum  3_avg_check  3_freq  \\\n",
              "client_id                                                            \n",
              "0000d48a8891cd462fdf01ea861ec53e            5            4       1   \n",
              "00028a1dcb30863404a386961a69300e            2            3       4   \n",
              "0004274683494a9eca5e70ef97299d55            4            2       1   \n",
              "00072f81efcb3481861f7300c5e2a88a            0            0       0   \n",
              "00076596eb749cf10c2e984621dffe95            5            3       1   \n",
              "...                                       ...          ...     ...   \n",
              "fffb2f36eb72ff56d2ef7a2685714f01            0            0       0   \n",
              "fffb50df95231c0f090b5aa3f5332c7f            2            1       2   \n",
              "fffc3f2be1422d248dbeda4196ef0711            3            3       3   \n",
              "fffc477269ae5f219e39aa51fa7abb81            0            0       0   \n",
              "fffd3e78e3ea6bf00aee1372efc09dad            1            1       4   \n",
              "\n",
              "                                  4_total_sum  4_avg_check  4_freq  \\\n",
              "client_id                                                            \n",
              "0000d48a8891cd462fdf01ea861ec53e            5            5       2   \n",
              "00028a1dcb30863404a386961a69300e            4            5       3   \n",
              "0004274683494a9eca5e70ef97299d55            4            2       1   \n",
              "00072f81efcb3481861f7300c5e2a88a            1            2       4   \n",
              "00076596eb749cf10c2e984621dffe95            5            3       1   \n",
              "...                                       ...          ...     ...   \n",
              "fffb2f36eb72ff56d2ef7a2685714f01            4            5       3   \n",
              "fffb50df95231c0f090b5aa3f5332c7f            0            0       0   \n",
              "fffc3f2be1422d248dbeda4196ef0711            2            2       3   \n",
              "fffc477269ae5f219e39aa51fa7abb81            0            0       0   \n",
              "fffd3e78e3ea6bf00aee1372efc09dad            0            0       0   \n",
              "\n",
              "                                  5_total_sum  5_avg_check  5_freq  \\\n",
              "client_id                                                            \n",
              "0000d48a8891cd462fdf01ea861ec53e            2            3       3   \n",
              "00028a1dcb30863404a386961a69300e            5            4       1   \n",
              "0004274683494a9eca5e70ef97299d55            5            2       1   \n",
              "00072f81efcb3481861f7300c5e2a88a            0            0       0   \n",
              "00076596eb749cf10c2e984621dffe95            5            4       1   \n",
              "...                                       ...          ...     ...   \n",
              "fffb2f36eb72ff56d2ef7a2685714f01            5            5       1   \n",
              "fffb50df95231c0f090b5aa3f5332c7f            0            0       0   \n",
              "fffc3f2be1422d248dbeda4196ef0711            0            0       0   \n",
              "fffc477269ae5f219e39aa51fa7abb81            0            0       0   \n",
              "fffd3e78e3ea6bf00aee1372efc09dad            0            0       0   \n",
              "\n",
              "                                  6_total_sum  6_avg_check  6_freq  \\\n",
              "client_id                                                            \n",
              "0000d48a8891cd462fdf01ea861ec53e            5            4       1   \n",
              "00028a1dcb30863404a386961a69300e            0            0       0   \n",
              "0004274683494a9eca5e70ef97299d55            4            1       1   \n",
              "00072f81efcb3481861f7300c5e2a88a            0            0       0   \n",
              "00076596eb749cf10c2e984621dffe95            5            3       1   \n",
              "...                                       ...          ...     ...   \n",
              "fffb2f36eb72ff56d2ef7a2685714f01            3            4       3   \n",
              "fffb50df95231c0f090b5aa3f5332c7f            4            4       3   \n",
              "fffc3f2be1422d248dbeda4196ef0711            0            0       0   \n",
              "fffc477269ae5f219e39aa51fa7abb81            5            5       4   \n",
              "fffd3e78e3ea6bf00aee1372efc09dad            2            3       4   \n",
              "\n",
              "                                  7_total_sum  7_avg_check  7_freq  \\\n",
              "client_id                                                            \n",
              "0000d48a8891cd462fdf01ea861ec53e            4            4       2   \n",
              "00028a1dcb30863404a386961a69300e            2            3       3   \n",
              "0004274683494a9eca5e70ef97299d55            4            1       1   \n",
              "00072f81efcb3481861f7300c5e2a88a            1            1       4   \n",
              "00076596eb749cf10c2e984621dffe95            5            4       1   \n",
              "...                                       ...          ...     ...   \n",
              "fffb2f36eb72ff56d2ef7a2685714f01            3            4       4   \n",
              "fffb50df95231c0f090b5aa3f5332c7f            2            2       3   \n",
              "fffc3f2be1422d248dbeda4196ef0711            3            1       1   \n",
              "fffc477269ae5f219e39aa51fa7abb81            0            0       0   \n",
              "fffd3e78e3ea6bf00aee1372efc09dad            0            0       0   \n",
              "\n",
              "                                  8_total_sum  8_avg_check  8_freq  \\\n",
              "client_id                                                            \n",
              "0000d48a8891cd462fdf01ea861ec53e            5            5       2   \n",
              "00028a1dcb30863404a386961a69300e            5            5       2   \n",
              "0004274683494a9eca5e70ef97299d55            5            1       1   \n",
              "00072f81efcb3481861f7300c5e2a88a            2            3       4   \n",
              "00076596eb749cf10c2e984621dffe95            5            3       1   \n",
              "...                                       ...          ...     ...   \n",
              "fffb2f36eb72ff56d2ef7a2685714f01            4            5       3   \n",
              "fffb50df95231c0f090b5aa3f5332c7f            5            5       4   \n",
              "fffc3f2be1422d248dbeda4196ef0711            3            4       3   \n",
              "fffc477269ae5f219e39aa51fa7abb81            3            5       4   \n",
              "fffd3e78e3ea6bf00aee1372efc09dad            0            0       0   \n",
              "\n",
              "                                  9_total_sum  9_avg_check  9_freq  \\\n",
              "client_id                                                            \n",
              "0000d48a8891cd462fdf01ea861ec53e            5            4       1   \n",
              "00028a1dcb30863404a386961a69300e            5            5       2   \n",
              "0004274683494a9eca5e70ef97299d55            5            2       1   \n",
              "00072f81efcb3481861f7300c5e2a88a            1            1       4   \n",
              "00076596eb749cf10c2e984621dffe95            5            3       1   \n",
              "...                                       ...          ...     ...   \n",
              "fffb2f36eb72ff56d2ef7a2685714f01            5            5       2   \n",
              "fffb50df95231c0f090b5aa3f5332c7f            0            0       0   \n",
              "fffc3f2be1422d248dbeda4196ef0711            4            3       1   \n",
              "fffc477269ae5f219e39aa51fa7abb81            4            5       4   \n",
              "fffd3e78e3ea6bf00aee1372efc09dad            0            0       0   \n",
              "\n",
              "                                  10_total_sum  10_avg_check  10_freq  \\\n",
              "client_id                                                               \n",
              "0000d48a8891cd462fdf01ea861ec53e             5             4        1   \n",
              "00028a1dcb30863404a386961a69300e             3             2        2   \n",
              "0004274683494a9eca5e70ef97299d55             5             2        1   \n",
              "00072f81efcb3481861f7300c5e2a88a             0             0        0   \n",
              "00076596eb749cf10c2e984621dffe95             5             4        1   \n",
              "...                                        ...           ...      ...   \n",
              "fffb2f36eb72ff56d2ef7a2685714f01             3             5        4   \n",
              "fffb50df95231c0f090b5aa3f5332c7f             0             0        0   \n",
              "fffc3f2be1422d248dbeda4196ef0711             4             4        3   \n",
              "fffc477269ae5f219e39aa51fa7abb81             0             0        0   \n",
              "fffd3e78e3ea6bf00aee1372efc09dad             0             0        0   \n",
              "\n",
              "                                  11_total_sum  11_avg_check  11_freq  \\\n",
              "client_id                                                               \n",
              "0000d48a8891cd462fdf01ea861ec53e             5             5        2   \n",
              "00028a1dcb30863404a386961a69300e             3             1        1   \n",
              "0004274683494a9eca5e70ef97299d55             3             1        1   \n",
              "00072f81efcb3481861f7300c5e2a88a             0             0        0   \n",
              "00076596eb749cf10c2e984621dffe95             5             3        1   \n",
              "...                                        ...           ...      ...   \n",
              "fffb2f36eb72ff56d2ef7a2685714f01             0             0        0   \n",
              "fffb50df95231c0f090b5aa3f5332c7f             0             0        0   \n",
              "fffc3f2be1422d248dbeda4196ef0711             4             4        3   \n",
              "fffc477269ae5f219e39aa51fa7abb81             0             0        0   \n",
              "fffd3e78e3ea6bf00aee1372efc09dad             0             0        0   \n",
              "\n",
              "                                  12_total_sum  12_avg_check  12_freq  \\\n",
              "client_id                                                               \n",
              "0000d48a8891cd462fdf01ea861ec53e             0             0        0   \n",
              "00028a1dcb30863404a386961a69300e             2             2        3   \n",
              "0004274683494a9eca5e70ef97299d55             5             2        1   \n",
              "00072f81efcb3481861f7300c5e2a88a             2             4        4   \n",
              "00076596eb749cf10c2e984621dffe95             5             3        1   \n",
              "...                                        ...           ...      ...   \n",
              "fffb2f36eb72ff56d2ef7a2685714f01             2             4        4   \n",
              "fffb50df95231c0f090b5aa3f5332c7f             0             0        0   \n",
              "fffc3f2be1422d248dbeda4196ef0711             1             2        4   \n",
              "fffc477269ae5f219e39aa51fa7abb81             0             0        0   \n",
              "fffd3e78e3ea6bf00aee1372efc09dad             0             0        0   \n",
              "\n",
              "                                  13_total_sum  13_avg_check  13_freq  \n",
              "client_id                                                              \n",
              "0000d48a8891cd462fdf01ea861ec53e             0             0        0  \n",
              "00028a1dcb30863404a386961a69300e             0             0        0  \n",
              "0004274683494a9eca5e70ef97299d55             5             5        1  \n",
              "00072f81efcb3481861f7300c5e2a88a             0             0        0  \n",
              "00076596eb749cf10c2e984621dffe95             5             4        1  \n",
              "...                                        ...           ...      ...  \n",
              "fffb2f36eb72ff56d2ef7a2685714f01             0             0        0  \n",
              "fffb50df95231c0f090b5aa3f5332c7f             0             0        0  \n",
              "fffc3f2be1422d248dbeda4196ef0711             0             0        0  \n",
              "fffc477269ae5f219e39aa51fa7abb81             0             0        0  \n",
              "fffd3e78e3ea6bf00aee1372efc09dad             0             0        0  \n",
              "\n",
              "[100000 rows x 44 columns]"
            ]
          },
          "metadata": {
            "tags": []
          },
          "execution_count": 97
        }
      ]
    },
    {
      "cell_type": "code",
      "metadata": {
        "id": "lDp4XwmdB7rW"
      },
      "source": [
        "df = df[['1_total_sum', '1_avg_check', '1_freq', '2_total_sum', '2_avg_check',\n",
        "       '2_freq', '3_total_sum', '3_avg_check', '3_freq', '4_total_sum',\n",
        "       '4_avg_check', '4_freq', '5_total_sum', '5_avg_check', '5_freq',\n",
        "       '6_total_sum', '6_avg_check', '6_freq', '7_total_sum', '7_avg_check',\n",
        "       '7_freq', '8_total_sum', '8_avg_check', '8_freq', '9_total_sum',\n",
        "       '9_avg_check', '9_freq', '10_total_sum', '10_avg_check', '10_freq',\n",
        "       '11_total_sum', '11_avg_check', '11_freq', '12_total_sum',\n",
        "       '12_avg_check', '12_freq']]"
      ],
      "execution_count": null,
      "outputs": []
    },
    {
      "cell_type": "code",
      "metadata": {
        "colab": {
          "base_uri": "https://localhost:8080/",
          "height": 470
        },
        "id": "a74G3HJjFgR7",
        "outputId": "883d1f7f-a696-46d4-c3a6-fb5007ea9819"
      },
      "source": [
        "df"
      ],
      "execution_count": null,
      "outputs": [
        {
          "output_type": "execute_result",
          "data": {
            "text/html": [
              "<div>\n",
              "<style scoped>\n",
              "    .dataframe tbody tr th:only-of-type {\n",
              "        vertical-align: middle;\n",
              "    }\n",
              "\n",
              "    .dataframe tbody tr th {\n",
              "        vertical-align: top;\n",
              "    }\n",
              "\n",
              "    .dataframe thead th {\n",
              "        text-align: right;\n",
              "    }\n",
              "</style>\n",
              "<table border=\"1\" class=\"dataframe\">\n",
              "  <thead>\n",
              "    <tr style=\"text-align: right;\">\n",
              "      <th></th>\n",
              "      <th>1_total_sum</th>\n",
              "      <th>1_avg_check</th>\n",
              "      <th>1_freq</th>\n",
              "      <th>2_total_sum</th>\n",
              "      <th>2_avg_check</th>\n",
              "      <th>2_freq</th>\n",
              "      <th>3_total_sum</th>\n",
              "      <th>3_avg_check</th>\n",
              "      <th>3_freq</th>\n",
              "      <th>4_total_sum</th>\n",
              "      <th>4_avg_check</th>\n",
              "      <th>4_freq</th>\n",
              "      <th>5_total_sum</th>\n",
              "      <th>5_avg_check</th>\n",
              "      <th>5_freq</th>\n",
              "      <th>6_total_sum</th>\n",
              "      <th>6_avg_check</th>\n",
              "      <th>6_freq</th>\n",
              "      <th>7_total_sum</th>\n",
              "      <th>7_avg_check</th>\n",
              "      <th>7_freq</th>\n",
              "      <th>8_total_sum</th>\n",
              "      <th>8_avg_check</th>\n",
              "      <th>8_freq</th>\n",
              "      <th>9_total_sum</th>\n",
              "      <th>9_avg_check</th>\n",
              "      <th>9_freq</th>\n",
              "      <th>10_total_sum</th>\n",
              "      <th>10_avg_check</th>\n",
              "      <th>10_freq</th>\n",
              "      <th>11_total_sum</th>\n",
              "      <th>11_avg_check</th>\n",
              "      <th>11_freq</th>\n",
              "      <th>12_total_sum</th>\n",
              "      <th>12_avg_check</th>\n",
              "      <th>12_freq</th>\n",
              "    </tr>\n",
              "    <tr>\n",
              "      <th>client_id</th>\n",
              "      <th></th>\n",
              "      <th></th>\n",
              "      <th></th>\n",
              "      <th></th>\n",
              "      <th></th>\n",
              "      <th></th>\n",
              "      <th></th>\n",
              "      <th></th>\n",
              "      <th></th>\n",
              "      <th></th>\n",
              "      <th></th>\n",
              "      <th></th>\n",
              "      <th></th>\n",
              "      <th></th>\n",
              "      <th></th>\n",
              "      <th></th>\n",
              "      <th></th>\n",
              "      <th></th>\n",
              "      <th></th>\n",
              "      <th></th>\n",
              "      <th></th>\n",
              "      <th></th>\n",
              "      <th></th>\n",
              "      <th></th>\n",
              "      <th></th>\n",
              "      <th></th>\n",
              "      <th></th>\n",
              "      <th></th>\n",
              "      <th></th>\n",
              "      <th></th>\n",
              "      <th></th>\n",
              "      <th></th>\n",
              "      <th></th>\n",
              "      <th></th>\n",
              "      <th></th>\n",
              "      <th></th>\n",
              "    </tr>\n",
              "  </thead>\n",
              "  <tbody>\n",
              "    <tr>\n",
              "      <th>0000d48a8891cd462fdf01ea861ec53e</th>\n",
              "      <td>2</td>\n",
              "      <td>4</td>\n",
              "      <td>3</td>\n",
              "      <td>3</td>\n",
              "      <td>5</td>\n",
              "      <td>4</td>\n",
              "      <td>5</td>\n",
              "      <td>4</td>\n",
              "      <td>1</td>\n",
              "      <td>5</td>\n",
              "      <td>5</td>\n",
              "      <td>2</td>\n",
              "      <td>2</td>\n",
              "      <td>3</td>\n",
              "      <td>3</td>\n",
              "      <td>5</td>\n",
              "      <td>4</td>\n",
              "      <td>1</td>\n",
              "      <td>4</td>\n",
              "      <td>4</td>\n",
              "      <td>2</td>\n",
              "      <td>5</td>\n",
              "      <td>5</td>\n",
              "      <td>2</td>\n",
              "      <td>5</td>\n",
              "      <td>4</td>\n",
              "      <td>1</td>\n",
              "      <td>5</td>\n",
              "      <td>4</td>\n",
              "      <td>1</td>\n",
              "      <td>5</td>\n",
              "      <td>5</td>\n",
              "      <td>2</td>\n",
              "      <td>0</td>\n",
              "      <td>0</td>\n",
              "      <td>0</td>\n",
              "    </tr>\n",
              "    <tr>\n",
              "      <th>00028a1dcb30863404a386961a69300e</th>\n",
              "      <td>3</td>\n",
              "      <td>4</td>\n",
              "      <td>2</td>\n",
              "      <td>2</td>\n",
              "      <td>4</td>\n",
              "      <td>4</td>\n",
              "      <td>2</td>\n",
              "      <td>3</td>\n",
              "      <td>4</td>\n",
              "      <td>4</td>\n",
              "      <td>5</td>\n",
              "      <td>3</td>\n",
              "      <td>5</td>\n",
              "      <td>4</td>\n",
              "      <td>1</td>\n",
              "      <td>0</td>\n",
              "      <td>0</td>\n",
              "      <td>0</td>\n",
              "      <td>2</td>\n",
              "      <td>3</td>\n",
              "      <td>3</td>\n",
              "      <td>5</td>\n",
              "      <td>5</td>\n",
              "      <td>2</td>\n",
              "      <td>5</td>\n",
              "      <td>5</td>\n",
              "      <td>2</td>\n",
              "      <td>3</td>\n",
              "      <td>2</td>\n",
              "      <td>2</td>\n",
              "      <td>3</td>\n",
              "      <td>1</td>\n",
              "      <td>1</td>\n",
              "      <td>2</td>\n",
              "      <td>2</td>\n",
              "      <td>3</td>\n",
              "    </tr>\n",
              "    <tr>\n",
              "      <th>0004274683494a9eca5e70ef97299d55</th>\n",
              "      <td>4</td>\n",
              "      <td>1</td>\n",
              "      <td>1</td>\n",
              "      <td>4</td>\n",
              "      <td>2</td>\n",
              "      <td>1</td>\n",
              "      <td>4</td>\n",
              "      <td>2</td>\n",
              "      <td>1</td>\n",
              "      <td>4</td>\n",
              "      <td>2</td>\n",
              "      <td>1</td>\n",
              "      <td>5</td>\n",
              "      <td>2</td>\n",
              "      <td>1</td>\n",
              "      <td>4</td>\n",
              "      <td>1</td>\n",
              "      <td>1</td>\n",
              "      <td>4</td>\n",
              "      <td>1</td>\n",
              "      <td>1</td>\n",
              "      <td>5</td>\n",
              "      <td>1</td>\n",
              "      <td>1</td>\n",
              "      <td>5</td>\n",
              "      <td>2</td>\n",
              "      <td>1</td>\n",
              "      <td>5</td>\n",
              "      <td>2</td>\n",
              "      <td>1</td>\n",
              "      <td>3</td>\n",
              "      <td>1</td>\n",
              "      <td>1</td>\n",
              "      <td>5</td>\n",
              "      <td>2</td>\n",
              "      <td>1</td>\n",
              "    </tr>\n",
              "    <tr>\n",
              "      <th>00072f81efcb3481861f7300c5e2a88a</th>\n",
              "      <td>1</td>\n",
              "      <td>2</td>\n",
              "      <td>3</td>\n",
              "      <td>1</td>\n",
              "      <td>1</td>\n",
              "      <td>3</td>\n",
              "      <td>0</td>\n",
              "      <td>0</td>\n",
              "      <td>0</td>\n",
              "      <td>1</td>\n",
              "      <td>2</td>\n",
              "      <td>4</td>\n",
              "      <td>0</td>\n",
              "      <td>0</td>\n",
              "      <td>0</td>\n",
              "      <td>0</td>\n",
              "      <td>0</td>\n",
              "      <td>0</td>\n",
              "      <td>1</td>\n",
              "      <td>1</td>\n",
              "      <td>4</td>\n",
              "      <td>2</td>\n",
              "      <td>3</td>\n",
              "      <td>4</td>\n",
              "      <td>1</td>\n",
              "      <td>1</td>\n",
              "      <td>4</td>\n",
              "      <td>0</td>\n",
              "      <td>0</td>\n",
              "      <td>0</td>\n",
              "      <td>0</td>\n",
              "      <td>0</td>\n",
              "      <td>0</td>\n",
              "      <td>2</td>\n",
              "      <td>4</td>\n",
              "      <td>4</td>\n",
              "    </tr>\n",
              "    <tr>\n",
              "      <th>00076596eb749cf10c2e984621dffe95</th>\n",
              "      <td>5</td>\n",
              "      <td>3</td>\n",
              "      <td>1</td>\n",
              "      <td>4</td>\n",
              "      <td>5</td>\n",
              "      <td>3</td>\n",
              "      <td>5</td>\n",
              "      <td>3</td>\n",
              "      <td>1</td>\n",
              "      <td>5</td>\n",
              "      <td>3</td>\n",
              "      <td>1</td>\n",
              "      <td>5</td>\n",
              "      <td>4</td>\n",
              "      <td>1</td>\n",
              "      <td>5</td>\n",
              "      <td>3</td>\n",
              "      <td>1</td>\n",
              "      <td>5</td>\n",
              "      <td>4</td>\n",
              "      <td>1</td>\n",
              "      <td>5</td>\n",
              "      <td>3</td>\n",
              "      <td>1</td>\n",
              "      <td>5</td>\n",
              "      <td>3</td>\n",
              "      <td>1</td>\n",
              "      <td>5</td>\n",
              "      <td>4</td>\n",
              "      <td>1</td>\n",
              "      <td>5</td>\n",
              "      <td>3</td>\n",
              "      <td>1</td>\n",
              "      <td>5</td>\n",
              "      <td>3</td>\n",
              "      <td>1</td>\n",
              "    </tr>\n",
              "    <tr>\n",
              "      <th>...</th>\n",
              "      <td>...</td>\n",
              "      <td>...</td>\n",
              "      <td>...</td>\n",
              "      <td>...</td>\n",
              "      <td>...</td>\n",
              "      <td>...</td>\n",
              "      <td>...</td>\n",
              "      <td>...</td>\n",
              "      <td>...</td>\n",
              "      <td>...</td>\n",
              "      <td>...</td>\n",
              "      <td>...</td>\n",
              "      <td>...</td>\n",
              "      <td>...</td>\n",
              "      <td>...</td>\n",
              "      <td>...</td>\n",
              "      <td>...</td>\n",
              "      <td>...</td>\n",
              "      <td>...</td>\n",
              "      <td>...</td>\n",
              "      <td>...</td>\n",
              "      <td>...</td>\n",
              "      <td>...</td>\n",
              "      <td>...</td>\n",
              "      <td>...</td>\n",
              "      <td>...</td>\n",
              "      <td>...</td>\n",
              "      <td>...</td>\n",
              "      <td>...</td>\n",
              "      <td>...</td>\n",
              "      <td>...</td>\n",
              "      <td>...</td>\n",
              "      <td>...</td>\n",
              "      <td>...</td>\n",
              "      <td>...</td>\n",
              "      <td>...</td>\n",
              "    </tr>\n",
              "    <tr>\n",
              "      <th>fffb2f36eb72ff56d2ef7a2685714f01</th>\n",
              "      <td>5</td>\n",
              "      <td>4</td>\n",
              "      <td>1</td>\n",
              "      <td>2</td>\n",
              "      <td>2</td>\n",
              "      <td>3</td>\n",
              "      <td>0</td>\n",
              "      <td>0</td>\n",
              "      <td>0</td>\n",
              "      <td>4</td>\n",
              "      <td>5</td>\n",
              "      <td>3</td>\n",
              "      <td>5</td>\n",
              "      <td>5</td>\n",
              "      <td>1</td>\n",
              "      <td>3</td>\n",
              "      <td>4</td>\n",
              "      <td>3</td>\n",
              "      <td>3</td>\n",
              "      <td>4</td>\n",
              "      <td>4</td>\n",
              "      <td>4</td>\n",
              "      <td>5</td>\n",
              "      <td>3</td>\n",
              "      <td>5</td>\n",
              "      <td>5</td>\n",
              "      <td>2</td>\n",
              "      <td>3</td>\n",
              "      <td>5</td>\n",
              "      <td>4</td>\n",
              "      <td>0</td>\n",
              "      <td>0</td>\n",
              "      <td>0</td>\n",
              "      <td>2</td>\n",
              "      <td>4</td>\n",
              "      <td>4</td>\n",
              "    </tr>\n",
              "    <tr>\n",
              "      <th>fffb50df95231c0f090b5aa3f5332c7f</th>\n",
              "      <td>3</td>\n",
              "      <td>2</td>\n",
              "      <td>2</td>\n",
              "      <td>1</td>\n",
              "      <td>1</td>\n",
              "      <td>3</td>\n",
              "      <td>2</td>\n",
              "      <td>1</td>\n",
              "      <td>2</td>\n",
              "      <td>0</td>\n",
              "      <td>0</td>\n",
              "      <td>0</td>\n",
              "      <td>0</td>\n",
              "      <td>0</td>\n",
              "      <td>0</td>\n",
              "      <td>4</td>\n",
              "      <td>4</td>\n",
              "      <td>3</td>\n",
              "      <td>2</td>\n",
              "      <td>2</td>\n",
              "      <td>3</td>\n",
              "      <td>5</td>\n",
              "      <td>5</td>\n",
              "      <td>4</td>\n",
              "      <td>0</td>\n",
              "      <td>0</td>\n",
              "      <td>0</td>\n",
              "      <td>0</td>\n",
              "      <td>0</td>\n",
              "      <td>0</td>\n",
              "      <td>0</td>\n",
              "      <td>0</td>\n",
              "      <td>0</td>\n",
              "      <td>0</td>\n",
              "      <td>0</td>\n",
              "      <td>0</td>\n",
              "    </tr>\n",
              "    <tr>\n",
              "      <th>fffc3f2be1422d248dbeda4196ef0711</th>\n",
              "      <td>2</td>\n",
              "      <td>1</td>\n",
              "      <td>2</td>\n",
              "      <td>4</td>\n",
              "      <td>4</td>\n",
              "      <td>2</td>\n",
              "      <td>3</td>\n",
              "      <td>3</td>\n",
              "      <td>3</td>\n",
              "      <td>2</td>\n",
              "      <td>2</td>\n",
              "      <td>3</td>\n",
              "      <td>0</td>\n",
              "      <td>0</td>\n",
              "      <td>0</td>\n",
              "      <td>0</td>\n",
              "      <td>0</td>\n",
              "      <td>0</td>\n",
              "      <td>3</td>\n",
              "      <td>1</td>\n",
              "      <td>1</td>\n",
              "      <td>3</td>\n",
              "      <td>4</td>\n",
              "      <td>3</td>\n",
              "      <td>4</td>\n",
              "      <td>3</td>\n",
              "      <td>1</td>\n",
              "      <td>4</td>\n",
              "      <td>4</td>\n",
              "      <td>3</td>\n",
              "      <td>4</td>\n",
              "      <td>4</td>\n",
              "      <td>3</td>\n",
              "      <td>1</td>\n",
              "      <td>2</td>\n",
              "      <td>4</td>\n",
              "    </tr>\n",
              "    <tr>\n",
              "      <th>fffc477269ae5f219e39aa51fa7abb81</th>\n",
              "      <td>5</td>\n",
              "      <td>5</td>\n",
              "      <td>3</td>\n",
              "      <td>5</td>\n",
              "      <td>5</td>\n",
              "      <td>4</td>\n",
              "      <td>0</td>\n",
              "      <td>0</td>\n",
              "      <td>0</td>\n",
              "      <td>0</td>\n",
              "      <td>0</td>\n",
              "      <td>0</td>\n",
              "      <td>0</td>\n",
              "      <td>0</td>\n",
              "      <td>0</td>\n",
              "      <td>5</td>\n",
              "      <td>5</td>\n",
              "      <td>4</td>\n",
              "      <td>0</td>\n",
              "      <td>0</td>\n",
              "      <td>0</td>\n",
              "      <td>3</td>\n",
              "      <td>5</td>\n",
              "      <td>4</td>\n",
              "      <td>4</td>\n",
              "      <td>5</td>\n",
              "      <td>4</td>\n",
              "      <td>0</td>\n",
              "      <td>0</td>\n",
              "      <td>0</td>\n",
              "      <td>0</td>\n",
              "      <td>0</td>\n",
              "      <td>0</td>\n",
              "      <td>0</td>\n",
              "      <td>0</td>\n",
              "      <td>0</td>\n",
              "    </tr>\n",
              "    <tr>\n",
              "      <th>fffd3e78e3ea6bf00aee1372efc09dad</th>\n",
              "      <td>2</td>\n",
              "      <td>3</td>\n",
              "      <td>3</td>\n",
              "      <td>0</td>\n",
              "      <td>0</td>\n",
              "      <td>0</td>\n",
              "      <td>1</td>\n",
              "      <td>1</td>\n",
              "      <td>4</td>\n",
              "      <td>0</td>\n",
              "      <td>0</td>\n",
              "      <td>0</td>\n",
              "      <td>0</td>\n",
              "      <td>0</td>\n",
              "      <td>0</td>\n",
              "      <td>2</td>\n",
              "      <td>3</td>\n",
              "      <td>4</td>\n",
              "      <td>0</td>\n",
              "      <td>0</td>\n",
              "      <td>0</td>\n",
              "      <td>0</td>\n",
              "      <td>0</td>\n",
              "      <td>0</td>\n",
              "      <td>0</td>\n",
              "      <td>0</td>\n",
              "      <td>0</td>\n",
              "      <td>0</td>\n",
              "      <td>0</td>\n",
              "      <td>0</td>\n",
              "      <td>0</td>\n",
              "      <td>0</td>\n",
              "      <td>0</td>\n",
              "      <td>0</td>\n",
              "      <td>0</td>\n",
              "      <td>0</td>\n",
              "    </tr>\n",
              "  </tbody>\n",
              "</table>\n",
              "<p>100000 rows × 36 columns</p>\n",
              "</div>"
            ],
            "text/plain": [
              "                                  1_total_sum  1_avg_check  1_freq  \\\n",
              "client_id                                                            \n",
              "0000d48a8891cd462fdf01ea861ec53e            2            4       3   \n",
              "00028a1dcb30863404a386961a69300e            3            4       2   \n",
              "0004274683494a9eca5e70ef97299d55            4            1       1   \n",
              "00072f81efcb3481861f7300c5e2a88a            1            2       3   \n",
              "00076596eb749cf10c2e984621dffe95            5            3       1   \n",
              "...                                       ...          ...     ...   \n",
              "fffb2f36eb72ff56d2ef7a2685714f01            5            4       1   \n",
              "fffb50df95231c0f090b5aa3f5332c7f            3            2       2   \n",
              "fffc3f2be1422d248dbeda4196ef0711            2            1       2   \n",
              "fffc477269ae5f219e39aa51fa7abb81            5            5       3   \n",
              "fffd3e78e3ea6bf00aee1372efc09dad            2            3       3   \n",
              "\n",
              "                                  2_total_sum  2_avg_check  2_freq  \\\n",
              "client_id                                                            \n",
              "0000d48a8891cd462fdf01ea861ec53e            3            5       4   \n",
              "00028a1dcb30863404a386961a69300e            2            4       4   \n",
              "0004274683494a9eca5e70ef97299d55            4            2       1   \n",
              "00072f81efcb3481861f7300c5e2a88a            1            1       3   \n",
              "00076596eb749cf10c2e984621dffe95            4            5       3   \n",
              "...                                       ...          ...     ...   \n",
              "fffb2f36eb72ff56d2ef7a2685714f01            2            2       3   \n",
              "fffb50df95231c0f090b5aa3f5332c7f            1            1       3   \n",
              "fffc3f2be1422d248dbeda4196ef0711            4            4       2   \n",
              "fffc477269ae5f219e39aa51fa7abb81            5            5       4   \n",
              "fffd3e78e3ea6bf00aee1372efc09dad            0            0       0   \n",
              "\n",
              "                                  3_total_sum  3_avg_check  3_freq  \\\n",
              "client_id                                                            \n",
              "0000d48a8891cd462fdf01ea861ec53e            5            4       1   \n",
              "00028a1dcb30863404a386961a69300e            2            3       4   \n",
              "0004274683494a9eca5e70ef97299d55            4            2       1   \n",
              "00072f81efcb3481861f7300c5e2a88a            0            0       0   \n",
              "00076596eb749cf10c2e984621dffe95            5            3       1   \n",
              "...                                       ...          ...     ...   \n",
              "fffb2f36eb72ff56d2ef7a2685714f01            0            0       0   \n",
              "fffb50df95231c0f090b5aa3f5332c7f            2            1       2   \n",
              "fffc3f2be1422d248dbeda4196ef0711            3            3       3   \n",
              "fffc477269ae5f219e39aa51fa7abb81            0            0       0   \n",
              "fffd3e78e3ea6bf00aee1372efc09dad            1            1       4   \n",
              "\n",
              "                                  4_total_sum  4_avg_check  4_freq  \\\n",
              "client_id                                                            \n",
              "0000d48a8891cd462fdf01ea861ec53e            5            5       2   \n",
              "00028a1dcb30863404a386961a69300e            4            5       3   \n",
              "0004274683494a9eca5e70ef97299d55            4            2       1   \n",
              "00072f81efcb3481861f7300c5e2a88a            1            2       4   \n",
              "00076596eb749cf10c2e984621dffe95            5            3       1   \n",
              "...                                       ...          ...     ...   \n",
              "fffb2f36eb72ff56d2ef7a2685714f01            4            5       3   \n",
              "fffb50df95231c0f090b5aa3f5332c7f            0            0       0   \n",
              "fffc3f2be1422d248dbeda4196ef0711            2            2       3   \n",
              "fffc477269ae5f219e39aa51fa7abb81            0            0       0   \n",
              "fffd3e78e3ea6bf00aee1372efc09dad            0            0       0   \n",
              "\n",
              "                                  5_total_sum  5_avg_check  5_freq  \\\n",
              "client_id                                                            \n",
              "0000d48a8891cd462fdf01ea861ec53e            2            3       3   \n",
              "00028a1dcb30863404a386961a69300e            5            4       1   \n",
              "0004274683494a9eca5e70ef97299d55            5            2       1   \n",
              "00072f81efcb3481861f7300c5e2a88a            0            0       0   \n",
              "00076596eb749cf10c2e984621dffe95            5            4       1   \n",
              "...                                       ...          ...     ...   \n",
              "fffb2f36eb72ff56d2ef7a2685714f01            5            5       1   \n",
              "fffb50df95231c0f090b5aa3f5332c7f            0            0       0   \n",
              "fffc3f2be1422d248dbeda4196ef0711            0            0       0   \n",
              "fffc477269ae5f219e39aa51fa7abb81            0            0       0   \n",
              "fffd3e78e3ea6bf00aee1372efc09dad            0            0       0   \n",
              "\n",
              "                                  6_total_sum  6_avg_check  6_freq  \\\n",
              "client_id                                                            \n",
              "0000d48a8891cd462fdf01ea861ec53e            5            4       1   \n",
              "00028a1dcb30863404a386961a69300e            0            0       0   \n",
              "0004274683494a9eca5e70ef97299d55            4            1       1   \n",
              "00072f81efcb3481861f7300c5e2a88a            0            0       0   \n",
              "00076596eb749cf10c2e984621dffe95            5            3       1   \n",
              "...                                       ...          ...     ...   \n",
              "fffb2f36eb72ff56d2ef7a2685714f01            3            4       3   \n",
              "fffb50df95231c0f090b5aa3f5332c7f            4            4       3   \n",
              "fffc3f2be1422d248dbeda4196ef0711            0            0       0   \n",
              "fffc477269ae5f219e39aa51fa7abb81            5            5       4   \n",
              "fffd3e78e3ea6bf00aee1372efc09dad            2            3       4   \n",
              "\n",
              "                                  7_total_sum  7_avg_check  7_freq  \\\n",
              "client_id                                                            \n",
              "0000d48a8891cd462fdf01ea861ec53e            4            4       2   \n",
              "00028a1dcb30863404a386961a69300e            2            3       3   \n",
              "0004274683494a9eca5e70ef97299d55            4            1       1   \n",
              "00072f81efcb3481861f7300c5e2a88a            1            1       4   \n",
              "00076596eb749cf10c2e984621dffe95            5            4       1   \n",
              "...                                       ...          ...     ...   \n",
              "fffb2f36eb72ff56d2ef7a2685714f01            3            4       4   \n",
              "fffb50df95231c0f090b5aa3f5332c7f            2            2       3   \n",
              "fffc3f2be1422d248dbeda4196ef0711            3            1       1   \n",
              "fffc477269ae5f219e39aa51fa7abb81            0            0       0   \n",
              "fffd3e78e3ea6bf00aee1372efc09dad            0            0       0   \n",
              "\n",
              "                                  8_total_sum  8_avg_check  8_freq  \\\n",
              "client_id                                                            \n",
              "0000d48a8891cd462fdf01ea861ec53e            5            5       2   \n",
              "00028a1dcb30863404a386961a69300e            5            5       2   \n",
              "0004274683494a9eca5e70ef97299d55            5            1       1   \n",
              "00072f81efcb3481861f7300c5e2a88a            2            3       4   \n",
              "00076596eb749cf10c2e984621dffe95            5            3       1   \n",
              "...                                       ...          ...     ...   \n",
              "fffb2f36eb72ff56d2ef7a2685714f01            4            5       3   \n",
              "fffb50df95231c0f090b5aa3f5332c7f            5            5       4   \n",
              "fffc3f2be1422d248dbeda4196ef0711            3            4       3   \n",
              "fffc477269ae5f219e39aa51fa7abb81            3            5       4   \n",
              "fffd3e78e3ea6bf00aee1372efc09dad            0            0       0   \n",
              "\n",
              "                                  9_total_sum  9_avg_check  9_freq  \\\n",
              "client_id                                                            \n",
              "0000d48a8891cd462fdf01ea861ec53e            5            4       1   \n",
              "00028a1dcb30863404a386961a69300e            5            5       2   \n",
              "0004274683494a9eca5e70ef97299d55            5            2       1   \n",
              "00072f81efcb3481861f7300c5e2a88a            1            1       4   \n",
              "00076596eb749cf10c2e984621dffe95            5            3       1   \n",
              "...                                       ...          ...     ...   \n",
              "fffb2f36eb72ff56d2ef7a2685714f01            5            5       2   \n",
              "fffb50df95231c0f090b5aa3f5332c7f            0            0       0   \n",
              "fffc3f2be1422d248dbeda4196ef0711            4            3       1   \n",
              "fffc477269ae5f219e39aa51fa7abb81            4            5       4   \n",
              "fffd3e78e3ea6bf00aee1372efc09dad            0            0       0   \n",
              "\n",
              "                                  10_total_sum  10_avg_check  10_freq  \\\n",
              "client_id                                                               \n",
              "0000d48a8891cd462fdf01ea861ec53e             5             4        1   \n",
              "00028a1dcb30863404a386961a69300e             3             2        2   \n",
              "0004274683494a9eca5e70ef97299d55             5             2        1   \n",
              "00072f81efcb3481861f7300c5e2a88a             0             0        0   \n",
              "00076596eb749cf10c2e984621dffe95             5             4        1   \n",
              "...                                        ...           ...      ...   \n",
              "fffb2f36eb72ff56d2ef7a2685714f01             3             5        4   \n",
              "fffb50df95231c0f090b5aa3f5332c7f             0             0        0   \n",
              "fffc3f2be1422d248dbeda4196ef0711             4             4        3   \n",
              "fffc477269ae5f219e39aa51fa7abb81             0             0        0   \n",
              "fffd3e78e3ea6bf00aee1372efc09dad             0             0        0   \n",
              "\n",
              "                                  11_total_sum  11_avg_check  11_freq  \\\n",
              "client_id                                                               \n",
              "0000d48a8891cd462fdf01ea861ec53e             5             5        2   \n",
              "00028a1dcb30863404a386961a69300e             3             1        1   \n",
              "0004274683494a9eca5e70ef97299d55             3             1        1   \n",
              "00072f81efcb3481861f7300c5e2a88a             0             0        0   \n",
              "00076596eb749cf10c2e984621dffe95             5             3        1   \n",
              "...                                        ...           ...      ...   \n",
              "fffb2f36eb72ff56d2ef7a2685714f01             0             0        0   \n",
              "fffb50df95231c0f090b5aa3f5332c7f             0             0        0   \n",
              "fffc3f2be1422d248dbeda4196ef0711             4             4        3   \n",
              "fffc477269ae5f219e39aa51fa7abb81             0             0        0   \n",
              "fffd3e78e3ea6bf00aee1372efc09dad             0             0        0   \n",
              "\n",
              "                                  12_total_sum  12_avg_check  12_freq  \n",
              "client_id                                                              \n",
              "0000d48a8891cd462fdf01ea861ec53e             0             0        0  \n",
              "00028a1dcb30863404a386961a69300e             2             2        3  \n",
              "0004274683494a9eca5e70ef97299d55             5             2        1  \n",
              "00072f81efcb3481861f7300c5e2a88a             2             4        4  \n",
              "00076596eb749cf10c2e984621dffe95             5             3        1  \n",
              "...                                        ...           ...      ...  \n",
              "fffb2f36eb72ff56d2ef7a2685714f01             2             4        4  \n",
              "fffb50df95231c0f090b5aa3f5332c7f             0             0        0  \n",
              "fffc3f2be1422d248dbeda4196ef0711             1             2        4  \n",
              "fffc477269ae5f219e39aa51fa7abb81             0             0        0  \n",
              "fffd3e78e3ea6bf00aee1372efc09dad             0             0        0  \n",
              "\n",
              "[100000 rows x 36 columns]"
            ]
          },
          "metadata": {
            "tags": []
          },
          "execution_count": 99
        }
      ]
    },
    {
      "cell_type": "markdown",
      "metadata": {
        "id": "Vh8teB7iGKp1"
      },
      "source": [
        "# Train Test Split"
      ]
    },
    {
      "cell_type": "code",
      "metadata": {
        "id": "zXEma3UcGhX0"
      },
      "source": [
        "def train_test_split(df, t, size):\n",
        "  X_train_cols = [x for x in df.columns if t-size <= int(x.split('_')[0]) < t]\n",
        "  X_test_cols = [x for x in df.columns if t+1-size <= int(x.split('_')[0]) < t+1]\n",
        "\n",
        "  y_train_cols = [x for x in df.columns[::3] if int(x.split('_')[0]) == t]\n",
        "  y_test_cols = [x for x in df.columns[::3] if int(x.split('_')[0]) == t+1]\n",
        "\n",
        "  X_train = df[X_train_cols].values\n",
        "  X_test = df[X_test_cols].values\n",
        "  y_train = np.where(df[y_train_cols] != 0, 0, 1)\n",
        "  y_test = np.where(df[y_test_cols] != 0, 0, 1)\n",
        "\n",
        "  return X_train, X_test, y_train, y_test"
      ],
      "execution_count": null,
      "outputs": []
    },
    {
      "cell_type": "code",
      "metadata": {
        "id": "5BfzE5MOV4OM"
      },
      "source": [
        "X_train, X_test, y_train, y_test = train_test_split(df=df, t=7, size=6)"
      ],
      "execution_count": null,
      "outputs": []
    },
    {
      "cell_type": "code",
      "metadata": {
        "id": "52BTYpX-D9WL",
        "colab": {
          "base_uri": "https://localhost:8080/"
        },
        "outputId": "58a96dad-078c-4b78-fc9f-ec0744cdc0dc"
      },
      "source": [
        "! pip install catboost"
      ],
      "execution_count": null,
      "outputs": [
        {
          "output_type": "stream",
          "text": [
            "Collecting catboost\n",
            "\u001b[?25l  Downloading https://files.pythonhosted.org/packages/20/37/bc4e0ddc30c07a96482abf1de7ed1ca54e59bba2026a33bca6d2ef286e5b/catboost-0.24.4-cp36-none-manylinux1_x86_64.whl (65.7MB)\n",
            "\u001b[K     |████████████████████████████████| 65.8MB 126kB/s \n",
            "\u001b[?25hRequirement already satisfied: scipy in /usr/local/lib/python3.6/dist-packages (from catboost) (1.4.1)\n",
            "Requirement already satisfied: pandas>=0.24.0 in /usr/local/lib/python3.6/dist-packages (from catboost) (1.1.5)\n",
            "Requirement already satisfied: six in /usr/local/lib/python3.6/dist-packages (from catboost) (1.15.0)\n",
            "Requirement already satisfied: numpy>=1.16.0 in /usr/local/lib/python3.6/dist-packages (from catboost) (1.19.5)\n",
            "Requirement already satisfied: graphviz in /usr/local/lib/python3.6/dist-packages (from catboost) (0.10.1)\n",
            "Requirement already satisfied: matplotlib in /usr/local/lib/python3.6/dist-packages (from catboost) (3.2.2)\n",
            "Requirement already satisfied: plotly in /usr/local/lib/python3.6/dist-packages (from catboost) (4.4.1)\n",
            "Requirement already satisfied: python-dateutil>=2.7.3 in /usr/local/lib/python3.6/dist-packages (from pandas>=0.24.0->catboost) (2.8.1)\n",
            "Requirement already satisfied: pytz>=2017.2 in /usr/local/lib/python3.6/dist-packages (from pandas>=0.24.0->catboost) (2018.9)\n",
            "Requirement already satisfied: cycler>=0.10 in /usr/local/lib/python3.6/dist-packages (from matplotlib->catboost) (0.10.0)\n",
            "Requirement already satisfied: kiwisolver>=1.0.1 in /usr/local/lib/python3.6/dist-packages (from matplotlib->catboost) (1.3.1)\n",
            "Requirement already satisfied: pyparsing!=2.0.4,!=2.1.2,!=2.1.6,>=2.0.1 in /usr/local/lib/python3.6/dist-packages (from matplotlib->catboost) (2.4.7)\n",
            "Requirement already satisfied: retrying>=1.3.3 in /usr/local/lib/python3.6/dist-packages (from plotly->catboost) (1.3.3)\n",
            "Installing collected packages: catboost\n",
            "Successfully installed catboost-0.24.4\n"
          ],
          "name": "stdout"
        }
      ]
    },
    {
      "cell_type": "code",
      "metadata": {
        "id": "RuFYtio7EoVI"
      },
      "source": [
        "from catboost import CatBoostClassifier"
      ],
      "execution_count": null,
      "outputs": []
    },
    {
      "cell_type": "code",
      "metadata": {
        "id": "cWW7yuns07Y3"
      },
      "source": [
        "from sklearn.metrics import classification_report, precision_score, recall_score, f1_score, roc_auc_score"
      ],
      "execution_count": null,
      "outputs": []
    },
    {
      "cell_type": "code",
      "metadata": {
        "id": "u3IiRElWEo3n"
      },
      "source": [
        "model = CatBoostClassifier(#iterations=500,\n",
        "                           #learning_rate=0.1,\n",
        "                           train_dir = '/content')"
      ],
      "execution_count": null,
      "outputs": []
    },
    {
      "cell_type": "code",
      "metadata": {
        "id": "nqUMXd4MEpU_",
        "colab": {
          "base_uri": "https://localhost:8080/"
        },
        "outputId": "c5c07fba-d85a-4783-b207-977b3b636291"
      },
      "source": [
        "model.fit(X_train, y_train, verbose=100)"
      ],
      "execution_count": null,
      "outputs": [
        {
          "output_type": "stream",
          "text": [
            "Learning rate set to 0.07361\n",
            "0:\tlearn: 0.6570559\ttotal: 46.9ms\tremaining: 46.8s\n",
            "100:\tlearn: 0.4672346\ttotal: 4.26s\tremaining: 37.9s\n",
            "200:\tlearn: 0.4628057\ttotal: 8.57s\tremaining: 34.1s\n",
            "300:\tlearn: 0.4585382\ttotal: 13s\tremaining: 30.1s\n",
            "400:\tlearn: 0.4546992\ttotal: 17.3s\tremaining: 25.9s\n",
            "500:\tlearn: 0.4512133\ttotal: 21.7s\tremaining: 21.7s\n",
            "600:\tlearn: 0.4478470\ttotal: 26s\tremaining: 17.3s\n",
            "700:\tlearn: 0.4446696\ttotal: 30.4s\tremaining: 13s\n",
            "800:\tlearn: 0.4417213\ttotal: 34.7s\tremaining: 8.63s\n",
            "900:\tlearn: 0.4389128\ttotal: 39.1s\tremaining: 4.29s\n",
            "999:\tlearn: 0.4361529\ttotal: 43.3s\tremaining: 0us\n"
          ],
          "name": "stdout"
        },
        {
          "output_type": "execute_result",
          "data": {
            "text/plain": [
              "<catboost.core.CatBoostClassifier at 0x7f8dda998358>"
            ]
          },
          "metadata": {
            "tags": []
          },
          "execution_count": 111
        }
      ]
    },
    {
      "cell_type": "code",
      "metadata": {
        "id": "lPUHcibOH2hv",
        "colab": {
          "base_uri": "https://localhost:8080/"
        },
        "outputId": "b34e6cd3-07ed-4b07-901a-97e0a4a184ed"
      },
      "source": [
        "y_pred_train = model.predict(X_train)\n",
        "print('TRAIN SCORES')\n",
        "print(classification_report(y_train, y_pred_train))"
      ],
      "execution_count": null,
      "outputs": [
        {
          "output_type": "stream",
          "text": [
            "TRAIN SCORES\n",
            "              precision    recall  f1-score   support\n",
            "\n",
            "           0       0.82      0.86      0.84     66318\n",
            "           1       0.70      0.63      0.67     33682\n",
            "\n",
            "    accuracy                           0.79    100000\n",
            "   macro avg       0.76      0.75      0.75    100000\n",
            "weighted avg       0.78      0.79      0.78    100000\n",
            "\n"
          ],
          "name": "stdout"
        }
      ]
    },
    {
      "cell_type": "code",
      "metadata": {
        "id": "R1ftQg5oEqnY",
        "colab": {
          "base_uri": "https://localhost:8080/"
        },
        "outputId": "df910807-0db0-43ce-d28a-7b09ffae10bc"
      },
      "source": [
        "y_pred_test = model.predict(X_test)\n",
        "print('TEST SCORES')\n",
        "print(classification_report(y_test, y_pred_test))"
      ],
      "execution_count": null,
      "outputs": [
        {
          "output_type": "stream",
          "text": [
            "TEST SCORES\n",
            "              precision    recall  f1-score   support\n",
            "\n",
            "           0       0.79      0.86      0.82     62648\n",
            "           1       0.72      0.61      0.66     37352\n",
            "\n",
            "    accuracy                           0.76    100000\n",
            "   macro avg       0.75      0.73      0.74    100000\n",
            "weighted avg       0.76      0.76      0.76    100000\n",
            "\n"
          ],
          "name": "stdout"
        }
      ]
    },
    {
      "cell_type": "code",
      "metadata": {
        "colab": {
          "base_uri": "https://localhost:8080/"
        },
        "id": "3jk5FGqaaIx_",
        "outputId": "71d26a27-9013-416d-81f2-9761816a5eb7"
      },
      "source": [
        "precisions = []\n",
        "recalls = []\n",
        "rocs = []\n",
        "f1s = []\n",
        "for t in range(7,13):\n",
        "  X_train, X_test, y_train, y_test = train_test_split(df, t, 6)\n",
        "  model.fit(X_train, y_train, verbose=100)\n",
        "  y_pred_train = model.predict(X_train)\n",
        "\n",
        "  precisions.append(precision_score(y_train, y_pred_train))\n",
        "  recalls.append(recall_score(y_train, y_pred_train))\n",
        "  rocs.append(roc_auc_score(y_train, y_pred_train))\n",
        "  f1s.append(f1_score(y_train, y_pred_train))"
      ],
      "execution_count": null,
      "outputs": [
        {
          "output_type": "stream",
          "text": [
            "Learning rate set to 0.07361\n",
            "0:\tlearn: 0.6570559\ttotal: 40ms\tremaining: 39.9s\n",
            "100:\tlearn: 0.4672346\ttotal: 4.24s\tremaining: 37.8s\n",
            "200:\tlearn: 0.4628057\ttotal: 8.55s\tremaining: 34s\n",
            "300:\tlearn: 0.4585382\ttotal: 12.9s\tremaining: 30s\n",
            "400:\tlearn: 0.4546992\ttotal: 17.3s\tremaining: 25.9s\n",
            "500:\tlearn: 0.4512133\ttotal: 21.7s\tremaining: 21.6s\n",
            "600:\tlearn: 0.4478470\ttotal: 26.1s\tremaining: 17.3s\n",
            "700:\tlearn: 0.4446696\ttotal: 30.5s\tremaining: 13s\n",
            "800:\tlearn: 0.4417213\ttotal: 34.9s\tremaining: 8.68s\n",
            "900:\tlearn: 0.4389128\ttotal: 39.4s\tremaining: 4.32s\n",
            "999:\tlearn: 0.4361529\ttotal: 43.7s\tremaining: 0us\n",
            "Learning rate set to 0.07361\n",
            "0:\tlearn: 0.6553661\ttotal: 40.4ms\tremaining: 40.4s\n",
            "100:\tlearn: 0.4598914\ttotal: 4.24s\tremaining: 37.8s\n",
            "200:\tlearn: 0.4554405\ttotal: 8.71s\tremaining: 34.6s\n",
            "300:\tlearn: 0.4510419\ttotal: 13.2s\tremaining: 30.6s\n",
            "400:\tlearn: 0.4471065\ttotal: 17.7s\tremaining: 26.5s\n",
            "500:\tlearn: 0.4435239\ttotal: 22.2s\tremaining: 22.2s\n",
            "600:\tlearn: 0.4401104\ttotal: 26.7s\tremaining: 17.7s\n",
            "700:\tlearn: 0.4368809\ttotal: 31.2s\tremaining: 13.3s\n",
            "800:\tlearn: 0.4338731\ttotal: 35.7s\tremaining: 8.86s\n",
            "900:\tlearn: 0.4309600\ttotal: 40.1s\tremaining: 4.4s\n",
            "999:\tlearn: 0.4282844\ttotal: 44.5s\tremaining: 0us\n",
            "Learning rate set to 0.07361\n",
            "0:\tlearn: 0.6530536\ttotal: 40.4ms\tremaining: 40.3s\n",
            "100:\tlearn: 0.4493769\ttotal: 4.4s\tremaining: 39.2s\n",
            "200:\tlearn: 0.4448446\ttotal: 8.77s\tremaining: 34.9s\n",
            "300:\tlearn: 0.4403579\ttotal: 13.3s\tremaining: 30.9s\n",
            "400:\tlearn: 0.4363370\ttotal: 17.7s\tremaining: 26.5s\n",
            "500:\tlearn: 0.4327052\ttotal: 22.1s\tremaining: 22s\n",
            "600:\tlearn: 0.4292861\ttotal: 26.6s\tremaining: 17.6s\n",
            "700:\tlearn: 0.4261926\ttotal: 30.9s\tremaining: 13.2s\n",
            "800:\tlearn: 0.4232625\ttotal: 35.4s\tremaining: 8.79s\n",
            "900:\tlearn: 0.4204647\ttotal: 39.9s\tremaining: 4.38s\n",
            "999:\tlearn: 0.4177558\ttotal: 44.4s\tremaining: 0us\n",
            "Learning rate set to 0.07361\n",
            "0:\tlearn: 0.6670867\ttotal: 42.9ms\tremaining: 42.9s\n",
            "100:\tlearn: 0.5133445\ttotal: 4.36s\tremaining: 38.8s\n",
            "200:\tlearn: 0.5087225\ttotal: 8.73s\tremaining: 34.7s\n",
            "300:\tlearn: 0.5042332\ttotal: 13.1s\tremaining: 30.5s\n",
            "400:\tlearn: 0.5001114\ttotal: 17.5s\tremaining: 26.2s\n",
            "500:\tlearn: 0.4964615\ttotal: 22s\tremaining: 21.9s\n",
            "600:\tlearn: 0.4930436\ttotal: 26.4s\tremaining: 17.5s\n",
            "700:\tlearn: 0.4896650\ttotal: 30.9s\tremaining: 13.2s\n",
            "800:\tlearn: 0.4866191\ttotal: 35.5s\tremaining: 8.82s\n",
            "900:\tlearn: 0.4837111\ttotal: 40s\tremaining: 4.39s\n",
            "999:\tlearn: 0.4808271\ttotal: 44.5s\tremaining: 0us\n",
            "Learning rate set to 0.07361\n",
            "0:\tlearn: 0.6574798\ttotal: 39.3ms\tremaining: 39.3s\n",
            "100:\tlearn: 0.4695987\ttotal: 4.38s\tremaining: 39s\n",
            "200:\tlearn: 0.4651883\ttotal: 8.8s\tremaining: 35s\n",
            "300:\tlearn: 0.4608374\ttotal: 13.5s\tremaining: 31.3s\n",
            "400:\tlearn: 0.4567731\ttotal: 17.9s\tremaining: 26.8s\n",
            "500:\tlearn: 0.4532152\ttotal: 22.3s\tremaining: 22.2s\n",
            "600:\tlearn: 0.4498829\ttotal: 26.7s\tremaining: 17.7s\n",
            "700:\tlearn: 0.4468309\ttotal: 31.1s\tremaining: 13.3s\n",
            "800:\tlearn: 0.4439300\ttotal: 35.5s\tremaining: 8.81s\n",
            "900:\tlearn: 0.4410680\ttotal: 39.9s\tremaining: 4.38s\n",
            "999:\tlearn: 0.4383898\ttotal: 44.3s\tremaining: 0us\n",
            "Learning rate set to 0.07361\n",
            "0:\tlearn: 0.6571959\ttotal: 40.6ms\tremaining: 40.6s\n",
            "100:\tlearn: 0.4711592\ttotal: 4.21s\tremaining: 37.4s\n",
            "200:\tlearn: 0.4669368\ttotal: 8.87s\tremaining: 35.3s\n",
            "300:\tlearn: 0.4625631\ttotal: 13.3s\tremaining: 30.8s\n",
            "400:\tlearn: 0.4586797\ttotal: 17.6s\tremaining: 26.4s\n",
            "500:\tlearn: 0.4551335\ttotal: 22s\tremaining: 21.9s\n",
            "600:\tlearn: 0.4517894\ttotal: 26.4s\tremaining: 17.5s\n",
            "700:\tlearn: 0.4486359\ttotal: 30.7s\tremaining: 13.1s\n",
            "800:\tlearn: 0.4456567\ttotal: 35s\tremaining: 8.7s\n",
            "900:\tlearn: 0.4428746\ttotal: 39.4s\tremaining: 4.33s\n",
            "999:\tlearn: 0.4402435\ttotal: 43.8s\tremaining: 0us\n"
          ],
          "name": "stdout"
        }
      ]
    },
    {
      "cell_type": "code",
      "metadata": {
        "colab": {
          "base_uri": "https://localhost:8080/"
        },
        "id": "tSITj8jGbC4o",
        "outputId": "ca94533b-6e06-48e4-ef39-1a6fc3ce8810"
      },
      "source": [
        "print(f'Precision score = {np.array(precisions).mean()}.')\n",
        "print(f'Recall score = {np.array(recalls).mean()}.')\n",
        "print(f'Roc-Auc score = {np.array(rocs).mean()}.')\n",
        "print(f'F1 score = {np.array(f1s).mean()}.')"
      ],
      "execution_count": null,
      "outputs": [
        {
          "output_type": "stream",
          "text": [
            "Precision score = 0.7411199130820608.\n",
            "Recall score = 0.7384987576113335.\n",
            "Roc-Auc score = 0.7787199096266924.\n",
            "F1 score = 0.7392138502015485.\n"
          ],
          "name": "stdout"
        }
      ]
    },
    {
      "cell_type": "code",
      "metadata": {
        "id": "qKXmkbLldwno"
      },
      "source": [
        ""
      ],
      "execution_count": null,
      "outputs": []
    }
  ]
}